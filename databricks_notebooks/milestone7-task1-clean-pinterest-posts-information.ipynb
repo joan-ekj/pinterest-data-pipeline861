{
 "cells": [
  {
   "cell_type": "code",
   "execution_count": 0,
   "metadata": {
    "application/vnd.databricks.v1+cell": {
     "cellMetadata": {
      "byteLimit": 2048000,
      "rowLimit": 10000
     },
     "inputWidgets": {},
     "nuid": "15a2c8ff-367d-4140-a06c-21e27b35a97e",
     "showTitle": false,
     "title": ""
    }
   },
   "outputs": [
    {
     "output_type": "display_data",
     "data": {
      "text/html": [
       "<style scoped>\n",
       "  .ansiout {\n",
       "    display: block;\n",
       "    unicode-bidi: embed;\n",
       "    white-space: pre-wrap;\n",
       "    word-wrap: break-word;\n",
       "    word-break: break-all;\n",
       "    font-family: \"Menlo\", \"Monaco\", \"Consolas\", \"Ubuntu Mono\", \"Source Code Pro\", monospace;\n",
       "    font-size: 13px;\n",
       "    color: #555;\n",
       "    margin-left: 4px;\n",
       "    line-height: 19px;\n",
       "  }\n",
       "</style>\n",
       "<div class=\"ansiout\"></div>"
      ]
     },
     "metadata": {
      "application/vnd.databricks.v1+output": {
       "addedWidgets": {},
       "arguments": {},
       "data": "<div class=\"ansiout\"></div>",
       "datasetInfos": [],
       "metadata": {},
       "removedWidgets": [],
       "type": "html"
      }
     },
     "output_type": "display_data"
    }
   ],
   "source": [
    "# Define the file location and type\n",
    "pin_location = \"/mnt/0affc011d3cf-mount/topics/0affc011d3cf.pin/partition=0/*.json\"\n",
    "file_type = \"json\"\n",
    "infer_schema = \"true\"\n",
    "\n",
    "# Load the JSON files into a Spark DataFrame\n",
    "df_pin = spark.read.format(file_type).option(\"inferSchema\", infer_schema).load(pin_location)\n",
    "  "
   ]
  },
  {
   "cell_type": "code",
   "execution_count": 0,
   "metadata": {
    "application/vnd.databricks.v1+cell": {
     "cellMetadata": {
      "byteLimit": 2048000,
      "rowLimit": 10000
     },
     "inputWidgets": {},
     "nuid": "429028fc-70f0-48e2-9ef0-d4007c906e61",
     "showTitle": false,
     "title": ""
    }
   },
   "outputs": [
    {
     "output_type": "display_data",
     "data": {
      "text/html": [
       "<style scoped>\n",
       "  .ansiout {\n",
       "    display: block;\n",
       "    unicode-bidi: embed;\n",
       "    white-space: pre-wrap;\n",
       "    word-wrap: break-word;\n",
       "    word-break: break-all;\n",
       "    font-family: \"Menlo\", \"Monaco\", \"Consolas\", \"Ubuntu Mono\", \"Source Code Pro\", monospace;\n",
       "    font-size: 13px;\n",
       "    color: #555;\n",
       "    margin-left: 4px;\n",
       "    line-height: 19px;\n",
       "  }\n",
       "</style>\n",
       "<div class=\"ansiout\"></div>"
      ]
     },
     "metadata": {
      "application/vnd.databricks.v1+output": {
       "addedWidgets": {},
       "arguments": {},
       "data": "<div class=\"ansiout\"></div>",
       "datasetInfos": [],
       "metadata": {},
       "removedWidgets": [],
       "type": "html"
      }
     },
     "output_type": "display_data"
    }
   ],
   "source": [
    "from pyspark.sql.functions import col, when, regexp_replace\n",
    "\n",
    "column_and_string = [\n",
    "    (\"description\", \"No description available$\"),\n",
    "    (\"follower_count\", \"User Info Error\"),\n",
    "    (\"image_src\", \"Image src error.\"),\n",
    "    (\"poster_name\", \"User Info Error\"),\n",
    "    (\"tag_list\", \"N,o, ,T,a,g,s, ,A,v,a,i,l,a,b,l,e\"),\n",
    "    (\"title\", \"No Title Data Available\")\n",
    "]\n",
    "def clean_non_relevant(df, column_and_string):\n",
    "    for column, string in column_and_string:\n",
    "        df = df.withColumn(column, regexp_replace(col(column), string, \"None\"))\n",
    "    return df\n",
    "\n",
    "def clean_empty_string(df):\n",
    "    df = df.select([when(col(c)==\"\",None).otherwise(col(c)).alias(c) for c in df.columns])\n",
    "    return df.na.fill('None')\n",
    "\n",
    "def clean_follower_count(df):\n",
    "    df = df.withColumn(\"follower_count\", regexp_replace(\"follower_count\", \"k\", \"000\"))\n",
    "    df = df.withColumn(\"follower_count\", regexp_replace(\"follower_count\", \"M\", \"000000\"))\n",
    "    return df.withColumn(\"follower_count\", df[\"follower_count\"].cast(\"integer\"))\n",
    "\n",
    "def clean_save_location(df):\n",
    "    return df.withColumn(\"save_location\", regexp_replace(\"save_location\", \"Local save in \", \"\"))\n",
    "\n",
    "def rename_index(df):\n",
    "    return df.withColumnRenamed(\"index\", \"ind\")\n",
    "\n",
    "def order_columns(df):\n",
    "    return df.select('ind', 'unique_id', 'title', 'description', 'follower_count', 'poster_name', 'tag_list', 'is_image_or_video', 'image_src', 'save_location', 'category')\n",
    "  "
   ]
  },
  {
   "cell_type": "code",
   "execution_count": 0,
   "metadata": {
    "application/vnd.databricks.v1+cell": {
     "cellMetadata": {
      "byteLimit": 2048000,
      "rowLimit": 10000
     },
     "inputWidgets": {},
     "nuid": "8a252c91-8a6a-457b-a545-4446680fe4a8",
     "showTitle": false,
     "title": ""
    }
   },
   "outputs": [
    {
     "output_type": "display_data",
     "data": {
      "text/html": [
       "<style scoped>\n",
       "  .table-result-container {\n",
       "    max-height: 300px;\n",
       "    overflow: auto;\n",
       "  }\n",
       "  table, th, td {\n",
       "    border: 1px solid black;\n",
       "    border-collapse: collapse;\n",
       "  }\n",
       "  th, td {\n",
       "    padding: 5px;\n",
       "  }\n",
       "  th {\n",
       "    text-align: left;\n",
       "  }\n",
       "</style><div class='table-result-container'><table class='table-result'><thead style='background-color: white'><tr><th>ind</th><th>unique_id</th><th>title</th><th>description</th><th>follower_count</th><th>poster_name</th><th>tag_list</th><th>is_image_or_video</th><th>image_src</th><th>save_location</th><th>category</th></tr></thead><tbody><tr><td>7491</td><td>0bfd8ee2-8bc8-4d43-8a43-3f9e5f9678bf</td><td>ジョガーパンツでメンズコーデの足元を軽快にこなす！ | メンズファッションメディア OTOKOMAE</td><td>スポーツミックススタイルやアスレジャースタイルの台頭によって、すっかりおなじみとなった「ジョガーパンツ」。スニーカーと相性抜群なアイテムであり、フーディを合わせたカジュアルなスタイルからジャケットを羽織ったドレスライクなスタイルまで幅広くフィットする。今回はそんな「ジョガーパンツ」にフォーカスして注目の着こなし&アイテムを紹介！</td><td>122000</td><td>OTOKOMAE/男前研究所</td><td>Streetwear,Mens Casual Hats,Fashion Week Hommes,Herren Style,Moda Blog,Look Man,La Mode Masculine,Outfits With Converse,Black Converse</td><td>image</td><td>https://i.pinimg.com/originals/5d/31/e4/5d31e49fada653798f7c8f4c47f65d14.jpg</td><td>/data/mens-fashion</td><td>mens-fashion</td></tr><tr><td>4362</td><td>3d2ca512-9a37-4bb5-93bc-fca20aaafdce</td><td>誕生日に親友を必ず笑顔にする11のサプライズ・アイデア♡</td><td>もうすぐ親友の誕生日。何年も共に過ごしてきただけに、毎年の誕生祝いでほとんどのアイデアは出し尽くしてしまい悩み中、、、という方に。今年はちょっと変わったバースデイサプライズで、大好きな親友の素敵な笑顔を引き出してみませんか。</td><td>256000</td><td>LOCARI</td><td>Love Ballons,Balloons,Wedding Proposals,Marriage Proposals,Wedding Tags,Wedding Gifts,Wedding Ideas,Diy Wedding,Proposition Romantique</td><td>image</td><td>https://i.pinimg.com/originals/c8/d7/e6/c8d7e693a171205650a1ce50036c45d4.jpg</td><td>/data/event-planning</td><td>event-planning</td></tr><tr><td>10981</td><td>682f6f97-33d6-4b5b-bae7-b94615ea3091</td><td>Пинтерест точно лучше инстаграмма.. | Траффик наше все! Продвижение, SEO, SMM</td><td>Пинтерест точно лучше инстаграмма #traffic #траффикнашевсе #траффик_наше_все Траффик наше все&#33; Продвижение, SEO, SMM &#128077;&#127995;Я влюблен в эту программ</td><td>283</td><td>Edward Kramli</td><td>Luxury Sports Cars,Top Luxury Cars,Sport Cars,Exotic Sports Cars,Mercedes Benz Amg,Carros Mercedes Benz,Benz Car,Carros Lamborghini,Carros Audi</td><td>image</td><td>https://i.pinimg.com/originals/84/a3/17/84a317acbdd5fca1c3b80ea30d45c370.jpg</td><td>/data/vehicles</td><td>vehicles</td></tr><tr><td>2244</td><td>20485f66-1504-4272-bb96-049d7564abdd</td><td>Christmas String Lights with Pine Cone Red Pearl Bell Garland with Lights 20 LED Warm White Battery Operated Christmas Tree Decor Light for Christmas Holiday Indoor Table Party Decoration</td><td>6.5Ft + Pearl & Pine Cone Design - This Pearl & Pine Cone string light as a Christmas decor light. 6.5 Foot/2 Meters plated copper wire and 20 LED Lights, The led string lights… </td><td>5000</td><td>Wear24-7</td><td>Mini Christmas Tree Decorations,Christmas Pine Cones,Christmas Fairy Lights,Led Fairy Lights,Xmas Lights,Xmas Wreaths,Christmas Bells,Outdoor Christmas,Christmas Holidays</td><td>image</td><td>https://i.pinimg.com/originals/3f/94/40/3f94400a8d9878d76db9d68126161b13.jpg</td><td>/data/christmas</td><td>christmas</td></tr><tr><td>2482</td><td>08604f20-fa17-4b9a-9949-781717eca6cd</td><td>FORNT PORCH CHRISTMAS DECORATING IDEAS</td><td>Christmas decorating ideas for porches. Beautiful holiday decor ideas for front porches both small and large. Outdoor decorations like sleds, lanterns, Christmas trees, wreaths,… </td><td>46000</td><td>Life on Summerhill | Home, Holiday Decor & DIY Website</td><td>Diy Christmas Decorations For Home,Farmhouse Christmas Decor,Christmas Home,Christmas Holidays,Christmas Front Porches,How To Decorate For Christmas,Christmas Porch Ideas,Christmas Decorating Ideas,Large Outdoor Christmas Decorations</td><td>video</td><td>https://i.pinimg.com/videos/thumbnails/originals/40/83/f5/4083f5b4971bf235f89a4784ab87271e.0000001.jpg</td><td>/data/christmas</td><td>christmas</td></tr><tr><td>2205</td><td>24cbe878-d95a-4902-baef-f831fcb9bbd1</td><td>Toddler Christmas activity using sticky contact paper - Laughing Kids Learn</td><td>Toddler Christmas activity using sticky contact paper. Great for developing fine motor skills and more. #kbn #ohchristmastree #stickycontactpaper #handmadetree #kidschristmas #c… </td><td>99000</td><td>Laughing Kids Learn | Play Ideas for Kids | Crafts + Activities for Teachers + Parents </td><td>Christmas Activities For Toddlers,Preschool Christmas,Holiday Activities,Christmas Paper,Craft Activities,Preschool Crafts,Christmas Themes,Christmas Decorations,Toddler Christmas Crafts</td><td>image</td><td>https://i.pinimg.com/originals/a6/61/c8/a661c87eee093cf82d3697b05b9aaee3.jpg</td><td>/data/christmas</td><td>christmas</td></tr><tr><td>8554</td><td>7a53684d-5311-4fa2-b25e-23a6c855fa9f</td><td>50+ Chic & Sexy Hip Tattoos for Women</td><td>beautiful Dragon ❌ flowers hip tattoo ✿ Strelkov Mikhail ®️ ✧ @strelkovtattoo ✧ Moscow 🇷🇺 ✿ 💖🐉ꕥ💖🐉ꕥ💖🐉ꕥ💖🐉ꕥ💖🐉ꕥ💖 #hiptattoo #floraltattoo #awesomeness #girltattoos #bes… </td><td>202000</td><td>kickassthings.com</td><td>Red Ink Tattoos,Baby Tattoos,Mini Tattoos,Cute Tattoos,Body Art Tattoos,Sleeve Tattoos,Tatoos,Hip Tattoos For Girls,Pretty Tattoos For Women</td><td>image</td><td>https://i.pinimg.com/originals/03/bc/5d/03bc5dd8b52fbb4fe698a49f96b9458f.jpg</td><td>/data/tattoos</td><td>tattoos</td></tr><tr><td>2324</td><td>84a8a88b-1741-4cbe-a274-71f76db2c8b9</td><td>How to make paper Christmas trees -  video tutorial + SVG PDF templates by OGCrafts</td><td>These paper Christmas trees will become a wonderful embellishment for your home in winter, especially at Christmas. These Christmas trees are simple to make with our templates a… </td><td>26000</td><td>OGCrafts | DIY Paper Flowers | Video Tutorials | SVG's</td><td>Diy Paper Christmas Tree,Christmas Tree Template,3d Christmas Tree,Christmas Origami,Christmas Holidays,All Things Christmas,Christmas Tree Printable,Christmas Tree Cutting,Handmade Christmas Tree</td><td>image</td><td>https://i.pinimg.com/originals/bd/03/a4/bd03a4d4f0098ba369279e38aa3506bf.jpg</td><td>/data/christmas</td><td>christmas</td></tr><tr><td>2375</td><td>dfe23412-d535-41b2-9785-66ee29a61421</td><td>Festive Elf Popsicle Stick Craft [With Template]</td><td>This popsicle stick elf craft is a fun Christmas activity for kids! Learn how to easily make this and download the free printable template today. Make with kindergarten and elem… </td><td>266000</td><td>Easy Kids Crafts & Activities | Preschool & Kindergarten Ideas</td><td>Christmas Activities For Kids,Christmas Crafts For Children,Kids Holiday Crafts,Christian Christmas Crafts,Kindergarten Christmas Crafts,Christmas Decorations For Kids,Xmas Crafts,Craft Stick Crafts,Craft Stick Projects</td><td>image</td><td>https://i.pinimg.com/originals/84/e7/a9/84e7a958c895f3617c2b4d277c18e7ac.png</td><td>/data/christmas</td><td>christmas</td></tr><tr><td>8699</td><td>91c61561-068b-479f-9030-1cca63e69a8e</td><td>@chik.tattoo on Instagram: “Avis au intéressé j’ai une place qui c’est libéré la semaine prochaine 😋😋 #girlswithtattoos #tattoos #tattooedgirls #mandalatattoo #mandala…”</td><td>Avis au intéressé j’ai une place qui c’est libéré la semaine prochaine 😋😋 #girlswithtattoos #tattoos #tattooedgirls #mandalatattoo #mandala…</td><td>2000</td><td>NoitaDesigns</td><td>Hand Tattoos,Love Tattoos,Beautiful Tattoos,Body Art Tattoos,New Tattoos,Small Tattoos,Tatoos,Future Tattoos,Awesome Tattoos</td><td>image</td><td>https://i.pinimg.com/originals/e6/84/6d/e6846daecb176eccfccc1920471a98d0.jpg</td><td>/data/tattoos</td><td>tattoos</td></tr></tbody></table></div>"
      ]
     },
     "metadata": {
      "application/vnd.databricks.v1+output": {
       "addedWidgets": {},
       "aggData": [],
       "aggError": "",
       "aggOverflow": false,
       "aggSchema": [],
       "aggSeriesLimitReached": false,
       "aggType": "",
       "arguments": {},
       "columnCustomDisplayInfos": {},
       "data": [
        [
         7491,
         "0bfd8ee2-8bc8-4d43-8a43-3f9e5f9678bf",
         "ジョガーパンツでメンズコーデの足元を軽快にこなす！ | メンズファッションメディア OTOKOMAE",
         "スポーツミックススタイルやアスレジャースタイルの台頭によって、すっかりおなじみとなった「ジョガーパンツ」。スニーカーと相性抜群なアイテムであり、フーディを合わせたカジュアルなスタイルからジャケットを羽織ったドレスライクなスタイルまで幅広くフィットする。今回はそんな「ジョガーパンツ」にフォーカスして注目の着こなし&アイテムを紹介！",
         122000,
         "OTOKOMAE/男前研究所",
         "Streetwear,Mens Casual Hats,Fashion Week Hommes,Herren Style,Moda Blog,Look Man,La Mode Masculine,Outfits With Converse,Black Converse",
         "image",
         "https://i.pinimg.com/originals/5d/31/e4/5d31e49fada653798f7c8f4c47f65d14.jpg",
         "/data/mens-fashion",
         "mens-fashion"
        ],
        [
         4362,
         "3d2ca512-9a37-4bb5-93bc-fca20aaafdce",
         "誕生日に親友を必ず笑顔にする11のサプライズ・アイデア♡",
         "もうすぐ親友の誕生日。何年も共に過ごしてきただけに、毎年の誕生祝いでほとんどのアイデアは出し尽くしてしまい悩み中、、、という方に。今年はちょっと変わったバースデイサプライズで、大好きな親友の素敵な笑顔を引き出してみませんか。",
         256000,
         "LOCARI",
         "Love Ballons,Balloons,Wedding Proposals,Marriage Proposals,Wedding Tags,Wedding Gifts,Wedding Ideas,Diy Wedding,Proposition Romantique",
         "image",
         "https://i.pinimg.com/originals/c8/d7/e6/c8d7e693a171205650a1ce50036c45d4.jpg",
         "/data/event-planning",
         "event-planning"
        ],
        [
         10981,
         "682f6f97-33d6-4b5b-bae7-b94615ea3091",
         "Пинтерест точно лучше инстаграмма.. | Траффик наше все! Продвижение, SEO, SMM",
         "Пинтерест точно лучше инстаграмма #traffic #траффикнашевсе #траффик_наше_все Траффик наше все&#33; Продвижение, SEO, SMM &#128077;&#127995;Я влюблен в эту программ",
         283,
         "Edward Kramli",
         "Luxury Sports Cars,Top Luxury Cars,Sport Cars,Exotic Sports Cars,Mercedes Benz Amg,Carros Mercedes Benz,Benz Car,Carros Lamborghini,Carros Audi",
         "image",
         "https://i.pinimg.com/originals/84/a3/17/84a317acbdd5fca1c3b80ea30d45c370.jpg",
         "/data/vehicles",
         "vehicles"
        ],
        [
         2244,
         "20485f66-1504-4272-bb96-049d7564abdd",
         "Christmas String Lights with Pine Cone Red Pearl Bell Garland with Lights 20 LED Warm White Battery Operated Christmas Tree Decor Light for Christmas Holiday Indoor Table Party Decoration",
         "6.5Ft + Pearl & Pine Cone Design - This Pearl & Pine Cone string light as a Christmas decor light. 6.5 Foot/2 Meters plated copper wire and 20 LED Lights, The led string lights… ",
         5000,
         "Wear24-7",
         "Mini Christmas Tree Decorations,Christmas Pine Cones,Christmas Fairy Lights,Led Fairy Lights,Xmas Lights,Xmas Wreaths,Christmas Bells,Outdoor Christmas,Christmas Holidays",
         "image",
         "https://i.pinimg.com/originals/3f/94/40/3f94400a8d9878d76db9d68126161b13.jpg",
         "/data/christmas",
         "christmas"
        ],
        [
         2482,
         "08604f20-fa17-4b9a-9949-781717eca6cd",
         "FORNT PORCH CHRISTMAS DECORATING IDEAS",
         "Christmas decorating ideas for porches. Beautiful holiday decor ideas for front porches both small and large. Outdoor decorations like sleds, lanterns, Christmas trees, wreaths,… ",
         46000,
         "Life on Summerhill | Home, Holiday Decor & DIY Website",
         "Diy Christmas Decorations For Home,Farmhouse Christmas Decor,Christmas Home,Christmas Holidays,Christmas Front Porches,How To Decorate For Christmas,Christmas Porch Ideas,Christmas Decorating Ideas,Large Outdoor Christmas Decorations",
         "video",
         "https://i.pinimg.com/videos/thumbnails/originals/40/83/f5/4083f5b4971bf235f89a4784ab87271e.0000001.jpg",
         "/data/christmas",
         "christmas"
        ],
        [
         2205,
         "24cbe878-d95a-4902-baef-f831fcb9bbd1",
         "Toddler Christmas activity using sticky contact paper - Laughing Kids Learn",
         "Toddler Christmas activity using sticky contact paper. Great for developing fine motor skills and more. #kbn #ohchristmastree #stickycontactpaper #handmadetree #kidschristmas #c… ",
         99000,
         "Laughing Kids Learn | Play Ideas for Kids | Crafts + Activities for Teachers + Parents ",
         "Christmas Activities For Toddlers,Preschool Christmas,Holiday Activities,Christmas Paper,Craft Activities,Preschool Crafts,Christmas Themes,Christmas Decorations,Toddler Christmas Crafts",
         "image",
         "https://i.pinimg.com/originals/a6/61/c8/a661c87eee093cf82d3697b05b9aaee3.jpg",
         "/data/christmas",
         "christmas"
        ],
        [
         8554,
         "7a53684d-5311-4fa2-b25e-23a6c855fa9f",
         "50+ Chic & Sexy Hip Tattoos for Women",
         "beautiful Dragon ❌ flowers hip tattoo ✿ Strelkov Mikhail ®️ ✧ @strelkovtattoo ✧ Moscow 🇷🇺 ✿ 💖🐉ꕥ💖🐉ꕥ💖🐉ꕥ💖🐉ꕥ💖🐉ꕥ💖 #hiptattoo #floraltattoo #awesomeness #girltattoos #bes… ",
         202000,
         "kickassthings.com",
         "Red Ink Tattoos,Baby Tattoos,Mini Tattoos,Cute Tattoos,Body Art Tattoos,Sleeve Tattoos,Tatoos,Hip Tattoos For Girls,Pretty Tattoos For Women",
         "image",
         "https://i.pinimg.com/originals/03/bc/5d/03bc5dd8b52fbb4fe698a49f96b9458f.jpg",
         "/data/tattoos",
         "tattoos"
        ],
        [
         2324,
         "84a8a88b-1741-4cbe-a274-71f76db2c8b9",
         "How to make paper Christmas trees -  video tutorial + SVG PDF templates by OGCrafts",
         "These paper Christmas trees will become a wonderful embellishment for your home in winter, especially at Christmas. These Christmas trees are simple to make with our templates a… ",
         26000,
         "OGCrafts | DIY Paper Flowers | Video Tutorials | SVG's",
         "Diy Paper Christmas Tree,Christmas Tree Template,3d Christmas Tree,Christmas Origami,Christmas Holidays,All Things Christmas,Christmas Tree Printable,Christmas Tree Cutting,Handmade Christmas Tree",
         "image",
         "https://i.pinimg.com/originals/bd/03/a4/bd03a4d4f0098ba369279e38aa3506bf.jpg",
         "/data/christmas",
         "christmas"
        ],
        [
         2375,
         "dfe23412-d535-41b2-9785-66ee29a61421",
         "Festive Elf Popsicle Stick Craft [With Template]",
         "This popsicle stick elf craft is a fun Christmas activity for kids! Learn how to easily make this and download the free printable template today. Make with kindergarten and elem… ",
         266000,
         "Easy Kids Crafts & Activities | Preschool & Kindergarten Ideas",
         "Christmas Activities For Kids,Christmas Crafts For Children,Kids Holiday Crafts,Christian Christmas Crafts,Kindergarten Christmas Crafts,Christmas Decorations For Kids,Xmas Crafts,Craft Stick Crafts,Craft Stick Projects",
         "image",
         "https://i.pinimg.com/originals/84/e7/a9/84e7a958c895f3617c2b4d277c18e7ac.png",
         "/data/christmas",
         "christmas"
        ],
        [
         8699,
         "91c61561-068b-479f-9030-1cca63e69a8e",
         "@chik.tattoo on Instagram: “Avis au intéressé j’ai une place qui c’est libéré la semaine prochaine 😋😋 #girlswithtattoos #tattoos #tattooedgirls #mandalatattoo #mandala…”",
         "Avis au intéressé j’ai une place qui c’est libéré la semaine prochaine 😋😋 #girlswithtattoos #tattoos #tattooedgirls #mandalatattoo #mandala…",
         2000,
         "NoitaDesigns",
         "Hand Tattoos,Love Tattoos,Beautiful Tattoos,Body Art Tattoos,New Tattoos,Small Tattoos,Tatoos,Future Tattoos,Awesome Tattoos",
         "image",
         "https://i.pinimg.com/originals/e6/84/6d/e6846daecb176eccfccc1920471a98d0.jpg",
         "/data/tattoos",
         "tattoos"
        ]
       ],
       "datasetInfos": [],
       "dbfsResultPath": null,
       "isJsonSchema": true,
       "metadata": {},
       "overflow": false,
       "plotOptions": {
        "customPlotOptions": {},
        "displayType": "table",
        "pivotAggregation": null,
        "pivotColumns": null,
        "xColumns": null,
        "yColumns": null
       },
       "removedWidgets": [],
       "schema": [
        {
         "metadata": "{}",
         "name": "ind",
         "type": "\"long\""
        },
        {
         "metadata": "{}",
         "name": "unique_id",
         "type": "\"string\""
        },
        {
         "metadata": "{}",
         "name": "title",
         "type": "\"string\""
        },
        {
         "metadata": "{}",
         "name": "description",
         "type": "\"string\""
        },
        {
         "metadata": "{}",
         "name": "follower_count",
         "type": "\"integer\""
        },
        {
         "metadata": "{}",
         "name": "poster_name",
         "type": "\"string\""
        },
        {
         "metadata": "{}",
         "name": "tag_list",
         "type": "\"string\""
        },
        {
         "metadata": "{}",
         "name": "is_image_or_video",
         "type": "\"string\""
        },
        {
         "metadata": "{}",
         "name": "image_src",
         "type": "\"string\""
        },
        {
         "metadata": "{}",
         "name": "save_location",
         "type": "\"string\""
        },
        {
         "metadata": "{}",
         "name": "category",
         "type": "\"string\""
        }
       ],
       "type": "table"
      }
     },
     "output_type": "display_data"
    }
   ],
   "source": [
    "\n",
    "df_pin = clean_non_relevant(df_pin, column_and_string)\n",
    "df_pin = clean_empty_string(df_pin)\n",
    "df_pin = clean_follower_count(df_pin)\n",
    "df_pin = clean_empty_string(df_pin)\n",
    "df_pin = clean_save_location(df_pin)\n",
    "df_pin = rename_index(df_pin)\n",
    "cleaned_pin = order_columns(df_pin)\n",
    "\n",
    "cleaned_pin.limit(10).display()"
   ]
  },
  {
   "cell_type": "code",
   "execution_count": 0,
   "metadata": {
    "application/vnd.databricks.v1+cell": {
     "cellMetadata": {
      "byteLimit": 2048000,
      "rowLimit": 10000
     },
     "inputWidgets": {},
     "nuid": "ac85c543-340b-4a72-ab24-b15c241caf53",
     "showTitle": false,
     "title": ""
    }
   },
   "outputs": [],
   "source": [
    "# Define the Parquet file save location\n",
    "parquet_save_location = \"/mnt/0affc011d3cf-mount/cleaned_pin\"\n",
    "\n",
    "# Save the cleaned DataFrame as a Parquet file\n",
    "cleaned_pin.write.mode('overwrite').parquet(parquet_save_location)"
   ]
  }
 ],
 "metadata": {
  "application/vnd.databricks.v1+notebook": {
   "dashboards": [],
   "environmentMetadata": null,
   "language": "python",
   "notebookMetadata": {
    "mostRecentlyExecutedCommandWithImplicitDF": {
     "commandId": 2119010778411871,
     "dataframes": [
      "_sqldf"
     ]
    },
    "pythonIndentUnit": 4
   },
   "notebookName": "milestone7-task1-clean-pinterest-posts-information",
   "widgets": {}
  }
 },
 "nbformat": 4,
 "nbformat_minor": 0
}
