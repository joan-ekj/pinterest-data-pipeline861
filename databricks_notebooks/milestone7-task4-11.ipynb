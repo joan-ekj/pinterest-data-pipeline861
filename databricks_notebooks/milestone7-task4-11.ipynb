{
 "cells": [
  {
   "cell_type": "code",
   "execution_count": 0,
   "metadata": {
    "application/vnd.databricks.v1+cell": {
     "cellMetadata": {
      "byteLimit": 2048000,
      "rowLimit": 10000
     },
     "inputWidgets": {},
     "nuid": "ab153930-f505-4034-ab2b-9bf759f37bb9",
     "showTitle": false,
     "title": ""
    }
   },
   "outputs": [
    {
     "output_type": "display_data",
     "data": {
      "text/html": [
       "<style scoped>\n",
       "  .ansiout {\n",
       "    display: block;\n",
       "    unicode-bidi: embed;\n",
       "    white-space: pre-wrap;\n",
       "    word-wrap: break-word;\n",
       "    word-break: break-all;\n",
       "    font-family: \"Menlo\", \"Monaco\", \"Consolas\", \"Ubuntu Mono\", \"Source Code Pro\", monospace;\n",
       "    font-size: 13px;\n",
       "    color: #555;\n",
       "    margin-left: 4px;\n",
       "    line-height: 19px;\n",
       "  }\n",
       "</style>\n",
       "<div class=\"ansiout\"></div>"
      ]
     },
     "metadata": {
      "application/vnd.databricks.v1+output": {
       "addedWidgets": {},
       "arguments": {},
       "data": "<div class=\"ansiout\"></div>",
       "datasetInfos": [],
       "metadata": {},
       "removedWidgets": [],
       "type": "html"
      }
     },
     "output_type": "display_data"
    }
   ],
   "source": [
    "cleaned_pin = spark.read.parquet(\"/mnt/0affc011d3cf-mount/cleaned_pin\")\n",
    "cleaned_geo = spark.read.parquet(\"/mnt/0affc011d3cf-mount/cleaned_geo\")\n",
    "cleaned_user = spark.read.parquet(\"/mnt/0affc011d3cf-mount/cleaned_user\")"
   ]
  },
  {
   "cell_type": "code",
   "execution_count": 0,
   "metadata": {
    "application/vnd.databricks.v1+cell": {
     "cellMetadata": {
      "byteLimit": 2048000,
      "rowLimit": 10000
     },
     "inputWidgets": {},
     "nuid": "5a77df97-4eba-4ac0-abad-b43f2b82c7a3",
     "showTitle": false,
     "title": ""
    }
   },
   "outputs": [
    {
     "output_type": "display_data",
     "data": {
      "text/html": [
       "<style scoped>\n",
       "  .ansiout {\n",
       "    display: block;\n",
       "    unicode-bidi: embed;\n",
       "    white-space: pre-wrap;\n",
       "    word-wrap: break-word;\n",
       "    word-break: break-all;\n",
       "    font-family: \"Menlo\", \"Monaco\", \"Consolas\", \"Ubuntu Mono\", \"Source Code Pro\", monospace;\n",
       "    font-size: 13px;\n",
       "    color: #555;\n",
       "    margin-left: 4px;\n",
       "    line-height: 19px;\n",
       "  }\n",
       "</style>\n",
       "<div class=\"ansiout\"></div>"
      ]
     },
     "metadata": {
      "application/vnd.databricks.v1+output": {
       "addedWidgets": {},
       "arguments": {},
       "data": "<div class=\"ansiout\"></div>",
       "datasetInfos": [],
       "metadata": {},
       "removedWidgets": [],
       "type": "html"
      }
     },
     "output_type": "display_data"
    }
   ],
   "source": [
    "cleaned_pin.createOrReplaceTempView(\"pinterest\")\n",
    "cleaned_geo.createOrReplaceTempView(\"geolocation\")\n",
    "cleaned_user.createOrReplaceTempView(\"user\")\n"
   ]
  },
  {
   "cell_type": "code",
   "execution_count": 0,
   "metadata": {
    "application/vnd.databricks.v1+cell": {
     "cellMetadata": {
      "byteLimit": 2048000,
      "implicitDf": true,
      "rowLimit": 10000
     },
     "inputWidgets": {},
     "nuid": "c71ae090-f674-452c-beac-a3b367fe01d6",
     "showTitle": false,
     "title": ""
    }
   },
   "outputs": [
    {
     "output_type": "display_data",
     "data": {
      "text/html": [
       "<style scoped>\n",
       "  .table-result-container {\n",
       "    max-height: 300px;\n",
       "    overflow: auto;\n",
       "  }\n",
       "  table, th, td {\n",
       "    border: 1px solid black;\n",
       "    border-collapse: collapse;\n",
       "  }\n",
       "  th, td {\n",
       "    padding: 5px;\n",
       "  }\n",
       "  th {\n",
       "    text-align: left;\n",
       "  }\n",
       "</style><div class='table-result-container'><table class='table-result'><thead style='background-color: white'><tr><th>country</th><th>category</th><th>category_count</th></tr></thead><tbody><tr><td>Afghanistan</td><td>finance</td><td>2</td></tr><tr><td>Albania</td><td>art</td><td>2</td></tr><tr><td>Algeria</td><td>quotes</td><td>1</td></tr><tr><td>American Samoa</td><td>tattoos</td><td>1</td></tr><tr><td>Andorra</td><td>tattoos</td><td>2</td></tr><tr><td>Anguilla</td><td>tattoos</td><td>1</td></tr><tr><td>Antarctica (the territory South of 60 deg S)</td><td>finance</td><td>1</td></tr><tr><td>Antigua and Barbuda</td><td>art</td><td>1</td></tr><tr><td>Argentina</td><td>tattoos</td><td>2</td></tr><tr><td>Armenia</td><td>quotes</td><td>1</td></tr><tr><td>Aruba</td><td>art</td><td>1</td></tr><tr><td>Australia</td><td>travel</td><td>1</td></tr><tr><td>Bahrain</td><td>tattoos</td><td>1</td></tr><tr><td>Belgium</td><td>travel</td><td>1</td></tr><tr><td>Belize</td><td>home-decor</td><td>1</td></tr><tr><td>Benin</td><td>tattoos</td><td>1</td></tr><tr><td>Bouvet Island (Bouvetoya)</td><td>diy-and-crafts</td><td>1</td></tr><tr><td>British Virgin Islands</td><td>education</td><td>1</td></tr><tr><td>Cambodia</td><td>diy-and-crafts</td><td>1</td></tr><tr><td>Central African Republic</td><td>travel</td><td>1</td></tr><tr><td>Christmas Island</td><td>christmas</td><td>1</td></tr><tr><td>Cocos (Keeling) Islands</td><td>christmas</td><td>1</td></tr><tr><td>Congo</td><td>home-decor</td><td>1</td></tr><tr><td>Cook Islands</td><td>travel</td><td>1</td></tr><tr><td>Ecuador</td><td>christmas</td><td>1</td></tr><tr><td>Egypt</td><td>diy-and-crafts</td><td>1</td></tr><tr><td>El Salvador</td><td>tattoos</td><td>1</td></tr><tr><td>French Guiana</td><td>home-decor</td><td>1</td></tr><tr><td>French Southern Territories</td><td>quotes</td><td>1</td></tr><tr><td>Haiti</td><td>travel</td><td>1</td></tr><tr><td>Ireland</td><td>quotes</td><td>1</td></tr><tr><td>Japan</td><td>mens-fashion</td><td>1</td></tr><tr><td>Jersey</td><td>finance</td><td>1</td></tr><tr><td>Kiribati</td><td>diy-and-crafts</td><td>1</td></tr><tr><td>Libyan Arab Jamahiriya</td><td>event-planning</td><td>1</td></tr><tr><td>Malawi</td><td>travel</td><td>1</td></tr><tr><td>Malta</td><td>art</td><td>1</td></tr><tr><td>Mayotte</td><td>beauty</td><td>1</td></tr><tr><td>Micronesia</td><td>vehicles</td><td>2</td></tr><tr><td>Monaco</td><td>finance</td><td>1</td></tr><tr><td>Mongolia</td><td>mens-fashion</td><td>1</td></tr><tr><td>Morocco</td><td>art</td><td>1</td></tr><tr><td>Netherlands Antilles</td><td>art</td><td>1</td></tr><tr><td>Nigeria</td><td>mens-fashion</td><td>1</td></tr><tr><td>Oman</td><td>diy-and-crafts</td><td>1</td></tr><tr><td>Pakistan</td><td>vehicles</td><td>1</td></tr><tr><td>Palestinian Territory</td><td>christmas</td><td>1</td></tr><tr><td>Papua New Guinea</td><td>travel</td><td>1</td></tr><tr><td>Romania</td><td>tattoos</td><td>1</td></tr><tr><td>Rwanda</td><td>education</td><td>1</td></tr><tr><td>Saint Lucia</td><td>beauty</td><td>1</td></tr><tr><td>Saint Martin</td><td>quotes</td><td>1</td></tr><tr><td>Slovenia</td><td>christmas</td><td>1</td></tr><tr><td>South Georgia and the South Sandwich Islands</td><td>vehicles</td><td>1</td></tr><tr><td>Sweden</td><td>beauty</td><td>1</td></tr><tr><td>United Kingdom</td><td>home-decor</td><td>1</td></tr><tr><td>Uzbekistan</td><td>quotes</td><td>2</td></tr></tbody></table></div>"
      ]
     },
     "metadata": {
      "application/vnd.databricks.v1+output": {
       "addedWidgets": {},
       "aggData": [],
       "aggError": "",
       "aggOverflow": false,
       "aggSchema": [],
       "aggSeriesLimitReached": false,
       "aggType": "",
       "arguments": {},
       "columnCustomDisplayInfos": {},
       "data": [
        [
         "Afghanistan",
         "finance",
         2
        ],
        [
         "Albania",
         "art",
         2
        ],
        [
         "Algeria",
         "quotes",
         1
        ],
        [
         "American Samoa",
         "tattoos",
         1
        ],
        [
         "Andorra",
         "tattoos",
         2
        ],
        [
         "Anguilla",
         "tattoos",
         1
        ],
        [
         "Antarctica (the territory South of 60 deg S)",
         "finance",
         1
        ],
        [
         "Antigua and Barbuda",
         "art",
         1
        ],
        [
         "Argentina",
         "tattoos",
         2
        ],
        [
         "Armenia",
         "quotes",
         1
        ],
        [
         "Aruba",
         "art",
         1
        ],
        [
         "Australia",
         "travel",
         1
        ],
        [
         "Bahrain",
         "tattoos",
         1
        ],
        [
         "Belgium",
         "travel",
         1
        ],
        [
         "Belize",
         "home-decor",
         1
        ],
        [
         "Benin",
         "tattoos",
         1
        ],
        [
         "Bouvet Island (Bouvetoya)",
         "diy-and-crafts",
         1
        ],
        [
         "British Virgin Islands",
         "education",
         1
        ],
        [
         "Cambodia",
         "diy-and-crafts",
         1
        ],
        [
         "Central African Republic",
         "travel",
         1
        ],
        [
         "Christmas Island",
         "christmas",
         1
        ],
        [
         "Cocos (Keeling) Islands",
         "christmas",
         1
        ],
        [
         "Congo",
         "home-decor",
         1
        ],
        [
         "Cook Islands",
         "travel",
         1
        ],
        [
         "Ecuador",
         "christmas",
         1
        ],
        [
         "Egypt",
         "diy-and-crafts",
         1
        ],
        [
         "El Salvador",
         "tattoos",
         1
        ],
        [
         "French Guiana",
         "home-decor",
         1
        ],
        [
         "French Southern Territories",
         "quotes",
         1
        ],
        [
         "Haiti",
         "travel",
         1
        ],
        [
         "Ireland",
         "quotes",
         1
        ],
        [
         "Japan",
         "mens-fashion",
         1
        ],
        [
         "Jersey",
         "finance",
         1
        ],
        [
         "Kiribati",
         "diy-and-crafts",
         1
        ],
        [
         "Libyan Arab Jamahiriya",
         "event-planning",
         1
        ],
        [
         "Malawi",
         "travel",
         1
        ],
        [
         "Malta",
         "art",
         1
        ],
        [
         "Mayotte",
         "beauty",
         1
        ],
        [
         "Micronesia",
         "vehicles",
         2
        ],
        [
         "Monaco",
         "finance",
         1
        ],
        [
         "Mongolia",
         "mens-fashion",
         1
        ],
        [
         "Morocco",
         "art",
         1
        ],
        [
         "Netherlands Antilles",
         "art",
         1
        ],
        [
         "Nigeria",
         "mens-fashion",
         1
        ],
        [
         "Oman",
         "diy-and-crafts",
         1
        ],
        [
         "Pakistan",
         "vehicles",
         1
        ],
        [
         "Palestinian Territory",
         "christmas",
         1
        ],
        [
         "Papua New Guinea",
         "travel",
         1
        ],
        [
         "Romania",
         "tattoos",
         1
        ],
        [
         "Rwanda",
         "education",
         1
        ],
        [
         "Saint Lucia",
         "beauty",
         1
        ],
        [
         "Saint Martin",
         "quotes",
         1
        ],
        [
         "Slovenia",
         "christmas",
         1
        ],
        [
         "South Georgia and the South Sandwich Islands",
         "vehicles",
         1
        ],
        [
         "Sweden",
         "beauty",
         1
        ],
        [
         "United Kingdom",
         "home-decor",
         1
        ],
        [
         "Uzbekistan",
         "quotes",
         2
        ]
       ],
       "datasetInfos": [],
       "dbfsResultPath": null,
       "isJsonSchema": true,
       "metadata": {},
       "overflow": false,
       "plotOptions": {
        "customPlotOptions": {},
        "displayType": "table",
        "pivotAggregation": null,
        "pivotColumns": null,
        "xColumns": null,
        "yColumns": null
       },
       "removedWidgets": [],
       "schema": [
        {
         "metadata": "{}",
         "name": "country",
         "type": "\"string\""
        },
        {
         "metadata": "{}",
         "name": "category",
         "type": "\"string\""
        },
        {
         "metadata": "{}",
         "name": "category_count",
         "type": "\"long\""
        }
       ],
       "type": "table"
      }
     },
     "output_type": "display_data"
    }
   ],
   "source": [
    "%sql\n",
    "-- TASK 4 \n",
    "SELECT country, category, category_count\n",
    "FROM (\n",
    "    SELECT \n",
    "       country, \n",
    "       category, \n",
    "      COUNT(category) AS category_count,\n",
    "      ROW_NUMBER() OVER (PARTITION BY country ORDER BY COUNT(category) DESC) as row_num\n",
    "    FROM pinterest\n",
    "    JOIN geolocation USING(ind)\n",
    "    GROUP BY country, category\n",
    ") AS ranked\n",
    "WHERE ranked.row_num = 1\n",
    "ORDER BY country;\n"
   ]
  },
  {
   "cell_type": "code",
   "execution_count": 0,
   "metadata": {
    "application/vnd.databricks.v1+cell": {
     "cellMetadata": {
      "byteLimit": 2048000,
      "implicitDf": true,
      "rowLimit": 10000
     },
     "inputWidgets": {},
     "nuid": "ed38aed8-3311-4a49-b740-ed3d897fbc79",
     "showTitle": false,
     "title": ""
    }
   },
   "outputs": [
    {
     "output_type": "display_data",
     "data": {
      "text/html": [
       "<style scoped>\n",
       "  .table-result-container {\n",
       "    max-height: 300px;\n",
       "    overflow: auto;\n",
       "  }\n",
       "  table, th, td {\n",
       "    border: 1px solid black;\n",
       "    border-collapse: collapse;\n",
       "  }\n",
       "  th, td {\n",
       "    padding: 5px;\n",
       "  }\n",
       "  th {\n",
       "    text-align: left;\n",
       "  }\n",
       "</style><div class='table-result-container'><table class='table-result'><thead style='background-color: white'><tr><th>category</th><th>post_year</th><th>category_count</th></tr></thead><tbody><tr><td>quotes</td><td>2022</td><td>2</td></tr><tr><td>mens-fashion</td><td>2022</td><td>1</td></tr><tr><td>finance</td><td>2022</td><td>1</td></tr><tr><td>tattoos</td><td>2022</td><td>1</td></tr><tr><td>art</td><td>2022</td><td>1</td></tr><tr><td>christmas</td><td>2022</td><td>1</td></tr><tr><td>tattoos</td><td>2021</td><td>2</td></tr><tr><td>diy-and-crafts</td><td>2021</td><td>2</td></tr><tr><td>mens-fashion</td><td>2021</td><td>2</td></tr><tr><td>art</td><td>2021</td><td>1</td></tr><tr><td>travel</td><td>2021</td><td>1</td></tr><tr><td>education</td><td>2021</td><td>1</td></tr><tr><td>quotes</td><td>2021</td><td>1</td></tr><tr><td>beauty</td><td>2021</td><td>1</td></tr><tr><td>home-decor</td><td>2021</td><td>1</td></tr><tr><td>travel</td><td>2020</td><td>5</td></tr><tr><td>tattoos</td><td>2020</td><td>4</td></tr><tr><td>diy-and-crafts</td><td>2020</td><td>2</td></tr><tr><td>beauty</td><td>2020</td><td>2</td></tr><tr><td>art</td><td>2020</td><td>2</td></tr><tr><td>home-decor</td><td>2020</td><td>1</td></tr><tr><td>christmas</td><td>2020</td><td>1</td></tr><tr><td>quotes</td><td>2020</td><td>1</td></tr><tr><td>finance</td><td>2020</td><td>1</td></tr><tr><td>finance</td><td>2019</td><td>3</td></tr><tr><td>tattoos</td><td>2019</td><td>3</td></tr><tr><td>art</td><td>2019</td><td>2</td></tr><tr><td>quotes</td><td>2019</td><td>2</td></tr><tr><td>diy-and-crafts</td><td>2019</td><td>2</td></tr><tr><td>travel</td><td>2019</td><td>2</td></tr><tr><td>beauty</td><td>2019</td><td>2</td></tr><tr><td>vehicles</td><td>2019</td><td>1</td></tr><tr><td>event-planning</td><td>2019</td><td>1</td></tr><tr><td>christmas</td><td>2019</td><td>1</td></tr><tr><td>christmas</td><td>2018</td><td>3</td></tr><tr><td>vehicles</td><td>2018</td><td>3</td></tr><tr><td>home-decor</td><td>2018</td><td>2</td></tr><tr><td>art</td><td>2018</td><td>2</td></tr><tr><td>quotes</td><td>2018</td><td>1</td></tr><tr><td>education</td><td>2018</td><td>1</td></tr><tr><td>finance</td><td>2018</td><td>1</td></tr><tr><td>diy-and-crafts</td><td>2018</td><td>1</td></tr><tr><td>travel</td><td>2018</td><td>1</td></tr><tr><td>tattoos</td><td>2018</td><td>1</td></tr></tbody></table></div>"
      ]
     },
     "metadata": {
      "application/vnd.databricks.v1+output": {
       "addedWidgets": {},
       "aggData": [],
       "aggError": "",
       "aggOverflow": false,
       "aggSchema": [],
       "aggSeriesLimitReached": false,
       "aggType": "",
       "arguments": {},
       "columnCustomDisplayInfos": {},
       "data": [
        [
         "quotes",
         2022,
         2
        ],
        [
         "mens-fashion",
         2022,
         1
        ],
        [
         "finance",
         2022,
         1
        ],
        [
         "tattoos",
         2022,
         1
        ],
        [
         "art",
         2022,
         1
        ],
        [
         "christmas",
         2022,
         1
        ],
        [
         "tattoos",
         2021,
         2
        ],
        [
         "diy-and-crafts",
         2021,
         2
        ],
        [
         "mens-fashion",
         2021,
         2
        ],
        [
         "art",
         2021,
         1
        ],
        [
         "travel",
         2021,
         1
        ],
        [
         "education",
         2021,
         1
        ],
        [
         "quotes",
         2021,
         1
        ],
        [
         "beauty",
         2021,
         1
        ],
        [
         "home-decor",
         2021,
         1
        ],
        [
         "travel",
         2020,
         5
        ],
        [
         "tattoos",
         2020,
         4
        ],
        [
         "diy-and-crafts",
         2020,
         2
        ],
        [
         "beauty",
         2020,
         2
        ],
        [
         "art",
         2020,
         2
        ],
        [
         "home-decor",
         2020,
         1
        ],
        [
         "christmas",
         2020,
         1
        ],
        [
         "quotes",
         2020,
         1
        ],
        [
         "finance",
         2020,
         1
        ],
        [
         "finance",
         2019,
         3
        ],
        [
         "tattoos",
         2019,
         3
        ],
        [
         "art",
         2019,
         2
        ],
        [
         "quotes",
         2019,
         2
        ],
        [
         "diy-and-crafts",
         2019,
         2
        ],
        [
         "travel",
         2019,
         2
        ],
        [
         "beauty",
         2019,
         2
        ],
        [
         "vehicles",
         2019,
         1
        ],
        [
         "event-planning",
         2019,
         1
        ],
        [
         "christmas",
         2019,
         1
        ],
        [
         "christmas",
         2018,
         3
        ],
        [
         "vehicles",
         2018,
         3
        ],
        [
         "home-decor",
         2018,
         2
        ],
        [
         "art",
         2018,
         2
        ],
        [
         "quotes",
         2018,
         1
        ],
        [
         "education",
         2018,
         1
        ],
        [
         "finance",
         2018,
         1
        ],
        [
         "diy-and-crafts",
         2018,
         1
        ],
        [
         "travel",
         2018,
         1
        ],
        [
         "tattoos",
         2018,
         1
        ]
       ],
       "datasetInfos": [],
       "dbfsResultPath": null,
       "isJsonSchema": true,
       "metadata": {},
       "overflow": false,
       "plotOptions": {
        "customPlotOptions": {},
        "displayType": "table",
        "pivotAggregation": null,
        "pivotColumns": null,
        "xColumns": null,
        "yColumns": null
       },
       "removedWidgets": [],
       "schema": [
        {
         "metadata": "{}",
         "name": "category",
         "type": "\"string\""
        },
        {
         "metadata": "{}",
         "name": "post_year",
         "type": "\"integer\""
        },
        {
         "metadata": "{}",
         "name": "category_count",
         "type": "\"long\""
        }
       ],
       "type": "table"
      }
     },
     "output_type": "display_data"
    }
   ],
   "source": [
    "%sql \n",
    "--TASK 5 \n",
    "SELECT category, year(timestamp) AS post_year, COUNT(category) AS category_count\n",
    "FROM pinterest \n",
    "JOIN geolocation USING (ind)\n",
    "WHERE year(timestamp) BETWEEN 2018 AND 2022\n",
    "GROUP BY category, year(timestamp)\n",
    "ORDER BY post_year DESC, category_count DESC; "
   ]
  },
  {
   "cell_type": "code",
   "execution_count": 0,
   "metadata": {
    "application/vnd.databricks.v1+cell": {
     "cellMetadata": {
      "byteLimit": 2048000,
      "implicitDf": true,
      "rowLimit": 10000
     },
     "inputWidgets": {},
     "nuid": "fe3e069a-3ecc-413e-a7b3-e1ed933303db",
     "showTitle": false,
     "title": ""
    }
   },
   "outputs": [
    {
     "output_type": "display_data",
     "data": {
      "text/html": [
       "<style scoped>\n",
       "  .table-result-container {\n",
       "    max-height: 300px;\n",
       "    overflow: auto;\n",
       "  }\n",
       "  table, th, td {\n",
       "    border: 1px solid black;\n",
       "    border-collapse: collapse;\n",
       "  }\n",
       "  th, td {\n",
       "    padding: 5px;\n",
       "  }\n",
       "  th {\n",
       "    text-align: left;\n",
       "  }\n",
       "</style><div class='table-result-container'><table class='table-result'><thead style='background-color: white'><tr><th>country</th><th>poster_name</th><th>follower_count</th></tr></thead><tbody><tr><td>Afghanistan</td><td>Dividends Diversify: Money Matters So Build Wealth & Be Rich</td><td>28000</td></tr><tr><td>Albania</td><td>One Little Project</td><td>472000</td></tr><tr><td>Algeria</td><td>YourTango</td><td>942000</td></tr><tr><td>American Samoa</td><td>Mamas Uncut</td><td>8000000</td></tr><tr><td>Andorra</td><td>Glaminati</td><td>799000</td></tr><tr><td>Anguilla</td><td>Red Ted Art</td><td>566000</td></tr><tr><td>Antarctica (the territory South of 60 deg S)</td><td>Mom Managing Chaos | Budgeting for Beginners & Saving Money</td><td>23000</td></tr><tr><td>Antigua and Barbuda</td><td>Elements of the Art Room</td><td>13000</td></tr><tr><td>Argentina</td><td>Next Luxury</td><td>800000</td></tr><tr><td>Armenia</td><td>People</td><td>505000</td></tr><tr><td>Aruba</td><td>Jacqueline MB Designs</td><td>159</td></tr><tr><td>Australia</td><td>Travel Away</td><td>36000</td></tr><tr><td>Bahrain</td><td>REDBOOK Magazine</td><td>133000</td></tr><tr><td>Belgium</td><td>Postcards from Ivi</td><td>15000</td></tr><tr><td>Belize</td><td>Iris Nacole</td><td>1000</td></tr><tr><td>Benin</td><td>Penny Pinchin Mom |  Budget, Get out of Debt, Save Money & More!</td><td>113000</td></tr><tr><td>Bouvet Island (Bouvetoya)</td><td>I Heart Crafty Things</td><td>276000</td></tr><tr><td>British Virgin Islands</td><td>My Math Resources by Amy Harrison</td><td>23000</td></tr><tr><td>Cambodia</td><td>Blusher</td><td>583000</td></tr><tr><td>Central African Republic</td><td>Matador Network</td><td>31000</td></tr><tr><td>Christmas Island</td><td>Instructables</td><td>3000000</td></tr><tr><td>Cocos (Keeling) Islands</td><td>My Cup Runs Over | Homeschool, Home, Mom Life</td><td>4000</td></tr><tr><td>Congo</td><td>The Painted Hinge</td><td>55000</td></tr><tr><td>Cook Islands</td><td>Phenomenal Globe Travel Blog</td><td>7000</td></tr><tr><td>Ecuador</td><td>Laughing Kids Learn | Play Ideas for Kids | Crafts + Activities for Teachers + Parents </td><td>99000</td></tr><tr><td>Egypt</td><td>South Lumina Style</td><td>9000</td></tr><tr><td>El Salvador</td><td>Legendary ltd.</td><td>0</td></tr><tr><td>French Guiana</td><td>Style Your Space Decor</td><td>260</td></tr><tr><td>French Southern Territories</td><td>The Queen Momma</td><td>51000</td></tr><tr><td>Haiti</td><td>Indrani Ghose</td><td>6000</td></tr><tr><td>Ireland</td><td>Sea You Son</td><td>1000</td></tr><tr><td>Japan</td><td>Ginni Gill</td><td>1</td></tr><tr><td>Jersey</td><td>From Pennies to Plenty</td><td>20000</td></tr><tr><td>Kiribati</td><td>ChicnChill | Wall Baskets Decor & Boho Interior</td><td>6000</td></tr><tr><td>Libyan Arab Jamahiriya</td><td>Joyous Beam Candles | Scented candles | Candle Made In india</td><td>1000</td></tr><tr><td>Malawi</td><td>Avenly Lane | Beauty, Fashion & Travel Inspiration</td><td>14000</td></tr><tr><td>Malta</td><td>Luis Alberto Martinez</td><td>13</td></tr><tr><td>Mayotte</td><td>A Beauty Edit | Skincare + Makeup + Haircare</td><td>5000</td></tr><tr><td>Micronesia</td><td>asuwish4</td><td>516</td></tr><tr><td>Monaco</td><td>Savingchamps | Money Saving Tips & Personal Finance</td><td>9000</td></tr><tr><td>Mongolia</td><td>ZAFUL</td><td>893000</td></tr><tr><td>Morocco</td><td>Clare Swindlehurst</td><td>134000</td></tr><tr><td>Netherlands Antilles</td><td>Kim Cook-Thirteen Chairs-Slates Mugs And Tees</td><td>7000</td></tr><tr><td>Nigeria</td><td>CanvasBag.Co</td><td>88000</td></tr><tr><td>Oman</td><td>Sara J Creations</td><td>18000</td></tr><tr><td>Pakistan</td><td>Woodchippell</td><td>2000</td></tr><tr><td>Palestinian Territory</td><td>Merrick's Art</td><td>147000</td></tr><tr><td>Papua New Guinea</td><td>The Family Voyage | Family Travel Inspo | Travel Guides</td><td>8000</td></tr><tr><td>Romania</td><td>Shea Gordon</td><td>5</td></tr><tr><td>Rwanda</td><td>Erin Pothier</td><td>10</td></tr><tr><td>Saint Lucia</td><td>Mama Instincts®</td><td>27000</td></tr><tr><td>Saint Martin</td><td>Country Thang Daily</td><td>9000</td></tr><tr><td>Slovenia</td><td>A Fresh-Squeezed Life</td><td>37000</td></tr><tr><td>South Georgia and the South Sandwich Islands</td><td>Classic Nation</td><td>75000</td></tr><tr><td>Sweden</td><td>The Zoe Report</td><td>434000</td></tr><tr><td>United Kingdom</td><td>Acampora Interiors</td><td>353</td></tr><tr><td>Uzbekistan</td><td>Megan Hallman | Spiritual Empowerment & Intuitive Energy Healing</td><td>2000</td></tr></tbody></table></div>"
      ]
     },
     "metadata": {
      "application/vnd.databricks.v1+output": {
       "addedWidgets": {},
       "aggData": [],
       "aggError": "",
       "aggOverflow": false,
       "aggSchema": [],
       "aggSeriesLimitReached": false,
       "aggType": "",
       "arguments": {},
       "columnCustomDisplayInfos": {},
       "data": [
        [
         "Afghanistan",
         "Dividends Diversify: Money Matters So Build Wealth & Be Rich",
         28000
        ],
        [
         "Albania",
         "One Little Project",
         472000
        ],
        [
         "Algeria",
         "YourTango",
         942000
        ],
        [
         "American Samoa",
         "Mamas Uncut",
         8000000
        ],
        [
         "Andorra",
         "Glaminati",
         799000
        ],
        [
         "Anguilla",
         "Red Ted Art",
         566000
        ],
        [
         "Antarctica (the territory South of 60 deg S)",
         "Mom Managing Chaos | Budgeting for Beginners & Saving Money",
         23000
        ],
        [
         "Antigua and Barbuda",
         "Elements of the Art Room",
         13000
        ],
        [
         "Argentina",
         "Next Luxury",
         800000
        ],
        [
         "Armenia",
         "People",
         505000
        ],
        [
         "Aruba",
         "Jacqueline MB Designs",
         159
        ],
        [
         "Australia",
         "Travel Away",
         36000
        ],
        [
         "Bahrain",
         "REDBOOK Magazine",
         133000
        ],
        [
         "Belgium",
         "Postcards from Ivi",
         15000
        ],
        [
         "Belize",
         "Iris Nacole",
         1000
        ],
        [
         "Benin",
         "Penny Pinchin Mom |  Budget, Get out of Debt, Save Money & More!",
         113000
        ],
        [
         "Bouvet Island (Bouvetoya)",
         "I Heart Crafty Things",
         276000
        ],
        [
         "British Virgin Islands",
         "My Math Resources by Amy Harrison",
         23000
        ],
        [
         "Cambodia",
         "Blusher",
         583000
        ],
        [
         "Central African Republic",
         "Matador Network",
         31000
        ],
        [
         "Christmas Island",
         "Instructables",
         3000000
        ],
        [
         "Cocos (Keeling) Islands",
         "My Cup Runs Over | Homeschool, Home, Mom Life",
         4000
        ],
        [
         "Congo",
         "The Painted Hinge",
         55000
        ],
        [
         "Cook Islands",
         "Phenomenal Globe Travel Blog",
         7000
        ],
        [
         "Ecuador",
         "Laughing Kids Learn | Play Ideas for Kids | Crafts + Activities for Teachers + Parents ",
         99000
        ],
        [
         "Egypt",
         "South Lumina Style",
         9000
        ],
        [
         "El Salvador",
         "Legendary ltd.",
         0
        ],
        [
         "French Guiana",
         "Style Your Space Decor",
         260
        ],
        [
         "French Southern Territories",
         "The Queen Momma",
         51000
        ],
        [
         "Haiti",
         "Indrani Ghose",
         6000
        ],
        [
         "Ireland",
         "Sea You Son",
         1000
        ],
        [
         "Japan",
         "Ginni Gill",
         1
        ],
        [
         "Jersey",
         "From Pennies to Plenty",
         20000
        ],
        [
         "Kiribati",
         "ChicnChill | Wall Baskets Decor & Boho Interior",
         6000
        ],
        [
         "Libyan Arab Jamahiriya",
         "Joyous Beam Candles | Scented candles | Candle Made In india",
         1000
        ],
        [
         "Malawi",
         "Avenly Lane | Beauty, Fashion & Travel Inspiration",
         14000
        ],
        [
         "Malta",
         "Luis Alberto Martinez",
         13
        ],
        [
         "Mayotte",
         "A Beauty Edit | Skincare + Makeup + Haircare",
         5000
        ],
        [
         "Micronesia",
         "asuwish4",
         516
        ],
        [
         "Monaco",
         "Savingchamps | Money Saving Tips & Personal Finance",
         9000
        ],
        [
         "Mongolia",
         "ZAFUL",
         893000
        ],
        [
         "Morocco",
         "Clare Swindlehurst",
         134000
        ],
        [
         "Netherlands Antilles",
         "Kim Cook-Thirteen Chairs-Slates Mugs And Tees",
         7000
        ],
        [
         "Nigeria",
         "CanvasBag.Co",
         88000
        ],
        [
         "Oman",
         "Sara J Creations",
         18000
        ],
        [
         "Pakistan",
         "Woodchippell",
         2000
        ],
        [
         "Palestinian Territory",
         "Merrick's Art",
         147000
        ],
        [
         "Papua New Guinea",
         "The Family Voyage | Family Travel Inspo | Travel Guides",
         8000
        ],
        [
         "Romania",
         "Shea Gordon",
         5
        ],
        [
         "Rwanda",
         "Erin Pothier",
         10
        ],
        [
         "Saint Lucia",
         "Mama Instincts®",
         27000
        ],
        [
         "Saint Martin",
         "Country Thang Daily",
         9000
        ],
        [
         "Slovenia",
         "A Fresh-Squeezed Life",
         37000
        ],
        [
         "South Georgia and the South Sandwich Islands",
         "Classic Nation",
         75000
        ],
        [
         "Sweden",
         "The Zoe Report",
         434000
        ],
        [
         "United Kingdom",
         "Acampora Interiors",
         353
        ],
        [
         "Uzbekistan",
         "Megan Hallman | Spiritual Empowerment & Intuitive Energy Healing",
         2000
        ]
       ],
       "datasetInfos": [],
       "dbfsResultPath": null,
       "isJsonSchema": true,
       "metadata": {},
       "overflow": false,
       "plotOptions": {
        "customPlotOptions": {},
        "displayType": "table",
        "pivotAggregation": null,
        "pivotColumns": null,
        "xColumns": null,
        "yColumns": null
       },
       "removedWidgets": [],
       "schema": [
        {
         "metadata": "{}",
         "name": "country",
         "type": "\"string\""
        },
        {
         "metadata": "{}",
         "name": "poster_name",
         "type": "\"string\""
        },
        {
         "metadata": "{}",
         "name": "follower_count",
         "type": "\"integer\""
        }
       ],
       "type": "table"
      }
     },
     "output_type": "display_data"
    }
   ],
   "source": [
    "%sql\n",
    "--TASK 6 - PART 1\n",
    "SELECT country, poster_name, follower_count\n",
    "FROM (\n",
    "    SELECT country, poster_name, follower_count,\n",
    "        ROW_NUMBER() OVER (PARTITION BY country ORDER BY follower_count DESC) as row_num\n",
    "    FROM pinterest\n",
    "    JOIN geolocation USING(ind)\n",
    "    JOIN user USING(ind)\n",
    ") AS ranked\n",
    "WHERE ranked.row_num = 1"
   ]
  },
  {
   "cell_type": "code",
   "execution_count": 0,
   "metadata": {
    "application/vnd.databricks.v1+cell": {
     "cellMetadata": {
      "byteLimit": 2048000,
      "implicitDf": true,
      "rowLimit": 10000
     },
     "inputWidgets": {},
     "nuid": "c06e8443-4d8b-4d37-8219-1f8943317bba",
     "showTitle": false,
     "title": ""
    }
   },
   "outputs": [
    {
     "output_type": "display_data",
     "data": {
      "text/html": [
       "<style scoped>\n",
       "  .table-result-container {\n",
       "    max-height: 300px;\n",
       "    overflow: auto;\n",
       "  }\n",
       "  table, th, td {\n",
       "    border: 1px solid black;\n",
       "    border-collapse: collapse;\n",
       "  }\n",
       "  th, td {\n",
       "    padding: 5px;\n",
       "  }\n",
       "  th {\n",
       "    text-align: left;\n",
       "  }\n",
       "</style><div class='table-result-container'><table class='table-result'><thead style='background-color: white'><tr><th>country</th><th>total_followers</th></tr></thead><tbody><tr><td>American Samoa</td><td>8000000</td></tr></tbody></table></div>"
      ]
     },
     "metadata": {
      "application/vnd.databricks.v1+output": {
       "addedWidgets": {},
       "aggData": [],
       "aggError": "",
       "aggOverflow": false,
       "aggSchema": [],
       "aggSeriesLimitReached": false,
       "aggType": "",
       "arguments": {},
       "columnCustomDisplayInfos": {},
       "data": [
        [
         "American Samoa",
         8000000
        ]
       ],
       "datasetInfos": [],
       "dbfsResultPath": null,
       "isJsonSchema": true,
       "metadata": {},
       "overflow": false,
       "plotOptions": {
        "customPlotOptions": {},
        "displayType": "table",
        "pivotAggregation": null,
        "pivotColumns": null,
        "xColumns": null,
        "yColumns": null
       },
       "removedWidgets": [],
       "schema": [
        {
         "metadata": "{}",
         "name": "country",
         "type": "\"string\""
        },
        {
         "metadata": "{}",
         "name": "total_followers",
         "type": "\"long\""
        }
       ],
       "type": "table"
      }
     },
     "output_type": "display_data"
    }
   ],
   "source": [
    "%sql\n",
    "-- TASK 6 \n",
    "WITH top_followers_per_country AS (\n",
    "    SELECT country, poster_name, follower_count\n",
    "    FROM (\n",
    "        SELECT country, poster_name, follower_count,\n",
    "            ROW_NUMBER() OVER (PARTITION BY country ORDER BY follower_count DESC) as row_num\n",
    "        FROM pinterest\n",
    "        JOIN geolocation USING(ind)\n",
    "        JOIN user USING(ind)\n",
    "    ) AS ranked\n",
    "    WHERE ranked.row_num = 1\n",
    ")\n",
    "\n",
    "SELECT country, SUM(follower_count) AS total_followers\n",
    "FROM top_followers_per_country\n",
    "GROUP BY country\n",
    "ORDER BY total_followers DESC\n",
    "LIMIT 1"
   ]
  },
  {
   "cell_type": "code",
   "execution_count": 0,
   "metadata": {
    "application/vnd.databricks.v1+cell": {
     "cellMetadata": {
      "byteLimit": 2048000,
      "implicitDf": true,
      "rowLimit": 10000
     },
     "inputWidgets": {},
     "nuid": "bb56e4fc-0ce0-45ff-bf7b-eb9449da1c8d",
     "showTitle": false,
     "title": ""
    }
   },
   "outputs": [
    {
     "output_type": "display_data",
     "data": {
      "text/html": [
       "<style scoped>\n",
       "  .table-result-container {\n",
       "    max-height: 300px;\n",
       "    overflow: auto;\n",
       "  }\n",
       "  table, th, td {\n",
       "    border: 1px solid black;\n",
       "    border-collapse: collapse;\n",
       "  }\n",
       "  th, td {\n",
       "    padding: 5px;\n",
       "  }\n",
       "  th {\n",
       "    text-align: left;\n",
       "  }\n",
       "</style><div class='table-result-container'><table class='table-result'><thead style='background-color: white'><tr><th>age_group</th><th>category</th><th>category_count</th></tr></thead><tbody><tr><td>+50</td><td>home-decor</td><td>1</td></tr><tr><td>18-24</td><td>tattoos</td><td>8</td></tr><tr><td>25-35</td><td>diy-and-crafts</td><td>4</td></tr><tr><td>36-50</td><td>beauty</td><td>3</td></tr></tbody></table></div>"
      ]
     },
     "metadata": {
      "application/vnd.databricks.v1+output": {
       "addedWidgets": {},
       "aggData": [],
       "aggError": "",
       "aggOverflow": false,
       "aggSchema": [],
       "aggSeriesLimitReached": false,
       "aggType": "",
       "arguments": {},
       "columnCustomDisplayInfos": {},
       "data": [
        [
         "+50",
         "home-decor",
         1
        ],
        [
         "18-24",
         "tattoos",
         8
        ],
        [
         "25-35",
         "diy-and-crafts",
         4
        ],
        [
         "36-50",
         "beauty",
         3
        ]
       ],
       "datasetInfos": [],
       "dbfsResultPath": null,
       "isJsonSchema": true,
       "metadata": {},
       "overflow": false,
       "plotOptions": {
        "customPlotOptions": {},
        "displayType": "table",
        "pivotAggregation": null,
        "pivotColumns": null,
        "xColumns": null,
        "yColumns": null
       },
       "removedWidgets": [],
       "schema": [
        {
         "metadata": "{}",
         "name": "age_group",
         "type": "\"string\""
        },
        {
         "metadata": "{}",
         "name": "category",
         "type": "\"string\""
        },
        {
         "metadata": "{}",
         "name": "category_count",
         "type": "\"long\""
        }
       ],
       "type": "table"
      }
     },
     "output_type": "display_data"
    }
   ],
   "source": [
    "%sql \n",
    "-- TASK 7 \n",
    "WITH categorised AS (\n",
    "    SELECT\n",
    "        category, COUNT(category) AS category_count,\n",
    "        CASE\n",
    "            WHEN age BETWEEN 18 AND 24 THEN '18-24'\n",
    "            WHEN age BETWEEN 25 AND 35 THEN '25-35'\n",
    "            WHEN age BETWEEN 36 AND 50 THEN '36-50'\n",
    "            WHEN age > 50 THEN '+50'\n",
    "        END AS age_group\n",
    "    FROM pinterest\n",
    "    JOIN user USING(ind)\n",
    "    GROUP BY category, age_group\n",
    "),\n",
    "ranked AS (\n",
    "    SELECT\n",
    "        category, age_group, category_count,\n",
    "        ROW_NUMBER() OVER (PARTITION BY age_group ORDER BY category_count DESC) AS row_num\n",
    "    FROM categorised\n",
    ")\n",
    "SELECT\n",
    "    age_group, category, category_count\n",
    "FROM ranked\n",
    "WHERE row_num = 1;\n"
   ]
  },
  {
   "cell_type": "code",
   "execution_count": 0,
   "metadata": {
    "application/vnd.databricks.v1+cell": {
     "cellMetadata": {
      "byteLimit": 2048000,
      "implicitDf": true,
      "rowLimit": 10000
     },
     "inputWidgets": {},
     "nuid": "0f24d493-b60e-487f-aa4b-280dcfddd606",
     "showTitle": false,
     "title": ""
    }
   },
   "outputs": [
    {
     "output_type": "display_data",
     "data": {
      "text/html": [
       "<style scoped>\n",
       "  .table-result-container {\n",
       "    max-height: 300px;\n",
       "    overflow: auto;\n",
       "  }\n",
       "  table, th, td {\n",
       "    border: 1px solid black;\n",
       "    border-collapse: collapse;\n",
       "  }\n",
       "  th, td {\n",
       "    padding: 5px;\n",
       "  }\n",
       "  th {\n",
       "    text-align: left;\n",
       "  }\n",
       "</style><div class='table-result-container'><table class='table-result'><thead style='background-color: white'><tr><th>age_group</th><th>median_follower_count</th></tr></thead><tbody><tr><td>+50</td><td>353</td></tr><tr><td>18-24</td><td>55000</td></tr><tr><td>25-35</td><td>6000</td></tr><tr><td>36-50</td><td>9000</td></tr></tbody></table></div>"
      ]
     },
     "metadata": {
      "application/vnd.databricks.v1+output": {
       "addedWidgets": {},
       "aggData": [],
       "aggError": "",
       "aggOverflow": false,
       "aggSchema": [],
       "aggSeriesLimitReached": false,
       "aggType": "",
       "arguments": {},
       "columnCustomDisplayInfos": {},
       "data": [
        [
         "+50",
         353
        ],
        [
         "18-24",
         55000
        ],
        [
         "25-35",
         6000
        ],
        [
         "36-50",
         9000
        ]
       ],
       "datasetInfos": [],
       "dbfsResultPath": null,
       "isJsonSchema": true,
       "metadata": {},
       "overflow": false,
       "plotOptions": {
        "customPlotOptions": {},
        "displayType": "table",
        "pivotAggregation": null,
        "pivotColumns": null,
        "xColumns": null,
        "yColumns": null
       },
       "removedWidgets": [],
       "schema": [
        {
         "metadata": "{}",
         "name": "age_group",
         "type": "\"string\""
        },
        {
         "metadata": "{}",
         "name": "median_follower_count",
         "type": "\"integer\""
        }
       ],
       "type": "table"
      }
     },
     "output_type": "display_data"
    }
   ],
   "source": [
    "%sql \n",
    "-- TASK 8 \n",
    "  SELECT\n",
    "        CASE\n",
    "            WHEN age BETWEEN 18 AND 24 THEN '18-24'\n",
    "            WHEN age BETWEEN 25 AND 35 THEN '25-35'\n",
    "            WHEN age BETWEEN 36 AND 50 THEN '36-50'\n",
    "            WHEN age > 50 THEN '+50'\n",
    "        END AS age_group,\n",
    "        percentile_approx(follower_count, 0.5) AS median_follower_count\n",
    "        FROM pinterest\n",
    "        JOIN user USING(ind)\n",
    "        GROUP BY age_group\n",
    "        ORDER BY age_group"
   ]
  },
  {
   "cell_type": "code",
   "execution_count": 0,
   "metadata": {
    "application/vnd.databricks.v1+cell": {
     "cellMetadata": {
      "byteLimit": 2048000,
      "implicitDf": true,
      "rowLimit": 10000
     },
     "inputWidgets": {},
     "nuid": "1bed1d23-11d9-4382-9b4a-5c65a8adc506",
     "showTitle": false,
     "title": ""
    }
   },
   "outputs": [
    {
     "output_type": "display_data",
     "data": {
      "text/html": [
       "<style scoped>\n",
       "  .table-result-container {\n",
       "    max-height: 300px;\n",
       "    overflow: auto;\n",
       "  }\n",
       "  table, th, td {\n",
       "    border: 1px solid black;\n",
       "    border-collapse: collapse;\n",
       "  }\n",
       "  th, td {\n",
       "    padding: 5px;\n",
       "  }\n",
       "  th {\n",
       "    text-align: left;\n",
       "  }\n",
       "</style><div class='table-result-container'><table class='table-result'><thead style='background-color: white'><tr><th>number_users_joined</th><th>post_year</th></tr></thead><tbody><tr><td>290</td><td>2015</td></tr><tr><td>335</td><td>2016</td></tr><tr><td>129</td><td>2017</td></tr></tbody></table></div>"
      ]
     },
     "metadata": {
      "application/vnd.databricks.v1+output": {
       "addedWidgets": {},
       "aggData": [],
       "aggError": "",
       "aggOverflow": false,
       "aggSchema": [],
       "aggSeriesLimitReached": false,
       "aggType": "",
       "arguments": {},
       "columnCustomDisplayInfos": {},
       "data": [
        [
         290,
         2015
        ],
        [
         335,
         2016
        ],
        [
         129,
         2017
        ]
       ],
       "datasetInfos": [],
       "dbfsResultPath": null,
       "isJsonSchema": true,
       "metadata": {},
       "overflow": false,
       "plotOptions": {
        "customPlotOptions": {},
        "displayType": "table",
        "pivotAggregation": null,
        "pivotColumns": null,
        "xColumns": null,
        "yColumns": null
       },
       "removedWidgets": [],
       "schema": [
        {
         "metadata": "{}",
         "name": "number_users_joined",
         "type": "\"long\""
        },
        {
         "metadata": "{}",
         "name": "post_year",
         "type": "\"integer\""
        }
       ],
       "type": "table"
      }
     },
     "output_type": "display_data"
    }
   ],
   "source": [
    "%sql\n",
    "-- TASK 9 \n",
    "SELECT COUNT(ind) AS number_users_joined, year(date_joined) AS post_year\n",
    "FROM user\n",
    "WHERE year(date_joined) BETWEEN 2015 AND 2020\n",
    "GROUP BY year(date_joined)"
   ]
  },
  {
   "cell_type": "code",
   "execution_count": 0,
   "metadata": {
    "application/vnd.databricks.v1+cell": {
     "cellMetadata": {
      "byteLimit": 2048000,
      "implicitDf": true,
      "rowLimit": 10000
     },
     "inputWidgets": {},
     "nuid": "5cf91003-a337-4d0e-ad46-8bcc0fce4e45",
     "showTitle": false,
     "title": ""
    }
   },
   "outputs": [
    {
     "output_type": "display_data",
     "data": {
      "text/html": [
       "<style scoped>\n",
       "  .table-result-container {\n",
       "    max-height: 300px;\n",
       "    overflow: auto;\n",
       "  }\n",
       "  table, th, td {\n",
       "    border: 1px solid black;\n",
       "    border-collapse: collapse;\n",
       "  }\n",
       "  th, td {\n",
       "    padding: 5px;\n",
       "  }\n",
       "  th {\n",
       "    text-align: left;\n",
       "  }\n",
       "</style><div class='table-result-container'><table class='table-result'><thead style='background-color: white'><tr><th>median_follower_count</th><th>post_year</th></tr></thead><tbody><tr><td>28000</td><td>2015</td></tr><tr><td>15000</td><td>2016</td></tr><tr><td>9000</td><td>2017</td></tr></tbody></table></div>"
      ]
     },
     "metadata": {
      "application/vnd.databricks.v1+output": {
       "addedWidgets": {},
       "aggData": [],
       "aggError": "",
       "aggOverflow": false,
       "aggSchema": [],
       "aggSeriesLimitReached": false,
       "aggType": "",
       "arguments": {},
       "columnCustomDisplayInfos": {},
       "data": [
        [
         28000,
         2015
        ],
        [
         15000,
         2016
        ],
        [
         9000,
         2017
        ]
       ],
       "datasetInfos": [],
       "dbfsResultPath": null,
       "isJsonSchema": true,
       "metadata": {},
       "overflow": false,
       "plotOptions": {
        "customPlotOptions": {},
        "displayType": "table",
        "pivotAggregation": null,
        "pivotColumns": null,
        "xColumns": null,
        "yColumns": null
       },
       "removedWidgets": [],
       "schema": [
        {
         "metadata": "{}",
         "name": "median_follower_count",
         "type": "\"integer\""
        },
        {
         "metadata": "{}",
         "name": "post_year",
         "type": "\"integer\""
        }
       ],
       "type": "table"
      }
     },
     "output_type": "display_data"
    }
   ],
   "source": [
    "%sql\n",
    "-- TASK 10 \n",
    "SELECT percentile_approx(follower_count, 0.5) AS median_follower_count, year(date_joined) AS post_year\n",
    "FROM user\n",
    "JOIN pinterest USING(ind)\n",
    "WHERE year(date_joined) BETWEEN 2015 AND 2020\n",
    "GROUP BY year(date_joined)"
   ]
  },
  {
   "cell_type": "code",
   "execution_count": 0,
   "metadata": {
    "application/vnd.databricks.v1+cell": {
     "cellMetadata": {
      "byteLimit": 2048000,
      "implicitDf": true,
      "rowLimit": 10000
     },
     "inputWidgets": {},
     "nuid": "40dd2bad-d54e-41e7-9cca-d700b9acffc1",
     "showTitle": false,
     "title": ""
    }
   },
   "outputs": [
    {
     "output_type": "display_data",
     "data": {
      "text/html": [
       "<style scoped>\n",
       "  .table-result-container {\n",
       "    max-height: 300px;\n",
       "    overflow: auto;\n",
       "  }\n",
       "  table, th, td {\n",
       "    border: 1px solid black;\n",
       "    border-collapse: collapse;\n",
       "  }\n",
       "  th, td {\n",
       "    padding: 5px;\n",
       "  }\n",
       "  th {\n",
       "    text-align: left;\n",
       "  }\n",
       "</style><div class='table-result-container'><table class='table-result'><thead style='background-color: white'><tr><th>age_group</th><th>post_year</th><th>median_follower_count</th></tr></thead><tbody><tr><td>18-24</td><td>2015</td><td>190000</td></tr><tr><td>18-24</td><td>2016</td><td>55000</td></tr><tr><td>18-24</td><td>2017</td><td>1</td></tr><tr><td>25-35</td><td>2015</td><td>8000</td></tr><tr><td>25-35</td><td>2016</td><td>4000</td></tr><tr><td>25-35</td><td>2017</td><td>14000</td></tr><tr><td>36-50</td><td>2015</td><td>23000</td></tr><tr><td>36-50</td><td>2016</td><td>18000</td></tr><tr><td>36-50</td><td>2017</td><td>6000</td></tr><tr><td>50+</td><td>2016</td><td>353</td></tr></tbody></table></div>"
      ]
     },
     "metadata": {
      "application/vnd.databricks.v1+output": {
       "addedWidgets": {},
       "aggData": [],
       "aggError": "",
       "aggOverflow": false,
       "aggSchema": [],
       "aggSeriesLimitReached": false,
       "aggType": "",
       "arguments": {},
       "columnCustomDisplayInfos": {},
       "data": [
        [
         "18-24",
         2015,
         190000
        ],
        [
         "18-24",
         2016,
         55000
        ],
        [
         "18-24",
         2017,
         1
        ],
        [
         "25-35",
         2015,
         8000
        ],
        [
         "25-35",
         2016,
         4000
        ],
        [
         "25-35",
         2017,
         14000
        ],
        [
         "36-50",
         2015,
         23000
        ],
        [
         "36-50",
         2016,
         18000
        ],
        [
         "36-50",
         2017,
         6000
        ],
        [
         "50+",
         2016,
         353
        ]
       ],
       "datasetInfos": [],
       "dbfsResultPath": null,
       "isJsonSchema": true,
       "metadata": {},
       "overflow": false,
       "plotOptions": {
        "customPlotOptions": {},
        "displayType": "table",
        "pivotAggregation": null,
        "pivotColumns": null,
        "xColumns": null,
        "yColumns": null
       },
       "removedWidgets": [],
       "schema": [
        {
         "metadata": "{}",
         "name": "age_group",
         "type": "\"string\""
        },
        {
         "metadata": "{}",
         "name": "post_year",
         "type": "\"integer\""
        },
        {
         "metadata": "{}",
         "name": "median_follower_count",
         "type": "\"integer\""
        }
       ],
       "type": "table"
      }
     },
     "output_type": "display_data"
    }
   ],
   "source": [
    "%sql\n",
    "-- TASK 11\n",
    "SELECT\n",
    "        CASE\n",
    "            WHEN age BETWEEN 18 AND 24 THEN '18-24'\n",
    "            WHEN age BETWEEN 25 AND 35 THEN '25-35'\n",
    "            WHEN age BETWEEN 36 AND 50 THEN '36-50'\n",
    "            WHEN age > 50 THEN '50+'\n",
    "        END AS age_group,\n",
    "        year(date_joined) AS post_year,\n",
    "          percentile_approx(follower_count, 0.5) AS median_follower_count\n",
    "        FROM user\n",
    "        JOIN pinterest USING(ind)\n",
    "        WHERE year(date_joined) BETWEEN 2015 AND 2020\n",
    "        GROUP BY age_group, year(date_joined)\n",
    "        ORDER BY age_group, post_year\n",
    "       \n",
    "\n"
   ]
  }
 ],
 "metadata": {
  "application/vnd.databricks.v1+notebook": {
   "dashboards": [],
   "environmentMetadata": null,
   "language": "python",
   "notebookMetadata": {
    "mostRecentlyExecutedCommandWithImplicitDF": {
     "commandId": 3310590678970270,
     "dataframes": [
      "_sqldf"
     ]
    },
    "pythonIndentUnit": 4
   },
   "notebookName": "milestone7-task4-11",
   "widgets": {}
  }
 },
 "nbformat": 4,
 "nbformat_minor": 0
}
