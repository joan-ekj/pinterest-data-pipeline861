{
 "cells": [
  {
   "cell_type": "code",
   "execution_count": 0,
   "metadata": {
    "application/vnd.databricks.v1+cell": {
     "cellMetadata": {
      "byteLimit": 2048000,
      "rowLimit": 10000
     },
     "inputWidgets": {},
     "nuid": "e2de1ee7-8dea-4485-8907-9fa0dee9917c",
     "showTitle": false,
     "title": ""
    }
   },
   "outputs": [
    {
     "output_type": "display_data",
     "data": {
      "text/html": [
       "<style scoped>\n",
       "  .ansiout {\n",
       "    display: block;\n",
       "    unicode-bidi: embed;\n",
       "    white-space: pre-wrap;\n",
       "    word-wrap: break-word;\n",
       "    word-break: break-all;\n",
       "    font-family: \"Menlo\", \"Monaco\", \"Consolas\", \"Ubuntu Mono\", \"Source Code Pro\", monospace;\n",
       "    font-size: 13px;\n",
       "    color: #555;\n",
       "    margin-left: 4px;\n",
       "    line-height: 19px;\n",
       "  }\n",
       "</style>\n",
       "<div class=\"ansiout\"></div>"
      ]
     },
     "metadata": {
      "application/vnd.databricks.v1+output": {
       "addedWidgets": {},
       "arguments": {},
       "data": "<div class=\"ansiout\"></div>",
       "datasetInfos": [],
       "metadata": {},
       "removedWidgets": [],
       "type": "html"
      }
     },
     "output_type": "display_data"
    }
   ],
   "source": [
    "from pyspark.sql.types import *\n",
    "from pyspark.sql.functions import *\n",
    "import urllib"
   ]
  },
  {
   "cell_type": "code",
   "execution_count": 0,
   "metadata": {
    "application/vnd.databricks.v1+cell": {
     "cellMetadata": {
      "byteLimit": 2048000,
      "rowLimit": 10000
     },
     "inputWidgets": {},
     "nuid": "92937c42-5594-4e98-9d9e-0667b9f4c0de",
     "showTitle": false,
     "title": ""
    }
   },
   "outputs": [
    {
     "output_type": "display_data",
     "data": {
      "text/html": [
       "<style scoped>\n",
       "  .ansiout {\n",
       "    display: block;\n",
       "    unicode-bidi: embed;\n",
       "    white-space: pre-wrap;\n",
       "    word-wrap: break-word;\n",
       "    word-break: break-all;\n",
       "    font-family: \"Menlo\", \"Monaco\", \"Consolas\", \"Ubuntu Mono\", \"Source Code Pro\", monospace;\n",
       "    font-size: 13px;\n",
       "    color: #555;\n",
       "    margin-left: 4px;\n",
       "    line-height: 19px;\n",
       "  }\n",
       "</style>\n",
       "<div class=\"ansiout\"></div>"
      ]
     },
     "metadata": {
      "application/vnd.databricks.v1+output": {
       "addedWidgets": {},
       "arguments": {},
       "data": "<div class=\"ansiout\"></div>",
       "datasetInfos": [],
       "metadata": {},
       "removedWidgets": [],
       "type": "html"
      }
     },
     "output_type": "display_data"
    }
   ],
   "source": [
    "delta_table_path = \"dbfs:/user/hive/warehouse/authentication_credentials\"\n",
    "aws_keys_df = spark.read.format(\"delta\").load(delta_table_path)\n",
    "\n",
    "ACCESS_KEY = aws_keys_df.select('Access key ID').collect()[0]['Access key ID']\n",
    "SECRET_KEY = aws_keys_df.select('Secret access key').collect()[0]['Secret access key']\n",
    "\n",
    "# Encode the secrete key\n",
    "ENCODED_SECRET_KEY = urllib.parse.quote(string=SECRET_KEY, safe=\"\")"
   ]
  },
  {
   "cell_type": "code",
   "execution_count": 0,
   "metadata": {
    "application/vnd.databricks.v1+cell": {
     "cellMetadata": {
      "byteLimit": 2048000,
      "implicitDf": true,
      "rowLimit": 10000
     },
     "inputWidgets": {},
     "nuid": "318157e4-e873-4660-962e-c275390f6540",
     "showTitle": false,
     "title": ""
    }
   },
   "outputs": [
    {
     "output_type": "display_data",
     "data": {
      "text/html": [
       "<style scoped>\n",
       "  .table-result-container {\n",
       "    max-height: 300px;\n",
       "    overflow: auto;\n",
       "  }\n",
       "  table, th, td {\n",
       "    border: 1px solid black;\n",
       "    border-collapse: collapse;\n",
       "  }\n",
       "  th, td {\n",
       "    padding: 5px;\n",
       "  }\n",
       "  th {\n",
       "    text-align: left;\n",
       "  }\n",
       "</style><div class='table-result-container'><table class='table-result'><thead style='background-color: white'><tr><th>key</th><th>value</th></tr></thead><tbody><tr><td>spark.databricks.delta.formatCheck.enabled</td><td>false</td></tr></tbody></table></div>"
      ]
     },
     "metadata": {
      "application/vnd.databricks.v1+output": {
       "addedWidgets": {},
       "aggData": [],
       "aggError": "",
       "aggOverflow": false,
       "aggSchema": [],
       "aggSeriesLimitReached": false,
       "aggType": "",
       "arguments": {},
       "columnCustomDisplayInfos": {},
       "data": [
        [
         "spark.databricks.delta.formatCheck.enabled",
         "false"
        ]
       ],
       "datasetInfos": [],
       "dbfsResultPath": null,
       "isJsonSchema": true,
       "metadata": {},
       "overflow": false,
       "plotOptions": {
        "customPlotOptions": {},
        "displayType": "table",
        "pivotAggregation": null,
        "pivotColumns": null,
        "xColumns": null,
        "yColumns": null
       },
       "removedWidgets": [],
       "schema": [
        {
         "metadata": "{}",
         "name": "key",
         "type": "\"string\""
        },
        {
         "metadata": "{}",
         "name": "value",
         "type": "\"string\""
        }
       ],
       "type": "table"
      }
     },
     "output_type": "display_data"
    }
   ],
   "source": [
    "%sql\n",
    "-- Disable format checks during the reading of Delta tables\n",
    "SET spark.databricks.delta.formatCheck.enabled=false"
   ]
  },
  {
   "cell_type": "code",
   "execution_count": 0,
   "metadata": {
    "application/vnd.databricks.v1+cell": {
     "cellMetadata": {
      "byteLimit": 2048000,
      "rowLimit": 10000
     },
     "inputWidgets": {},
     "nuid": "6f937ef3-7172-4248-9d74-de280fcd24ee",
     "showTitle": false,
     "title": ""
    }
   },
   "outputs": [
    {
     "output_type": "display_data",
     "data": {
      "text/html": [
       "<style scoped>\n",
       "  .ansiout {\n",
       "    display: block;\n",
       "    unicode-bidi: embed;\n",
       "    white-space: pre-wrap;\n",
       "    word-wrap: break-word;\n",
       "    word-break: break-all;\n",
       "    font-family: \"Menlo\", \"Monaco\", \"Consolas\", \"Ubuntu Mono\", \"Source Code Pro\", monospace;\n",
       "    font-size: 13px;\n",
       "    color: #555;\n",
       "    margin-left: 4px;\n",
       "    line-height: 19px;\n",
       "  }\n",
       "</style>\n",
       "<div class=\"ansiout\"></div>"
      ]
     },
     "metadata": {
      "application/vnd.databricks.v1+output": {
       "addedWidgets": {},
       "arguments": {},
       "data": "<div class=\"ansiout\"></div>",
       "datasetInfos": [],
       "metadata": {},
       "removedWidgets": [],
       "type": "html"
      }
     },
     "output_type": "display_data"
    }
   ],
   "source": [
    "# Define the schema for the streams\n",
    "pin_schema = StructType([\n",
    "    StructField(\"category\", StringType(), True),\n",
    "    StructField(\"description\", StringType(), True),\n",
    "    StructField(\"downloaded\", LongType(), True),\n",
    "    StructField(\"follower_count\", StringType(), True),\n",
    "    StructField(\"image_src\", StringType(), True),\n",
    "    StructField(\"index\", LongType(), True),\n",
    "    StructField(\"is_image_or_video\", StringType(), True),\n",
    "    StructField(\"poster_name\", StringType(), True),\n",
    "    StructField(\"save_location\", StringType(), True),\n",
    "    StructField(\"tag_list\", StringType(), True),\n",
    "    StructField(\"title\", StringType(), True),\n",
    "    StructField(\"unique_id\", StringType(), True)\n",
    "])\n",
    "\n",
    "geo_schema = StructType([\n",
    "    StructField(\"country\", StringType(), True),\n",
    "    StructField(\"ind\", LongType(), True),\n",
    "    StructField(\"latitude\", DoubleType(), True),\n",
    "    StructField(\"longitude\", DoubleType(), True),\n",
    "    StructField(\"timestamp\", StringType(), True)\n",
    "])\n",
    "\n",
    "user_schema = StructType([\n",
    "    StructField(\"age\", LongType(), True),\n",
    "    StructField(\"date_joined\", StringType(), True),\n",
    "    StructField(\"first_name\", StringType(), True),\n",
    "    StructField(\"ind\", LongType(), True),\n",
    "    StructField(\"last_name\", StringType(), True)\n",
    "])\n"
   ]
  },
  {
   "cell_type": "code",
   "execution_count": 0,
   "metadata": {
    "application/vnd.databricks.v1+cell": {
     "cellMetadata": {
      "byteLimit": 2048000,
      "rowLimit": 10000
     },
     "inputWidgets": {},
     "nuid": "03e73df3-8bd6-4802-8b3b-e87b0ae8a206",
     "showTitle": false,
     "title": ""
    }
   },
   "outputs": [
    {
     "output_type": "display_data",
     "data": {
      "text/html": [
       "<style scoped>\n",
       "  .ansiout {\n",
       "    display: block;\n",
       "    unicode-bidi: embed;\n",
       "    white-space: pre-wrap;\n",
       "    word-wrap: break-word;\n",
       "    word-break: break-all;\n",
       "    font-family: \"Menlo\", \"Monaco\", \"Consolas\", \"Ubuntu Mono\", \"Source Code Pro\", monospace;\n",
       "    font-size: 13px;\n",
       "    color: #555;\n",
       "    margin-left: 4px;\n",
       "    line-height: 19px;\n",
       "  }\n",
       "</style>\n",
       "<div class=\"ansiout\"></div>"
      ]
     },
     "metadata": {
      "application/vnd.databricks.v1+output": {
       "addedWidgets": {},
       "arguments": {},
       "data": "<div class=\"ansiout\"></div>",
       "datasetInfos": [],
       "metadata": {},
       "removedWidgets": [],
       "type": "html"
      }
     },
     "output_type": "display_data"
    }
   ],
   "source": [
    "# Define function to read streams \n",
    "def read_stream(stream_name, schema):\n",
    "    df = spark \\\n",
    "    .readStream \\\n",
    "    .format('kinesis') \\\n",
    "    .option('streamName', stream_name) \\\n",
    "    .option('initialPosition','earliest') \\\n",
    "    .option('region','us-east-1') \\\n",
    "    .option('awsAccessKey', ACCESS_KEY) \\\n",
    "    .option('awsSecretKey', SECRET_KEY) \\\n",
    "    .load()\n",
    "\n",
    "    df = df.selectExpr(\"CAST(data as STRING)\").select(from_json(\"data\", schema).alias(\"data\")).select(\"data.*\")\n",
    "    return df"
   ]
  },
  {
   "cell_type": "code",
   "execution_count": 0,
   "metadata": {
    "application/vnd.databricks.v1+cell": {
     "cellMetadata": {
      "byteLimit": 2048000,
      "rowLimit": 10000
     },
     "inputWidgets": {},
     "nuid": "b6ad6652-017b-44da-8513-4d3a7ce19af9",
     "showTitle": false,
     "title": ""
    }
   },
   "outputs": [
    {
     "output_type": "display_data",
     "data": {
      "text/html": [
       "<style scoped>\n",
       "  .ansiout {\n",
       "    display: block;\n",
       "    unicode-bidi: embed;\n",
       "    white-space: pre-wrap;\n",
       "    word-wrap: break-word;\n",
       "    word-break: break-all;\n",
       "    font-family: \"Menlo\", \"Monaco\", \"Consolas\", \"Ubuntu Mono\", \"Source Code Pro\", monospace;\n",
       "    font-size: 13px;\n",
       "    color: #555;\n",
       "    margin-left: 4px;\n",
       "    line-height: 19px;\n",
       "  }\n",
       "</style>\n",
       "<div class=\"ansiout\"></div>"
      ]
     },
     "metadata": {
      "application/vnd.databricks.v1+output": {
       "addedWidgets": {},
       "arguments": {},
       "data": "<div class=\"ansiout\"></div>",
       "datasetInfos": [],
       "metadata": {},
       "removedWidgets": [],
       "type": "html"
      }
     },
     "output_type": "display_data"
    }
   ],
   "source": [
    "# Read data from streams \n",
    "pin_stream = read_stream('streaming-0affc011d3cf-pin', pin_schema)\n",
    "geo_stream = read_stream('streaming-0affc011d3cf-geo', geo_schema)\n",
    "user_stream = read_stream('streaming-0affc011d3cf-user', user_schema)"
   ]
  },
  {
   "cell_type": "code",
   "execution_count": 0,
   "metadata": {
    "application/vnd.databricks.v1+cell": {
     "cellMetadata": {
      "byteLimit": 2048000,
      "rowLimit": 10000
     },
     "inputWidgets": {},
     "nuid": "07f5d60b-6d90-4641-a003-fcac7ace28a4",
     "showTitle": false,
     "title": ""
    }
   },
   "outputs": [
    {
     "output_type": "display_data",
     "data": {
      "text/html": [
       "<style scoped>\n",
       "  .table-result-container {\n",
       "    max-height: 300px;\n",
       "    overflow: auto;\n",
       "  }\n",
       "  table, th, td {\n",
       "    border: 1px solid black;\n",
       "    border-collapse: collapse;\n",
       "  }\n",
       "  th, td {\n",
       "    padding: 5px;\n",
       "  }\n",
       "  th {\n",
       "    text-align: left;\n",
       "  }\n",
       "</style><div class='table-result-container'><table class='table-result'><thead style='background-color: white'><tr><th>ind</th><th>unique_id</th><th>title</th><th>description</th><th>follower_count</th><th>poster_name</th><th>tag_list</th><th>is_image_or_video</th><th>image_src</th><th>save_location</th><th>category</th></tr></thead><tbody><tr><td>7528</td><td>fbe53c66-3442-4773-b19e-d3ec6f54dddf</td><td>None</td><td>No description available Story format</td><td>null</td><td>None</td><td>None</td><td>multi-video(story page format)</td><td>None</td><td>/data/mens-fashion</td><td>mens-fashion</td></tr><tr><td>2863</td><td>9bf39437-42a6-4f02-99a0-9a0383d8cd70</td><td>25 Super Fun Summer Crafts for Kids - Of Life and Lisa</td><td>Keep the kids busy this summer with these easy diy crafts and projects. Creative and…</td><td>124000</td><td>Of Life & Lisa | Lifestyle Blog</td><td>Summer Crafts For Kids,Fun Crafts For Kids,Summer Kids,Toddler Crafts,Crafts To Do,Diy For Kids,Summer Snow,Diys For Summer,Craft Ideas For Girls</td><td>image</td><td>https://i.pinimg.com/originals/b3/bc/e2/b3bce2964e8c8975387b39660eed5f16.jpg</td><td>/data/diy-and-crafts</td><td>diy-and-crafts</td></tr><tr><td>5730</td><td>1e1f0c8b-9fcf-460b-9154-c775827206eb</td><td>Island Oasis Coupon Organizer</td><td>Description Coupon Organizer in a fun colorful fabric -island oasis, Great Size for the \"basic\" couponer - holds up to 500 coupons with ease, and is made long enough so that you… </td><td>0</td><td>Consuelo Aguirre</td><td>Grocery Items,Grocery Coupons,Care Organization,Coupon Organization,Extreme Couponing,Couponing 101,Life Binder,Save My Money,Love Coupons</td><td>image</td><td>https://i.pinimg.com/originals/65/bb/ea/65bbeaf458907bb079317d8303c4fa0e.jpg</td><td>/data/finance</td><td>finance</td></tr><tr><td>8304</td><td>5b6d0913-25e4-43ab-839d-85d5516f78a4</td><td>The #1 Reason You’re Not His Priority Anymore - Matthew Coast</td><td>#lovequotes #matchmaker #matchmadeinheaven #loveyourself #respectyourself</td><td>51000</td><td>Commitment Connection</td><td>Wise Quotes,Quotable Quotes,Words Quotes,Wise Words,Quotes To Live By,Great Quotes,Motivational Quotes,Inspirational Quotes,Funny Quotes</td><td>image</td><td>https://i.pinimg.com/originals/c6/64/ee/c664ee71524fb5a6e7b7b49233f93b43.png</td><td>/data/quotes</td><td>quotes</td></tr><tr><td>8731</td><td>ea760f71-febf-4023-b592-d17396659039</td><td>20 Koi Fish Tattoos For Lucky Men</td><td>Koi fish tattoos are a popular choice for men who want to make a statement, thanks to their rich symbolism and bold design.</td><td>211000</td><td>TheTrendSpotter</td><td>Dr Tattoo,Wörter Tattoos,Pisces Tattoos,Tatoo Art,Dream Tattoos,Dope Tattoos,Mini Tattoos,Finger Tattoos,Body Art Tattoos</td><td>image</td><td>https://i.pinimg.com/originals/8a/0c/0a/8a0c0a7b6236565c519acd41ad1a52c0.jpg</td><td>/data/tattoos</td><td>tattoos</td></tr><tr><td>1313</td><td>44662045-e891-4821-8a19-ebe7eedd371a</td><td>Liquid Lash Extensions Mascara</td><td>Instantly create the look of lash extensions with this award-winning, best-selling mascara that won't clump, flake or smudge. Available in 3 shades!</td><td>43000</td><td>Thrive Causemetics</td><td>None</td><td>video</td><td>https://i.pinimg.com/videos/thumbnails/originals/69/84/e2/6984e20f3e262098fa9c0614c3453254.0000001.jpg</td><td>/data/beauty</td><td>beauty</td></tr><tr><td>4315</td><td>21b59ba9-829d-4c33-8c27-4cd4c56d26b8</td><td>Podcasts for Teachers or Parents of Teenagers</td><td>Podcasts for Teachers or Parents of Teenagers: Teaching teens middle school and high school can feel joyful and rewarding most days, but can also frustrate you with one challeng… </td><td>25000</td><td>Math Giraffe</td><td>Middle School Classroom,High School Students,High School Teachers,Middle School Tips,High School Counseling,Ela Classroom,High School Science,Future Classroom,Google Classroom</td><td>image</td><td>https://i.pinimg.com/originals/50/19/31/501931a27ee4d076658980851b995b2c.jpg</td><td>/data/education</td><td>education</td></tr><tr><td>10794</td><td>c4bd2577-a7bb-4409-bb7a-17d5ed7e1cf1</td><td>TireBuyer</td><td>Nissan GT-R. Sick.</td><td>437</td><td>Ray Uyemura</td><td>Lowrider,Old Vintage Cars,Antique Cars,Austin Martin,Nissan Gtr Black,Jaguar,1959 Cadillac,Cadillac Ct6,Old School Cars</td><td>image</td><td>https://i.pinimg.com/originals/0d/29/9f/0d299f3df020395aa7ce8387f40fbeed.jpg</td><td>/data/vehicles</td><td>vehicles</td></tr><tr><td>5494</td><td>8fb2af68-543b-4639-8119-de33d28706ed</td><td>Dave Ramsey's 7 Baby Steps: What Are They And Will They Work For You</td><td>If you love budgeting, make sure to give Dave Ramsey's 7 Baby Steps a try. Follow these steps to begin your debt snowball, build an emergency fund, invest and reach riches. I ca… </td><td>26000</td><td>Living Low Key | Save Money, Make Money, & Frugal Living</td><td>Financial Peace,Financial Tips,Saving Money Quotes,Total Money Makeover,Budgeting Finances,Money Management,Wealth Management,Personal Finance,Making Ideas</td><td>image</td><td>https://i.pinimg.com/originals/1e/9d/90/1e9d906e4e150e3b95187f3b76ea7c71.png</td><td>/data/finance</td><td>finance</td></tr><tr><td>5069</td><td>b75b6f87-deb3-444f-b29e-ce9161b2df49</td><td>The Vault: Curated & Refined Wedding Inspiration</td><td>Sacramento California Wedding 2 Chic Events & Design Jodi Yorston Photography Wilson Vineyards Barn Miosa Couture Yellow Barn Vineyard Outdoor Candles DIY</td><td>6000000</td><td>Style Me Pretty</td><td>60th Anniversary Parties,Anniversary Decorations,Golden Anniversary,25th Wedding Anniversary,Anniversary Pictures,Anniversary Ideas,Birthday Decorations,Event Planning Design,Event Design</td><td>image</td><td>https://i.pinimg.com/originals/7e/45/90/7e45905fefa36347e83333fd6d091140.jpg</td><td>/data/event-planning</td><td>event-planning</td></tr></tbody></table></div>"
      ]
     },
     "metadata": {
      "application/vnd.databricks.v1+output": {
       "addedWidgets": {},
       "aggData": [],
       "aggError": "",
       "aggOverflow": false,
       "aggSchema": [],
       "aggSeriesLimitReached": false,
       "aggType": "",
       "arguments": {},
       "columnCustomDisplayInfos": {},
       "data": [
        [
         7528,
         "fbe53c66-3442-4773-b19e-d3ec6f54dddf",
         "None",
         "No description available Story format",
         null,
         "None",
         "None",
         "multi-video(story page format)",
         "None",
         "/data/mens-fashion",
         "mens-fashion"
        ],
        [
         2863,
         "9bf39437-42a6-4f02-99a0-9a0383d8cd70",
         "25 Super Fun Summer Crafts for Kids - Of Life and Lisa",
         "Keep the kids busy this summer with these easy diy crafts and projects. Creative and…",
         124000,
         "Of Life & Lisa | Lifestyle Blog",
         "Summer Crafts For Kids,Fun Crafts For Kids,Summer Kids,Toddler Crafts,Crafts To Do,Diy For Kids,Summer Snow,Diys For Summer,Craft Ideas For Girls",
         "image",
         "https://i.pinimg.com/originals/b3/bc/e2/b3bce2964e8c8975387b39660eed5f16.jpg",
         "/data/diy-and-crafts",
         "diy-and-crafts"
        ],
        [
         5730,
         "1e1f0c8b-9fcf-460b-9154-c775827206eb",
         "Island Oasis Coupon Organizer",
         "Description Coupon Organizer in a fun colorful fabric -island oasis, Great Size for the \"basic\" couponer - holds up to 500 coupons with ease, and is made long enough so that you… ",
         0,
         "Consuelo Aguirre",
         "Grocery Items,Grocery Coupons,Care Organization,Coupon Organization,Extreme Couponing,Couponing 101,Life Binder,Save My Money,Love Coupons",
         "image",
         "https://i.pinimg.com/originals/65/bb/ea/65bbeaf458907bb079317d8303c4fa0e.jpg",
         "/data/finance",
         "finance"
        ],
        [
         8304,
         "5b6d0913-25e4-43ab-839d-85d5516f78a4",
         "The #1 Reason You’re Not His Priority Anymore - Matthew Coast",
         "#lovequotes #matchmaker #matchmadeinheaven #loveyourself #respectyourself",
         51000,
         "Commitment Connection",
         "Wise Quotes,Quotable Quotes,Words Quotes,Wise Words,Quotes To Live By,Great Quotes,Motivational Quotes,Inspirational Quotes,Funny Quotes",
         "image",
         "https://i.pinimg.com/originals/c6/64/ee/c664ee71524fb5a6e7b7b49233f93b43.png",
         "/data/quotes",
         "quotes"
        ],
        [
         8731,
         "ea760f71-febf-4023-b592-d17396659039",
         "20 Koi Fish Tattoos For Lucky Men",
         "Koi fish tattoos are a popular choice for men who want to make a statement, thanks to their rich symbolism and bold design.",
         211000,
         "TheTrendSpotter",
         "Dr Tattoo,Wörter Tattoos,Pisces Tattoos,Tatoo Art,Dream Tattoos,Dope Tattoos,Mini Tattoos,Finger Tattoos,Body Art Tattoos",
         "image",
         "https://i.pinimg.com/originals/8a/0c/0a/8a0c0a7b6236565c519acd41ad1a52c0.jpg",
         "/data/tattoos",
         "tattoos"
        ],
        [
         1313,
         "44662045-e891-4821-8a19-ebe7eedd371a",
         "Liquid Lash Extensions Mascara",
         "Instantly create the look of lash extensions with this award-winning, best-selling mascara that won't clump, flake or smudge. Available in 3 shades!",
         43000,
         "Thrive Causemetics",
         "None",
         "video",
         "https://i.pinimg.com/videos/thumbnails/originals/69/84/e2/6984e20f3e262098fa9c0614c3453254.0000001.jpg",
         "/data/beauty",
         "beauty"
        ],
        [
         4315,
         "21b59ba9-829d-4c33-8c27-4cd4c56d26b8",
         "Podcasts for Teachers or Parents of Teenagers",
         "Podcasts for Teachers or Parents of Teenagers: Teaching teens middle school and high school can feel joyful and rewarding most days, but can also frustrate you with one challeng… ",
         25000,
         "Math Giraffe",
         "Middle School Classroom,High School Students,High School Teachers,Middle School Tips,High School Counseling,Ela Classroom,High School Science,Future Classroom,Google Classroom",
         "image",
         "https://i.pinimg.com/originals/50/19/31/501931a27ee4d076658980851b995b2c.jpg",
         "/data/education",
         "education"
        ],
        [
         10794,
         "c4bd2577-a7bb-4409-bb7a-17d5ed7e1cf1",
         "TireBuyer",
         "Nissan GT-R. Sick.",
         437,
         "Ray Uyemura",
         "Lowrider,Old Vintage Cars,Antique Cars,Austin Martin,Nissan Gtr Black,Jaguar,1959 Cadillac,Cadillac Ct6,Old School Cars",
         "image",
         "https://i.pinimg.com/originals/0d/29/9f/0d299f3df020395aa7ce8387f40fbeed.jpg",
         "/data/vehicles",
         "vehicles"
        ],
        [
         5494,
         "8fb2af68-543b-4639-8119-de33d28706ed",
         "Dave Ramsey's 7 Baby Steps: What Are They And Will They Work For You",
         "If you love budgeting, make sure to give Dave Ramsey's 7 Baby Steps a try. Follow these steps to begin your debt snowball, build an emergency fund, invest and reach riches. I ca… ",
         26000,
         "Living Low Key | Save Money, Make Money, & Frugal Living",
         "Financial Peace,Financial Tips,Saving Money Quotes,Total Money Makeover,Budgeting Finances,Money Management,Wealth Management,Personal Finance,Making Ideas",
         "image",
         "https://i.pinimg.com/originals/1e/9d/90/1e9d906e4e150e3b95187f3b76ea7c71.png",
         "/data/finance",
         "finance"
        ],
        [
         5069,
         "b75b6f87-deb3-444f-b29e-ce9161b2df49",
         "The Vault: Curated & Refined Wedding Inspiration",
         "Sacramento California Wedding 2 Chic Events & Design Jodi Yorston Photography Wilson Vineyards Barn Miosa Couture Yellow Barn Vineyard Outdoor Candles DIY",
         6000000,
         "Style Me Pretty",
         "60th Anniversary Parties,Anniversary Decorations,Golden Anniversary,25th Wedding Anniversary,Anniversary Pictures,Anniversary Ideas,Birthday Decorations,Event Planning Design,Event Design",
         "image",
         "https://i.pinimg.com/originals/7e/45/90/7e45905fefa36347e83333fd6d091140.jpg",
         "/data/event-planning",
         "event-planning"
        ]
       ],
       "datasetInfos": [],
       "dbfsResultPath": null,
       "isJsonSchema": true,
       "metadata": {
        "isDbfsCommandResult": false
       },
       "overflow": false,
       "plotOptions": {
        "customPlotOptions": {},
        "displayType": "table",
        "pivotAggregation": null,
        "pivotColumns": null,
        "xColumns": null,
        "yColumns": null
       },
       "removedWidgets": [],
       "schema": [
        {
         "metadata": "{}",
         "name": "ind",
         "type": "\"long\""
        },
        {
         "metadata": "{}",
         "name": "unique_id",
         "type": "\"string\""
        },
        {
         "metadata": "{}",
         "name": "title",
         "type": "\"string\""
        },
        {
         "metadata": "{}",
         "name": "description",
         "type": "\"string\""
        },
        {
         "metadata": "{}",
         "name": "follower_count",
         "type": "\"integer\""
        },
        {
         "metadata": "{}",
         "name": "poster_name",
         "type": "\"string\""
        },
        {
         "metadata": "{}",
         "name": "tag_list",
         "type": "\"string\""
        },
        {
         "metadata": "{}",
         "name": "is_image_or_video",
         "type": "\"string\""
        },
        {
         "metadata": "{}",
         "name": "image_src",
         "type": "\"string\""
        },
        {
         "metadata": "{}",
         "name": "save_location",
         "type": "\"string\""
        },
        {
         "metadata": "{}",
         "name": "category",
         "type": "\"string\""
        }
       ],
       "type": "table"
      }
     },
     "output_type": "display_data"
    }
   ],
   "source": [
    "# Clean data from pinterest table \n",
    "column_and_string = [\n",
    "    (\"description\", \"No description available$\"),\n",
    "    (\"follower_count\", \"User Info Error\"),\n",
    "    (\"image_src\", \"Image src error.\"),\n",
    "    (\"poster_name\", \"User Info Error\"),\n",
    "    (\"tag_list\", \"N,o, ,T,a,g,s, ,A,v,a,i,l,a,b,l,e\"),\n",
    "    (\"title\", \"No Title Data Available\")\n",
    "]\n",
    "def clean_non_relevant(df, column_and_string):\n",
    "    for column, string in column_and_string:\n",
    "        df = df.withColumn(column, regexp_replace(col(column), string, \"None\"))\n",
    "    return df\n",
    "\n",
    "def clean_empty_string(df):\n",
    "    df = df.select([when(col(c)==\"\",None).otherwise(col(c)).alias(c) for c in df.columns])\n",
    "    return df.na.fill('None')\n",
    "\n",
    "def clean_follower_count(df):\n",
    "    df = df.withColumn(\"follower_count\", regexp_replace(\"follower_count\", \"k\", \"000\"))\n",
    "    df = df.withColumn(\"follower_count\", regexp_replace(\"follower_count\", \"M\", \"000000\"))\n",
    "    return df.withColumn(\"follower_count\", df[\"follower_count\"].cast(\"integer\"))\n",
    "\n",
    "def clean_save_location(df):\n",
    "    return df.withColumn(\"save_location\", regexp_replace(\"save_location\", \"Local save in \", \"\"))\n",
    "\n",
    "def rename_index(df):\n",
    "    return df.withColumnRenamed(\"index\", \"ind\")\n",
    "\n",
    "def order_columns(df):\n",
    "    return df.select('ind', 'unique_id', 'title', 'description', 'follower_count', 'poster_name', 'tag_list', 'is_image_or_video', 'image_src', 'save_location', 'category')\n",
    "  \n",
    "pin_df = clean_non_relevant(pin_stream, column_and_string)\n",
    "pin_df = clean_empty_string(pin_df)\n",
    "pin_df = clean_follower_count(pin_df)\n",
    "pin_df = clean_empty_string(pin_df)\n",
    "pin_df = clean_save_location(pin_df)\n",
    "pin_df = rename_index(pin_df)\n",
    "pin_df = order_columns(pin_df)\n",
    "\n",
    "# Display 10 rows of the streaming DataFrame\n",
    "pin_df.limit(10).display()"
   ]
  },
  {
   "cell_type": "code",
   "execution_count": 0,
   "metadata": {
    "application/vnd.databricks.v1+cell": {
     "cellMetadata": {
      "byteLimit": 2048000,
      "rowLimit": 10000
     },
     "inputWidgets": {},
     "nuid": "5709b805-866e-4498-a4b2-ff0c29a45983",
     "showTitle": false,
     "title": ""
    }
   },
   "outputs": [
    {
     "output_type": "display_data",
     "data": {
      "text/html": [
       "<style scoped>\n",
       "  .table-result-container {\n",
       "    max-height: 300px;\n",
       "    overflow: auto;\n",
       "  }\n",
       "  table, th, td {\n",
       "    border: 1px solid black;\n",
       "    border-collapse: collapse;\n",
       "  }\n",
       "  th, td {\n",
       "    padding: 5px;\n",
       "  }\n",
       "  th {\n",
       "    text-align: left;\n",
       "  }\n",
       "</style><div class='table-result-container'><table class='table-result'><thead style='background-color: white'><tr><th>ind</th><th>country</th><th>coordinates</th><th>timestamp</th></tr></thead><tbody><tr><td>7528</td><td>Albania</td><td>List(-89.9787, -173.293)</td><td>2020-08-28T03:52:47.000+0000</td></tr><tr><td>2863</td><td>Armenia</td><td>List(-5.34445, -177.924)</td><td>2020-04-27T13:34:16.000+0000</td></tr><tr><td>5730</td><td>Colombia</td><td>List(-77.015, -101.437)</td><td>2021-04-19T17:37:03.000+0000</td></tr><tr><td>8304</td><td>French Guiana</td><td>List(-28.8852, -164.87)</td><td>2019-09-13T04:50:29.000+0000</td></tr><tr><td>8731</td><td>Aruba</td><td>List(-83.104, -171.302)</td><td>2020-07-17T04:39:09.000+0000</td></tr><tr><td>1313</td><td>Maldives</td><td>List(77.0447, 61.9119)</td><td>2018-06-26T02:39:25.000+0000</td></tr><tr><td>4315</td><td>Cote d'Ivoire</td><td>List(-45.8508, 66.1003)</td><td>2019-12-15T03:51:28.000+0000</td></tr><tr><td>10794</td><td>Cocos (Keeling) Islands</td><td>List(-89.5236, -154.567)</td><td>2022-01-01T02:26:50.000+0000</td></tr><tr><td>5494</td><td>Bulgaria</td><td>List(-82.6768, -129.202)</td><td>2021-07-21T02:02:35.000+0000</td></tr><tr><td>5069</td><td>Azerbaijan</td><td>List(-63.0063, -157.474)</td><td>2021-03-20T09:32:44.000+0000</td></tr></tbody></table></div>"
      ]
     },
     "metadata": {
      "application/vnd.databricks.v1+output": {
       "addedWidgets": {},
       "aggData": [],
       "aggError": "",
       "aggOverflow": false,
       "aggSchema": [],
       "aggSeriesLimitReached": false,
       "aggType": "",
       "arguments": {},
       "columnCustomDisplayInfos": {},
       "data": [
        [
         7528,
         "Albania",
         [
          -89.9787,
          -173.293
         ],
         "2020-08-28T03:52:47.000+0000"
        ],
        [
         2863,
         "Armenia",
         [
          -5.34445,
          -177.924
         ],
         "2020-04-27T13:34:16.000+0000"
        ],
        [
         5730,
         "Colombia",
         [
          -77.015,
          -101.437
         ],
         "2021-04-19T17:37:03.000+0000"
        ],
        [
         8304,
         "French Guiana",
         [
          -28.8852,
          -164.87
         ],
         "2019-09-13T04:50:29.000+0000"
        ],
        [
         8731,
         "Aruba",
         [
          -83.104,
          -171.302
         ],
         "2020-07-17T04:39:09.000+0000"
        ],
        [
         1313,
         "Maldives",
         [
          77.0447,
          61.9119
         ],
         "2018-06-26T02:39:25.000+0000"
        ],
        [
         4315,
         "Cote d'Ivoire",
         [
          -45.8508,
          66.1003
         ],
         "2019-12-15T03:51:28.000+0000"
        ],
        [
         10794,
         "Cocos (Keeling) Islands",
         [
          -89.5236,
          -154.567
         ],
         "2022-01-01T02:26:50.000+0000"
        ],
        [
         5494,
         "Bulgaria",
         [
          -82.6768,
          -129.202
         ],
         "2021-07-21T02:02:35.000+0000"
        ],
        [
         5069,
         "Azerbaijan",
         [
          -63.0063,
          -157.474
         ],
         "2021-03-20T09:32:44.000+0000"
        ]
       ],
       "datasetInfos": [],
       "dbfsResultPath": null,
       "isJsonSchema": true,
       "metadata": {
        "isDbfsCommandResult": false
       },
       "overflow": false,
       "plotOptions": {
        "customPlotOptions": {},
        "displayType": "table",
        "pivotAggregation": null,
        "pivotColumns": null,
        "xColumns": null,
        "yColumns": null
       },
       "removedWidgets": [],
       "schema": [
        {
         "metadata": "{}",
         "name": "ind",
         "type": "\"long\""
        },
        {
         "metadata": "{}",
         "name": "country",
         "type": "\"string\""
        },
        {
         "metadata": "{}",
         "name": "coordinates",
         "type": "{\"type\":\"array\",\"elementType\":\"double\",\"containsNull\":true}"
        },
        {
         "metadata": "{}",
         "name": "timestamp",
         "type": "\"timestamp\""
        }
       ],
       "type": "table"
      }
     },
     "output_type": "display_data"
    }
   ],
   "source": [
    "# Clean data from geolocation table \n",
    "def create_coordinates_col(df):\n",
    "    return df.withColumn(\"coordinates\", array(\"latitude\", \"longitude\"))\n",
    "\n",
    "def drop_long_lat(df):\n",
    "    return df.drop(\"latitude\", \"longitude\")\n",
    "\n",
    "def convert_to_timestamp(df):\n",
    "    return df.withColumn(\"timestamp\", to_timestamp(\"timestamp\"))\n",
    "\n",
    "def order_columns(df):\n",
    "    return df.select('ind', 'country', 'coordinates', 'timestamp')\n",
    "\n",
    "geo_df = create_coordinates_col(geo_stream)\n",
    "geo_df = drop_long_lat(geo_df)\n",
    "geo_df = convert_to_timestamp(geo_df)\n",
    "geo_df = order_columns(geo_df)\n",
    "\n",
    "# Display 10 rows of the streaming DataFrame\n",
    "geo_df.limit(10).display()"
   ]
  },
  {
   "cell_type": "code",
   "execution_count": 0,
   "metadata": {
    "application/vnd.databricks.v1+cell": {
     "cellMetadata": {
      "byteLimit": 2048000,
      "rowLimit": 10000
     },
     "inputWidgets": {},
     "nuid": "12cbda6a-f41c-474d-8fa8-587b0c215561",
     "showTitle": false,
     "title": ""
    }
   },
   "outputs": [
    {
     "output_type": "display_data",
     "data": {
      "text/html": [
       "<style scoped>\n",
       "  .table-result-container {\n",
       "    max-height: 300px;\n",
       "    overflow: auto;\n",
       "  }\n",
       "  table, th, td {\n",
       "    border: 1px solid black;\n",
       "    border-collapse: collapse;\n",
       "  }\n",
       "  th, td {\n",
       "    padding: 5px;\n",
       "  }\n",
       "  th {\n",
       "    text-align: left;\n",
       "  }\n",
       "</style><div class='table-result-container'><table class='table-result'><thead style='background-color: white'><tr><th>ind</th><th>user_name</th><th>age</th><th>date_joined</th></tr></thead><tbody><tr><td>7528</td><td>Abigail Ali</td><td>20</td><td>2015-10-24T11:23:51.000+0000</td></tr><tr><td>2863</td><td>Dylan Holmes</td><td>32</td><td>2016-10-23T14:06:51.000+0000</td></tr><tr><td>5730</td><td>Rachel Davis</td><td>36</td><td>2015-12-08T20:02:43.000+0000</td></tr><tr><td>8304</td><td>Charles Berry</td><td>25</td><td>2015-12-28T04:21:39.000+0000</td></tr><tr><td>8731</td><td>Andrea Alexander</td><td>21</td><td>2015-11-10T09:27:42.000+0000</td></tr><tr><td>1313</td><td>Brittany Jones</td><td>32</td><td>2016-04-02T03:51:23.000+0000</td></tr><tr><td>4315</td><td>Michelle Prince</td><td>36</td><td>2015-12-20T16:38:13.000+0000</td></tr><tr><td>10794</td><td>Thomas Turner</td><td>34</td><td>2016-12-22T00:02:02.000+0000</td></tr><tr><td>5494</td><td>Anne Allen</td><td>27</td><td>2015-12-16T15:20:05.000+0000</td></tr><tr><td>5069</td><td>Amanda Ball</td><td>25</td><td>2016-01-13T17:36:30.000+0000</td></tr></tbody></table></div>"
      ]
     },
     "metadata": {
      "application/vnd.databricks.v1+output": {
       "addedWidgets": {},
       "aggData": [],
       "aggError": "",
       "aggOverflow": false,
       "aggSchema": [],
       "aggSeriesLimitReached": false,
       "aggType": "",
       "arguments": {},
       "columnCustomDisplayInfos": {},
       "data": [
        [
         7528,
         "Abigail Ali",
         20,
         "2015-10-24T11:23:51.000+0000"
        ],
        [
         2863,
         "Dylan Holmes",
         32,
         "2016-10-23T14:06:51.000+0000"
        ],
        [
         5730,
         "Rachel Davis",
         36,
         "2015-12-08T20:02:43.000+0000"
        ],
        [
         8304,
         "Charles Berry",
         25,
         "2015-12-28T04:21:39.000+0000"
        ],
        [
         8731,
         "Andrea Alexander",
         21,
         "2015-11-10T09:27:42.000+0000"
        ],
        [
         1313,
         "Brittany Jones",
         32,
         "2016-04-02T03:51:23.000+0000"
        ],
        [
         4315,
         "Michelle Prince",
         36,
         "2015-12-20T16:38:13.000+0000"
        ],
        [
         10794,
         "Thomas Turner",
         34,
         "2016-12-22T00:02:02.000+0000"
        ],
        [
         5494,
         "Anne Allen",
         27,
         "2015-12-16T15:20:05.000+0000"
        ],
        [
         5069,
         "Amanda Ball",
         25,
         "2016-01-13T17:36:30.000+0000"
        ]
       ],
       "datasetInfos": [],
       "dbfsResultPath": null,
       "isJsonSchema": true,
       "metadata": {
        "isDbfsCommandResult": false
       },
       "overflow": false,
       "plotOptions": {
        "customPlotOptions": {},
        "displayType": "table",
        "pivotAggregation": null,
        "pivotColumns": null,
        "xColumns": null,
        "yColumns": null
       },
       "removedWidgets": [],
       "schema": [
        {
         "metadata": "{}",
         "name": "ind",
         "type": "\"long\""
        },
        {
         "metadata": "{}",
         "name": "user_name",
         "type": "\"string\""
        },
        {
         "metadata": "{}",
         "name": "age",
         "type": "\"long\""
        },
        {
         "metadata": "{}",
         "name": "date_joined",
         "type": "\"timestamp\""
        }
       ],
       "type": "table"
      }
     },
     "output_type": "display_data"
    }
   ],
   "source": [
    "# Clean data from users tables \n",
    "def create_user_name(df):\n",
    "    return df.withColumn(\"user_name\", concat(\"first_name\", lit(\" \"), \"last_name\"))\n",
    "\n",
    "def drop_first_last_name(df):\n",
    "    return df.drop(\"first_name\", \"last_name\")\n",
    "\n",
    "def convert_to_timestamp(df):\n",
    "    return df.withColumn(\"date_joined\", to_timestamp(\"date_joined\"))\n",
    "\n",
    "def order_columns(df):\n",
    "    return df.select('ind', 'user_name', 'age', 'date_joined')\n",
    "\n",
    "user_df = create_user_name(user_stream)\n",
    "user_df = drop_first_last_name(user_df)\n",
    "user_df = convert_to_timestamp(user_df)\n",
    "user_df = order_columns(user_df)\n",
    "\n",
    "# Display 10 rows of the streaming DataFrame\n",
    "user_df.limit(10).display()\n",
    "\n"
   ]
  },
  {
   "cell_type": "code",
   "execution_count": 0,
   "metadata": {
    "application/vnd.databricks.v1+cell": {
     "cellMetadata": {
      "byteLimit": 2048000,
      "rowLimit": 10000
     },
     "inputWidgets": {},
     "nuid": "668bf91d-fdc8-44b8-95bc-cea9dc0e0bc2",
     "showTitle": false,
     "title": ""
    }
   },
   "outputs": [
    {
     "output_type": "display_data",
     "data": {
      "text/html": [
       "<style scoped>\n",
       "  .ansiout {\n",
       "    display: block;\n",
       "    unicode-bidi: embed;\n",
       "    white-space: pre-wrap;\n",
       "    word-wrap: break-word;\n",
       "    word-break: break-all;\n",
       "    font-family: \"Menlo\", \"Monaco\", \"Consolas\", \"Ubuntu Mono\", \"Source Code Pro\", monospace;\n",
       "    font-size: 13px;\n",
       "    color: #555;\n",
       "    margin-left: 4px;\n",
       "    line-height: 19px;\n",
       "  }\n",
       "</style>\n",
       "<div class=\"ansiout\"></div>"
      ]
     },
     "metadata": {
      "application/vnd.databricks.v1+output": {
       "addedWidgets": {},
       "arguments": {},
       "data": "<div class=\"ansiout\"></div>",
       "datasetInfos": [],
       "metadata": {},
       "removedWidgets": [],
       "type": "html"
      }
     },
     "output_type": "display_data"
    }
   ],
   "source": [
    "# Define function to write stream data to Delta Lake table\n",
    "def write_stream_to_delta(df, name):\n",
    "    df.writeStream \\\n",
    "      .format(\"delta\") \\\n",
    "      .outputMode(\"append\") \\\n",
    "      .option(\"checkpointLocation\", f\"/tmp/kinesis/_checkpoints/0affc011d3cf_{name}\") \\\n",
    "      .table(f\"0affc011d3cf_{name}_stream\")\n",
    "\n",
    "#Write stream data to Delta Lake table\n",
    "write_stream_to_delta(pin_df, \"pin\")\n",
    "write_stream_to_delta(geo_df, \"geo\")\n",
    "write_stream_to_delta(user_df, \"user\")"
   ]
  }
 ],
 "metadata": {
  "application/vnd.databricks.v1+notebook": {
   "dashboards": [],
   "environmentMetadata": null,
   "language": "python",
   "notebookMetadata": {
    "mostRecentlyExecutedCommandWithImplicitDF": {
     "commandId": 1126979784802603,
     "dataframes": [
      "_sqldf"
     ]
    },
    "pythonIndentUnit": 4
   },
   "notebookName": "milestone9-task4-6",
   "widgets": {}
  }
 },
 "nbformat": 4,
 "nbformat_minor": 0
}
