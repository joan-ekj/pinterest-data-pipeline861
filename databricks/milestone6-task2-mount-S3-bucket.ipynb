{
 "cells": [
  {
   "cell_type": "code",
   "execution_count": 0,
   "metadata": {
    "application/vnd.databricks.v1+cell": {
     "cellMetadata": {
      "byteLimit": 2048000,
      "rowLimit": 10000
     },
     "inputWidgets": {},
     "nuid": "c68cfbd5-794a-4ab0-8382-3ad1aab372cb",
     "showTitle": false,
     "title": ""
    }
   },
   "outputs": [
    {
     "output_type": "display_data",
     "data": {
      "text/html": [
       "<style scoped>\n",
       "  .ansiout {\n",
       "    display: block;\n",
       "    unicode-bidi: embed;\n",
       "    white-space: pre-wrap;\n",
       "    word-wrap: break-word;\n",
       "    word-break: break-all;\n",
       "    font-family: \"Menlo\", \"Monaco\", \"Consolas\", \"Ubuntu Mono\", \"Source Code Pro\", monospace;\n",
       "    font-size: 13px;\n",
       "    color: #555;\n",
       "    margin-left: 4px;\n",
       "    line-height: 19px;\n",
       "  }\n",
       "</style>\n",
       "<div class=\"ansiout\"></div>"
      ]
     },
     "metadata": {
      "application/vnd.databricks.v1+output": {
       "addedWidgets": {},
       "arguments": {},
       "data": "<div class=\"ansiout\"></div>",
       "datasetInfos": [],
       "metadata": {},
       "removedWidgets": [],
       "type": "html"
      }
     },
     "output_type": "display_data"
    }
   ],
   "source": [
    "# pyspark functions\n",
    "from pyspark.sql.functions import *\n",
    "# URL processing\n",
    "import urllib"
   ]
  },
  {
   "cell_type": "code",
   "execution_count": 0,
   "metadata": {
    "application/vnd.databricks.v1+cell": {
     "cellMetadata": {
      "byteLimit": 2048000,
      "rowLimit": 10000
     },
     "inputWidgets": {},
     "nuid": "dce9c5c8-a207-4af2-bed4-67335cf73f4d",
     "showTitle": false,
     "title": ""
    }
   },
   "outputs": [
    {
     "output_type": "display_data",
     "data": {
      "text/html": [
       "<style scoped>\n",
       "  .ansiout {\n",
       "    display: block;\n",
       "    unicode-bidi: embed;\n",
       "    white-space: pre-wrap;\n",
       "    word-wrap: break-word;\n",
       "    word-break: break-all;\n",
       "    font-family: \"Menlo\", \"Monaco\", \"Consolas\", \"Ubuntu Mono\", \"Source Code Pro\", monospace;\n",
       "    font-size: 13px;\n",
       "    color: #555;\n",
       "    margin-left: 4px;\n",
       "    line-height: 19px;\n",
       "  }\n",
       "</style>\n",
       "<div class=\"ansiout\"></div>"
      ]
     },
     "metadata": {
      "application/vnd.databricks.v1+output": {
       "addedWidgets": {},
       "arguments": {},
       "data": "<div class=\"ansiout\"></div>",
       "datasetInfos": [],
       "metadata": {},
       "removedWidgets": [],
       "type": "html"
      }
     },
     "output_type": "display_data"
    }
   ],
   "source": [
    "# Define the path to the Delta table\n",
    "delta_table_path = \"dbfs:/user/hive/warehouse/authentication_credentials\"\n",
    "\n",
    "# Read the Delta table to a Spark DataFrame\n",
    "aws_keys_df = spark.read.format(\"delta\").load(delta_table_path)"
   ]
  },
  {
   "cell_type": "code",
   "execution_count": 0,
   "metadata": {
    "application/vnd.databricks.v1+cell": {
     "cellMetadata": {
      "byteLimit": 2048000,
      "rowLimit": 10000
     },
     "inputWidgets": {},
     "nuid": "0a6b8c15-4fa6-4759-bf76-55c32c8be9d2",
     "showTitle": false,
     "title": ""
    }
   },
   "outputs": [
    {
     "output_type": "display_data",
     "data": {
      "text/html": [
       "<style scoped>\n",
       "  .ansiout {\n",
       "    display: block;\n",
       "    unicode-bidi: embed;\n",
       "    white-space: pre-wrap;\n",
       "    word-wrap: break-word;\n",
       "    word-break: break-all;\n",
       "    font-family: \"Menlo\", \"Monaco\", \"Consolas\", \"Ubuntu Mono\", \"Source Code Pro\", monospace;\n",
       "    font-size: 13px;\n",
       "    color: #555;\n",
       "    margin-left: 4px;\n",
       "    line-height: 19px;\n",
       "  }\n",
       "</style>\n",
       "<div class=\"ansiout\"></div>"
      ]
     },
     "metadata": {
      "application/vnd.databricks.v1+output": {
       "addedWidgets": {},
       "arguments": {},
       "data": "<div class=\"ansiout\"></div>",
       "datasetInfos": [],
       "metadata": {},
       "removedWidgets": [],
       "type": "html"
      }
     },
     "output_type": "display_data"
    }
   ],
   "source": [
    "# Get the AWS access key and secret key from the spark dataframe\n",
    "ACCESS_KEY = aws_keys_df.select('Access key ID').collect()[0]['Access key ID']\n",
    "SECRET_KEY = aws_keys_df.select('Secret access key').collect()[0]['Secret access key']\n",
    "# Encode the secrete key\n",
    "ENCODED_SECRET_KEY = urllib.parse.quote(string=SECRET_KEY, safe=\"\")"
   ]
  },
  {
   "cell_type": "code",
   "execution_count": 0,
   "metadata": {
    "application/vnd.databricks.v1+cell": {
     "cellMetadata": {
      "byteLimit": 2048000,
      "rowLimit": 10000
     },
     "inputWidgets": {},
     "nuid": "5e79780c-1e70-49ca-a766-c46ef368c57c",
     "showTitle": false,
     "title": ""
    }
   },
   "outputs": [
    {
     "output_type": "display_data",
     "data": {
      "text/html": [
       "<style scoped>\n",
       "  .table-result-container {\n",
       "    max-height: 300px;\n",
       "    overflow: auto;\n",
       "  }\n",
       "  table, th, td {\n",
       "    border: 1px solid black;\n",
       "    border-collapse: collapse;\n",
       "  }\n",
       "  th, td {\n",
       "    padding: 5px;\n",
       "  }\n",
       "  th {\n",
       "    text-align: left;\n",
       "  }\n",
       "</style><div class='table-result-container'><table class='table-result'><thead style='background-color: white'><tr><th>path</th><th>name</th><th>size</th><th>modificationTime</th></tr></thead><tbody><tr><td>dbfs:/FileStore/</td><td>FileStore/</td><td>0</td><td>1721931156862</td></tr><tr><td>dbfs:/Users/</td><td>Users/</td><td>0</td><td>1721931156862</td></tr><tr><td>dbfs:/Volume/</td><td>Volume/</td><td>0</td><td>0</td></tr><tr><td>dbfs:/Volumes/</td><td>Volumes/</td><td>0</td><td>0</td></tr><tr><td>dbfs:/_delta_log/</td><td>_delta_log/</td><td>0</td><td>1721931156862</td></tr><tr><td>dbfs:/checkpoint/</td><td>checkpoint/</td><td>0</td><td>1721931156862</td></tr><tr><td>dbfs:/custom/</td><td>custom/</td><td>0</td><td>1721931156862</td></tr><tr><td>dbfs:/databricks-datasets/</td><td>databricks-datasets/</td><td>0</td><td>0</td></tr><tr><td>dbfs:/databricks-results/</td><td>databricks-results/</td><td>0</td><td>0</td></tr><tr><td>dbfs:/dbfs/</td><td>dbfs/</td><td>0</td><td>1721931156862</td></tr><tr><td>dbfs:/delta/</td><td>delta/</td><td>0</td><td>1721931156862</td></tr><tr><td>dbfs:/df_pin.csv/</td><td>df_pin.csv/</td><td>0</td><td>1721931156862</td></tr><tr><td>dbfs:/df_pin.parquet/</td><td>df_pin.parquet/</td><td>0</td><td>1721931156862</td></tr><tr><td>dbfs:/geo_dirty.csv/</td><td>geo_dirty.csv/</td><td>0</td><td>1721931156862</td></tr><tr><td>dbfs:/local_disk0/</td><td>local_disk0/</td><td>0</td><td>1721931156862</td></tr><tr><td>dbfs:/mnt/</td><td>mnt/</td><td>0</td><td>1721931156862</td></tr><tr><td>dbfs:/mount/</td><td>mount/</td><td>0</td><td>1721931156862</td></tr><tr><td>dbfs:/output/</td><td>output/</td><td>0</td><td>1721931156862</td></tr><tr><td>dbfs:/part-00000-ba1b6f69-9949-415d-bb6a-5a1508e01a03-c000.snappy.parquet</td><td>part-00000-ba1b6f69-9949-415d-bb6a-5a1508e01a03-c000.snappy.parquet</td><td>56926</td><td>1704218332000</td></tr><tr><td>dbfs:/part-00001-f866f5d9-a692-4a3f-bf3a-a72ca8bfcb3e-c000.snappy.parquet</td><td>part-00001-f866f5d9-a692-4a3f-bf3a-a72ca8bfcb3e-c000.snappy.parquet</td><td>55704</td><td>1704218326000</td></tr><tr><td>dbfs:/part-00002-e5265761-3c6b-475c-9e6a-5ba024c22cf6-c000.snappy.parquet</td><td>part-00002-e5265761-3c6b-475c-9e6a-5ba024c22cf6-c000.snappy.parquet</td><td>51782</td><td>1704218333000</td></tr><tr><td>dbfs:/part-00003-4e844537-6130-4248-9013-08d6578956ae-c000.snappy.parquet</td><td>part-00003-4e844537-6130-4248-9013-08d6578956ae-c000.snappy.parquet</td><td>50751</td><td>1704218327000</td></tr><tr><td>dbfs:/part-00004-c771fa60-0080-4195-8cb3-1de28d24fa67-c000.snappy.parquet</td><td>part-00004-c771fa60-0080-4195-8cb3-1de28d24fa67-c000.snappy.parquet</td><td>48696</td><td>1704218328000</td></tr><tr><td>dbfs:/part-00005-0b818998-0f95-45cf-acd2-ef1ad0d827fc-c000.snappy.parquet</td><td>part-00005-0b818998-0f95-45cf-acd2-ef1ad0d827fc-c000.snappy.parquet</td><td>46856</td><td>1704218337000</td></tr><tr><td>dbfs:/part-00006-a2f8839b-3081-4672-8f08-e79733f6307d-c000.snappy.parquet</td><td>part-00006-a2f8839b-3081-4672-8f08-e79733f6307d-c000.snappy.parquet</td><td>44037</td><td>1704218330000</td></tr><tr><td>dbfs:/part-00007-4a946295-63c9-40ac-b687-7af02b94a99c-c000.snappy.parquet</td><td>part-00007-4a946295-63c9-40ac-b687-7af02b94a99c-c000.snappy.parquet</td><td>39491</td><td>1704218332000</td></tr><tr><td>dbfs:/part-00008-2c16e39c-cd9d-44eb-b002-db6eb4f5bb0f-c000.snappy.parquet</td><td>part-00008-2c16e39c-cd9d-44eb-b002-db6eb4f5bb0f-c000.snappy.parquet</td><td>14239</td><td>1704218332000</td></tr><tr><td>dbfs:/pin_dirty.csv/</td><td>pin_dirty.csv/</td><td>0</td><td>1721931156862</td></tr><tr><td>dbfs:/pin_kinesis_events/</td><td>pin_kinesis_events/</td><td>0</td><td>1721931156862</td></tr><tr><td>dbfs:/tmp/</td><td>tmp/</td><td>0</td><td>1721931156862</td></tr><tr><td>dbfs:/topics/</td><td>topics/</td><td>0</td><td>1721931156862</td></tr><tr><td>dbfs:/user/</td><td>user/</td><td>0</td><td>1721931156862</td></tr><tr><td>dbfs:/user_dirty.csv/</td><td>user_dirty.csv/</td><td>0</td><td>1721931156862</td></tr><tr><td>dbfs:/volume/</td><td>volume/</td><td>0</td><td>0</td></tr><tr><td>dbfs:/volumes/</td><td>volumes/</td><td>0</td><td>0</td></tr><tr><td>dbfs:/your_delta_table_path/</td><td>your_delta_table_path/</td><td>0</td><td>1721931156862</td></tr></tbody></table></div>"
      ]
     },
     "metadata": {
      "application/vnd.databricks.v1+output": {
       "addedWidgets": {},
       "aggData": [],
       "aggError": "",
       "aggOverflow": false,
       "aggSchema": [],
       "aggSeriesLimitReached": false,
       "aggType": "",
       "arguments": {},
       "columnCustomDisplayInfos": {},
       "data": [
        [
         "dbfs:/FileStore/",
         "FileStore/",
         0,
         1721931156862
        ],
        [
         "dbfs:/Users/",
         "Users/",
         0,
         1721931156862
        ],
        [
         "dbfs:/Volume/",
         "Volume/",
         0,
         0
        ],
        [
         "dbfs:/Volumes/",
         "Volumes/",
         0,
         0
        ],
        [
         "dbfs:/_delta_log/",
         "_delta_log/",
         0,
         1721931156862
        ],
        [
         "dbfs:/checkpoint/",
         "checkpoint/",
         0,
         1721931156862
        ],
        [
         "dbfs:/custom/",
         "custom/",
         0,
         1721931156862
        ],
        [
         "dbfs:/databricks-datasets/",
         "databricks-datasets/",
         0,
         0
        ],
        [
         "dbfs:/databricks-results/",
         "databricks-results/",
         0,
         0
        ],
        [
         "dbfs:/dbfs/",
         "dbfs/",
         0,
         1721931156862
        ],
        [
         "dbfs:/delta/",
         "delta/",
         0,
         1721931156862
        ],
        [
         "dbfs:/df_pin.csv/",
         "df_pin.csv/",
         0,
         1721931156862
        ],
        [
         "dbfs:/df_pin.parquet/",
         "df_pin.parquet/",
         0,
         1721931156862
        ],
        [
         "dbfs:/geo_dirty.csv/",
         "geo_dirty.csv/",
         0,
         1721931156862
        ],
        [
         "dbfs:/local_disk0/",
         "local_disk0/",
         0,
         1721931156862
        ],
        [
         "dbfs:/mnt/",
         "mnt/",
         0,
         1721931156862
        ],
        [
         "dbfs:/mount/",
         "mount/",
         0,
         1721931156862
        ],
        [
         "dbfs:/output/",
         "output/",
         0,
         1721931156862
        ],
        [
         "dbfs:/part-00000-ba1b6f69-9949-415d-bb6a-5a1508e01a03-c000.snappy.parquet",
         "part-00000-ba1b6f69-9949-415d-bb6a-5a1508e01a03-c000.snappy.parquet",
         56926,
         1704218332000
        ],
        [
         "dbfs:/part-00001-f866f5d9-a692-4a3f-bf3a-a72ca8bfcb3e-c000.snappy.parquet",
         "part-00001-f866f5d9-a692-4a3f-bf3a-a72ca8bfcb3e-c000.snappy.parquet",
         55704,
         1704218326000
        ],
        [
         "dbfs:/part-00002-e5265761-3c6b-475c-9e6a-5ba024c22cf6-c000.snappy.parquet",
         "part-00002-e5265761-3c6b-475c-9e6a-5ba024c22cf6-c000.snappy.parquet",
         51782,
         1704218333000
        ],
        [
         "dbfs:/part-00003-4e844537-6130-4248-9013-08d6578956ae-c000.snappy.parquet",
         "part-00003-4e844537-6130-4248-9013-08d6578956ae-c000.snappy.parquet",
         50751,
         1704218327000
        ],
        [
         "dbfs:/part-00004-c771fa60-0080-4195-8cb3-1de28d24fa67-c000.snappy.parquet",
         "part-00004-c771fa60-0080-4195-8cb3-1de28d24fa67-c000.snappy.parquet",
         48696,
         1704218328000
        ],
        [
         "dbfs:/part-00005-0b818998-0f95-45cf-acd2-ef1ad0d827fc-c000.snappy.parquet",
         "part-00005-0b818998-0f95-45cf-acd2-ef1ad0d827fc-c000.snappy.parquet",
         46856,
         1704218337000
        ],
        [
         "dbfs:/part-00006-a2f8839b-3081-4672-8f08-e79733f6307d-c000.snappy.parquet",
         "part-00006-a2f8839b-3081-4672-8f08-e79733f6307d-c000.snappy.parquet",
         44037,
         1704218330000
        ],
        [
         "dbfs:/part-00007-4a946295-63c9-40ac-b687-7af02b94a99c-c000.snappy.parquet",
         "part-00007-4a946295-63c9-40ac-b687-7af02b94a99c-c000.snappy.parquet",
         39491,
         1704218332000
        ],
        [
         "dbfs:/part-00008-2c16e39c-cd9d-44eb-b002-db6eb4f5bb0f-c000.snappy.parquet",
         "part-00008-2c16e39c-cd9d-44eb-b002-db6eb4f5bb0f-c000.snappy.parquet",
         14239,
         1704218332000
        ],
        [
         "dbfs:/pin_dirty.csv/",
         "pin_dirty.csv/",
         0,
         1721931156862
        ],
        [
         "dbfs:/pin_kinesis_events/",
         "pin_kinesis_events/",
         0,
         1721931156862
        ],
        [
         "dbfs:/tmp/",
         "tmp/",
         0,
         1721931156862
        ],
        [
         "dbfs:/topics/",
         "topics/",
         0,
         1721931156862
        ],
        [
         "dbfs:/user/",
         "user/",
         0,
         1721931156862
        ],
        [
         "dbfs:/user_dirty.csv/",
         "user_dirty.csv/",
         0,
         1721931156862
        ],
        [
         "dbfs:/volume/",
         "volume/",
         0,
         0
        ],
        [
         "dbfs:/volumes/",
         "volumes/",
         0,
         0
        ],
        [
         "dbfs:/your_delta_table_path/",
         "your_delta_table_path/",
         0,
         1721931156862
        ]
       ],
       "datasetInfos": [],
       "dbfsResultPath": null,
       "isJsonSchema": true,
       "metadata": {},
       "overflow": false,
       "plotOptions": {
        "customPlotOptions": {},
        "displayType": "table",
        "pivotAggregation": null,
        "pivotColumns": null,
        "xColumns": null,
        "yColumns": null
       },
       "removedWidgets": [],
       "schema": [
        {
         "metadata": "{}",
         "name": "path",
         "type": "\"string\""
        },
        {
         "metadata": "{}",
         "name": "name",
         "type": "\"string\""
        },
        {
         "metadata": "{}",
         "name": "size",
         "type": "\"long\""
        },
        {
         "metadata": "{}",
         "name": "modificationTime",
         "type": "\"long\""
        }
       ],
       "type": "table"
      }
     },
     "output_type": "display_data"
    }
   ],
   "source": [
    "# AWS S3 bucket name\n",
    "AWS_S3_BUCKET = \"user-0affc011d3cf-bucket\"\n",
    "# Mount name for the bucket\n",
    "MOUNT_NAME = \"/mnt/0affc011d3cf-mount\"\n",
    "# Source url\n",
    "SOURCE_URL = \"s3n://{0}:{1}@{2}\".format(ACCESS_KEY, ENCODED_SECRET_KEY, AWS_S3_BUCKET)\n",
    "# Mount the drive\n",
    "dbutils.fs.mount(SOURCE_URL, MOUNT_NAME)\n"
   ]
  },
  {
   "cell_type": "code",
   "execution_count": 0,
   "metadata": {
    "application/vnd.databricks.v1+cell": {
     "cellMetadata": {
      "byteLimit": 2048000,
      "rowLimit": 10000
     },
     "inputWidgets": {},
     "nuid": "fe2af41b-4605-4660-a379-cc77dc4a0b7d",
     "showTitle": false,
     "title": ""
    }
   },
   "outputs": [
    {
     "output_type": "display_data",
     "data": {
      "text/html": [
       "<style scoped>\n",
       "  .ansiout {\n",
       "    display: block;\n",
       "    unicode-bidi: embed;\n",
       "    white-space: pre-wrap;\n",
       "    word-wrap: break-word;\n",
       "    word-break: break-all;\n",
       "    font-family: \"Menlo\", \"Monaco\", \"Consolas\", \"Ubuntu Mono\", \"Source Code Pro\", monospace;\n",
       "    font-size: 13px;\n",
       "    color: #555;\n",
       "    margin-left: 4px;\n",
       "    line-height: 19px;\n",
       "  }\n",
       "</style>\n",
       "<div class=\"ansiout\">Out[5]: [FileInfo(path=&#39;dbfs:/mnt/0affc011d3cf-mount/kafka-connect-s3/&#39;, name=&#39;kafka-connect-s3/&#39;, size=0, modificationTime=1721931431432),\n",
       " FileInfo(path=&#39;dbfs:/mnt/0affc011d3cf-mount/topics/&#39;, name=&#39;topics/&#39;, size=0, modificationTime=1721931431432)]</div>"
      ]
     },
     "metadata": {
      "application/vnd.databricks.v1+output": {
       "addedWidgets": {},
       "arguments": {},
       "data": "<div class=\"ansiout\">Out[5]: [FileInfo(path=&#39;dbfs:/mnt/0affc011d3cf-mount/kafka-connect-s3/&#39;, name=&#39;kafka-connect-s3/&#39;, size=0, modificationTime=1721931431432),\n FileInfo(path=&#39;dbfs:/mnt/0affc011d3cf-mount/topics/&#39;, name=&#39;topics/&#39;, size=0, modificationTime=1721931431432)]</div>",
       "datasetInfos": [],
       "metadata": {},
       "removedWidgets": [],
       "type": "html"
      }
     },
     "output_type": "display_data"
    }
   ],
   "source": [
    "# List the contents of the mount point\n",
    "dbutils.fs.ls('/mnt/0affc011d3cf-mount')\n"
   ]
  },
  {
   "cell_type": "code",
   "execution_count": 0,
   "metadata": {
    "application/vnd.databricks.v1+cell": {
     "cellMetadata": {
      "byteLimit": 2048000,
      "rowLimit": 10000
     },
     "inputWidgets": {},
     "nuid": "5c646d5b-8d27-41b6-898f-5a0555779c1b",
     "showTitle": false,
     "title": ""
    }
   },
   "outputs": [
    {
     "output_type": "display_data",
     "data": {
      "text/html": [
       "<style scoped>\n",
       "  .table-result-container {\n",
       "    max-height: 300px;\n",
       "    overflow: auto;\n",
       "  }\n",
       "  table, th, td {\n",
       "    border: 1px solid black;\n",
       "    border-collapse: collapse;\n",
       "  }\n",
       "  th, td {\n",
       "    padding: 5px;\n",
       "  }\n",
       "  th {\n",
       "    text-align: left;\n",
       "  }\n",
       "</style><div class='table-result-container'><table class='table-result'><thead style='background-color: white'><tr><th>path</th><th>name</th><th>size</th><th>modificationTime</th></tr></thead><tbody><tr><td>dbfs:/mnt/0affc011d3cf-mount/topics/0affc011d3cf.geo/</td><td>0affc011d3cf.geo/</td><td>0</td><td>1721933488225</td></tr><tr><td>dbfs:/mnt/0affc011d3cf-mount/topics/0affc011d3cf.pin/</td><td>0affc011d3cf.pin/</td><td>0</td><td>1721933488225</td></tr><tr><td>dbfs:/mnt/0affc011d3cf-mount/topics/0affc011d3cf.user/</td><td>0affc011d3cf.user/</td><td>0</td><td>1721933488225</td></tr></tbody></table></div>"
      ]
     },
     "metadata": {
      "application/vnd.databricks.v1+output": {
       "addedWidgets": {},
       "aggData": [],
       "aggError": "",
       "aggOverflow": false,
       "aggSchema": [],
       "aggSeriesLimitReached": false,
       "aggType": "",
       "arguments": {},
       "columnCustomDisplayInfos": {},
       "data": [
        [
         "dbfs:/mnt/0affc011d3cf-mount/topics/0affc011d3cf.geo/",
         "0affc011d3cf.geo/",
         0,
         1721933488225
        ],
        [
         "dbfs:/mnt/0affc011d3cf-mount/topics/0affc011d3cf.pin/",
         "0affc011d3cf.pin/",
         0,
         1721933488225
        ],
        [
         "dbfs:/mnt/0affc011d3cf-mount/topics/0affc011d3cf.user/",
         "0affc011d3cf.user/",
         0,
         1721933488225
        ]
       ],
       "datasetInfos": [],
       "dbfsResultPath": null,
       "isJsonSchema": true,
       "metadata": {},
       "overflow": false,
       "plotOptions": {
        "customPlotOptions": {},
        "displayType": "table",
        "pivotAggregation": null,
        "pivotColumns": null,
        "xColumns": null,
        "yColumns": null
       },
       "removedWidgets": [],
       "schema": [
        {
         "metadata": "{}",
         "name": "path",
         "type": "\"string\""
        },
        {
         "metadata": "{}",
         "name": "name",
         "type": "\"string\""
        },
        {
         "metadata": "{}",
         "name": "size",
         "type": "\"long\""
        },
        {
         "metadata": "{}",
         "name": "modificationTime",
         "type": "\"long\""
        }
       ],
       "type": "table"
      }
     },
     "output_type": "display_data"
    }
   ],
   "source": [
    "# Check topics \n",
    "\n",
    "display(dbutils.fs.ls(\"/mnt/0affc011d3cf-mount/topics\"))"
   ]
  },
  {
   "cell_type": "code",
   "execution_count": 0,
   "metadata": {
    "application/vnd.databricks.v1+cell": {
     "cellMetadata": {},
     "inputWidgets": {},
     "nuid": "912361df-04ad-44d7-a8c1-4cb09bee1e22",
     "showTitle": false,
     "title": ""
    }
   },
   "outputs": [],
   "source": [
    "%sql\n",
    "-- Disable format checks during the reading of Delta tables\n",
    "SET spark.databricks.delta.formatCheck.enabled=false"
   ]
  },
  {
   "cell_type": "code",
   "execution_count": 0,
   "metadata": {
    "application/vnd.databricks.v1+cell": {
     "cellMetadata": {
      "byteLimit": 2048000,
      "rowLimit": 10000
     },
     "inputWidgets": {},
     "nuid": "3332ea97-165e-4a18-b677-94cbf9f9b384",
     "showTitle": false,
     "title": ""
    }
   },
   "outputs": [
    {
     "output_type": "display_data",
     "data": {
      "text/html": [
       "<style scoped>\n",
       "  .table-result-container {\n",
       "    max-height: 300px;\n",
       "    overflow: auto;\n",
       "  }\n",
       "  table, th, td {\n",
       "    border: 1px solid black;\n",
       "    border-collapse: collapse;\n",
       "  }\n",
       "  th, td {\n",
       "    padding: 5px;\n",
       "  }\n",
       "  th {\n",
       "    text-align: left;\n",
       "  }\n",
       "</style><div class='table-result-container'><table class='table-result'><thead style='background-color: white'><tr><th>category</th><th>description</th><th>downloaded</th><th>follower_count</th><th>image_src</th><th>index</th><th>is_image_or_video</th><th>poster_name</th><th>save_location</th><th>tag_list</th><th>title</th><th>unique_id</th></tr></thead><tbody><tr><td>mens-fashion</td><td>スポーツミックススタイルやアスレジャースタイルの台頭によって、すっかりおなじみとなった「ジョガーパンツ」。スニーカーと相性抜群なアイテムであり、フーディを合わせたカジュアルなスタイルからジャケットを羽織ったドレスライクなスタイルまで幅広くフィットする。今回はそんな「ジョガーパンツ」にフォーカスして注目の着こなし&アイテムを紹介！</td><td>1</td><td>122k</td><td>https://i.pinimg.com/originals/5d/31/e4/5d31e49fada653798f7c8f4c47f65d14.jpg</td><td>7491</td><td>image</td><td>OTOKOMAE/男前研究所</td><td>Local save in /data/mens-fashion</td><td>Streetwear,Mens Casual Hats,Fashion Week Hommes,Herren Style,Moda Blog,Look Man,La Mode Masculine,Outfits With Converse,Black Converse</td><td>ジョガーパンツでメンズコーデの足元を軽快にこなす！ | メンズファッションメディア OTOKOMAE</td><td>0bfd8ee2-8bc8-4d43-8a43-3f9e5f9678bf</td></tr><tr><td>event-planning</td><td>もうすぐ親友の誕生日。何年も共に過ごしてきただけに、毎年の誕生祝いでほとんどのアイデアは出し尽くしてしまい悩み中、、、という方に。今年はちょっと変わったバースデイサプライズで、大好きな親友の素敵な笑顔を引き出してみませんか。</td><td>1</td><td>256k</td><td>https://i.pinimg.com/originals/c8/d7/e6/c8d7e693a171205650a1ce50036c45d4.jpg</td><td>4362</td><td>image</td><td>LOCARI</td><td>Local save in /data/event-planning</td><td>Love Ballons,Balloons,Wedding Proposals,Marriage Proposals,Wedding Tags,Wedding Gifts,Wedding Ideas,Diy Wedding,Proposition Romantique</td><td>誕生日に親友を必ず笑顔にする11のサプライズ・アイデア♡</td><td>3d2ca512-9a37-4bb5-93bc-fca20aaafdce</td></tr><tr><td>vehicles</td><td>Пинтерест точно лучше инстаграмма #traffic #траффикнашевсе #траффик_наше_все Траффик наше все&#33; Продвижение, SEO, SMM &#128077;&#127995;Я влюблен в эту программ</td><td>1</td><td>283</td><td>https://i.pinimg.com/originals/84/a3/17/84a317acbdd5fca1c3b80ea30d45c370.jpg</td><td>10981</td><td>image</td><td>Edward Kramli</td><td>Local save in /data/vehicles</td><td>Luxury Sports Cars,Top Luxury Cars,Sport Cars,Exotic Sports Cars,Mercedes Benz Amg,Carros Mercedes Benz,Benz Car,Carros Lamborghini,Carros Audi</td><td>Пинтерест точно лучше инстаграмма.. | Траффик наше все! Продвижение, SEO, SMM</td><td>682f6f97-33d6-4b5b-bae7-b94615ea3091</td></tr><tr><td>christmas</td><td>6.5Ft + Pearl & Pine Cone Design - This Pearl & Pine Cone string light as a Christmas decor light. 6.5 Foot/2 Meters plated copper wire and 20 LED Lights, The led string lights… </td><td>1</td><td>5k</td><td>https://i.pinimg.com/originals/3f/94/40/3f94400a8d9878d76db9d68126161b13.jpg</td><td>2244</td><td>image</td><td>Wear24-7</td><td>Local save in /data/christmas</td><td>Mini Christmas Tree Decorations,Christmas Pine Cones,Christmas Fairy Lights,Led Fairy Lights,Xmas Lights,Xmas Wreaths,Christmas Bells,Outdoor Christmas,Christmas Holidays</td><td>Christmas String Lights with Pine Cone Red Pearl Bell Garland with Lights 20 LED Warm White Battery Operated Christmas Tree Decor Light for Christmas Holiday Indoor Table Party Decoration</td><td>20485f66-1504-4272-bb96-049d7564abdd</td></tr><tr><td>christmas</td><td>Christmas decorating ideas for porches. Beautiful holiday decor ideas for front porches both small and large. Outdoor decorations like sleds, lanterns, Christmas trees, wreaths,… </td><td>1</td><td>46k</td><td>https://i.pinimg.com/videos/thumbnails/originals/40/83/f5/4083f5b4971bf235f89a4784ab87271e.0000001.jpg</td><td>2482</td><td>video</td><td>Life on Summerhill | Home, Holiday Decor & DIY Website</td><td>Local save in /data/christmas</td><td>Diy Christmas Decorations For Home,Farmhouse Christmas Decor,Christmas Home,Christmas Holidays,Christmas Front Porches,How To Decorate For Christmas,Christmas Porch Ideas,Christmas Decorating Ideas,Large Outdoor Christmas Decorations</td><td>FORNT PORCH CHRISTMAS DECORATING IDEAS</td><td>08604f20-fa17-4b9a-9949-781717eca6cd</td></tr><tr><td>christmas</td><td>Toddler Christmas activity using sticky contact paper. Great for developing fine motor skills and more. #kbn #ohchristmastree #stickycontactpaper #handmadetree #kidschristmas #c… </td><td>1</td><td>99k</td><td>https://i.pinimg.com/originals/a6/61/c8/a661c87eee093cf82d3697b05b9aaee3.jpg</td><td>2205</td><td>image</td><td>Laughing Kids Learn | Play Ideas for Kids | Crafts + Activities for Teachers + Parents </td><td>Local save in /data/christmas</td><td>Christmas Activities For Toddlers,Preschool Christmas,Holiday Activities,Christmas Paper,Craft Activities,Preschool Crafts,Christmas Themes,Christmas Decorations,Toddler Christmas Crafts</td><td>Toddler Christmas activity using sticky contact paper - Laughing Kids Learn</td><td>24cbe878-d95a-4902-baef-f831fcb9bbd1</td></tr><tr><td>tattoos</td><td>beautiful Dragon ❌ flowers hip tattoo ✿ Strelkov Mikhail ®️ ✧ @strelkovtattoo ✧ Moscow 🇷🇺 ✿ 💖🐉ꕥ💖🐉ꕥ💖🐉ꕥ💖🐉ꕥ💖🐉ꕥ💖 #hiptattoo #floraltattoo #awesomeness #girltattoos #bes… </td><td>1</td><td>202k</td><td>https://i.pinimg.com/originals/03/bc/5d/03bc5dd8b52fbb4fe698a49f96b9458f.jpg</td><td>8554</td><td>image</td><td>kickassthings.com</td><td>Local save in /data/tattoos</td><td>Red Ink Tattoos,Baby Tattoos,Mini Tattoos,Cute Tattoos,Body Art Tattoos,Sleeve Tattoos,Tatoos,Hip Tattoos For Girls,Pretty Tattoos For Women</td><td>50+ Chic & Sexy Hip Tattoos for Women</td><td>7a53684d-5311-4fa2-b25e-23a6c855fa9f</td></tr><tr><td>christmas</td><td>These paper Christmas trees will become a wonderful embellishment for your home in winter, especially at Christmas. These Christmas trees are simple to make with our templates a… </td><td>1</td><td>26k</td><td>https://i.pinimg.com/originals/bd/03/a4/bd03a4d4f0098ba369279e38aa3506bf.jpg</td><td>2324</td><td>image</td><td>OGCrafts | DIY Paper Flowers | Video Tutorials | SVG's</td><td>Local save in /data/christmas</td><td>Diy Paper Christmas Tree,Christmas Tree Template,3d Christmas Tree,Christmas Origami,Christmas Holidays,All Things Christmas,Christmas Tree Printable,Christmas Tree Cutting,Handmade Christmas Tree</td><td>How to make paper Christmas trees -  video tutorial + SVG PDF templates by OGCrafts</td><td>84a8a88b-1741-4cbe-a274-71f76db2c8b9</td></tr><tr><td>christmas</td><td>This popsicle stick elf craft is a fun Christmas activity for kids! Learn how to easily make this and download the free printable template today. Make with kindergarten and elem… </td><td>1</td><td>266k</td><td>https://i.pinimg.com/originals/84/e7/a9/84e7a958c895f3617c2b4d277c18e7ac.png</td><td>2375</td><td>image</td><td>Easy Kids Crafts & Activities | Preschool & Kindergarten Ideas</td><td>Local save in /data/christmas</td><td>Christmas Activities For Kids,Christmas Crafts For Children,Kids Holiday Crafts,Christian Christmas Crafts,Kindergarten Christmas Crafts,Christmas Decorations For Kids,Xmas Crafts,Craft Stick Crafts,Craft Stick Projects</td><td>Festive Elf Popsicle Stick Craft [With Template]</td><td>dfe23412-d535-41b2-9785-66ee29a61421</td></tr><tr><td>tattoos</td><td>Avis au intéressé j’ai une place qui c’est libéré la semaine prochaine 😋😋 #girlswithtattoos #tattoos #tattooedgirls #mandalatattoo #mandala…</td><td>1</td><td>2k</td><td>https://i.pinimg.com/originals/e6/84/6d/e6846daecb176eccfccc1920471a98d0.jpg</td><td>8699</td><td>image</td><td>NoitaDesigns</td><td>Local save in /data/tattoos</td><td>Hand Tattoos,Love Tattoos,Beautiful Tattoos,Body Art Tattoos,New Tattoos,Small Tattoos,Tatoos,Future Tattoos,Awesome Tattoos</td><td>@chik.tattoo on Instagram: “Avis au intéressé j’ai une place qui c’est libéré la semaine prochaine 😋😋 #girlswithtattoos #tattoos #tattooedgirls #mandalatattoo #mandala…”</td><td>91c61561-068b-479f-9030-1cca63e69a8e</td></tr></tbody></table></div>"
      ]
     },
     "metadata": {
      "application/vnd.databricks.v1+output": {
       "addedWidgets": {},
       "aggData": [],
       "aggError": "",
       "aggOverflow": false,
       "aggSchema": [],
       "aggSeriesLimitReached": false,
       "aggType": "",
       "arguments": {},
       "columnCustomDisplayInfos": {},
       "data": [
        [
         "mens-fashion",
         "スポーツミックススタイルやアスレジャースタイルの台頭によって、すっかりおなじみとなった「ジョガーパンツ」。スニーカーと相性抜群なアイテムであり、フーディを合わせたカジュアルなスタイルからジャケットを羽織ったドレスライクなスタイルまで幅広くフィットする。今回はそんな「ジョガーパンツ」にフォーカスして注目の着こなし&アイテムを紹介！",
         1,
         "122k",
         "https://i.pinimg.com/originals/5d/31/e4/5d31e49fada653798f7c8f4c47f65d14.jpg",
         7491,
         "image",
         "OTOKOMAE/男前研究所",
         "Local save in /data/mens-fashion",
         "Streetwear,Mens Casual Hats,Fashion Week Hommes,Herren Style,Moda Blog,Look Man,La Mode Masculine,Outfits With Converse,Black Converse",
         "ジョガーパンツでメンズコーデの足元を軽快にこなす！ | メンズファッションメディア OTOKOMAE",
         "0bfd8ee2-8bc8-4d43-8a43-3f9e5f9678bf"
        ],
        [
         "event-planning",
         "もうすぐ親友の誕生日。何年も共に過ごしてきただけに、毎年の誕生祝いでほとんどのアイデアは出し尽くしてしまい悩み中、、、という方に。今年はちょっと変わったバースデイサプライズで、大好きな親友の素敵な笑顔を引き出してみませんか。",
         1,
         "256k",
         "https://i.pinimg.com/originals/c8/d7/e6/c8d7e693a171205650a1ce50036c45d4.jpg",
         4362,
         "image",
         "LOCARI",
         "Local save in /data/event-planning",
         "Love Ballons,Balloons,Wedding Proposals,Marriage Proposals,Wedding Tags,Wedding Gifts,Wedding Ideas,Diy Wedding,Proposition Romantique",
         "誕生日に親友を必ず笑顔にする11のサプライズ・アイデア♡",
         "3d2ca512-9a37-4bb5-93bc-fca20aaafdce"
        ],
        [
         "vehicles",
         "Пинтерест точно лучше инстаграмма #traffic #траффикнашевсе #траффик_наше_все Траффик наше все&#33; Продвижение, SEO, SMM &#128077;&#127995;Я влюблен в эту программ",
         1,
         "283",
         "https://i.pinimg.com/originals/84/a3/17/84a317acbdd5fca1c3b80ea30d45c370.jpg",
         10981,
         "image",
         "Edward Kramli",
         "Local save in /data/vehicles",
         "Luxury Sports Cars,Top Luxury Cars,Sport Cars,Exotic Sports Cars,Mercedes Benz Amg,Carros Mercedes Benz,Benz Car,Carros Lamborghini,Carros Audi",
         "Пинтерест точно лучше инстаграмма.. | Траффик наше все! Продвижение, SEO, SMM",
         "682f6f97-33d6-4b5b-bae7-b94615ea3091"
        ],
        [
         "christmas",
         "6.5Ft + Pearl & Pine Cone Design - This Pearl & Pine Cone string light as a Christmas decor light. 6.5 Foot/2 Meters plated copper wire and 20 LED Lights, The led string lights… ",
         1,
         "5k",
         "https://i.pinimg.com/originals/3f/94/40/3f94400a8d9878d76db9d68126161b13.jpg",
         2244,
         "image",
         "Wear24-7",
         "Local save in /data/christmas",
         "Mini Christmas Tree Decorations,Christmas Pine Cones,Christmas Fairy Lights,Led Fairy Lights,Xmas Lights,Xmas Wreaths,Christmas Bells,Outdoor Christmas,Christmas Holidays",
         "Christmas String Lights with Pine Cone Red Pearl Bell Garland with Lights 20 LED Warm White Battery Operated Christmas Tree Decor Light for Christmas Holiday Indoor Table Party Decoration",
         "20485f66-1504-4272-bb96-049d7564abdd"
        ],
        [
         "christmas",
         "Christmas decorating ideas for porches. Beautiful holiday decor ideas for front porches both small and large. Outdoor decorations like sleds, lanterns, Christmas trees, wreaths,… ",
         1,
         "46k",
         "https://i.pinimg.com/videos/thumbnails/originals/40/83/f5/4083f5b4971bf235f89a4784ab87271e.0000001.jpg",
         2482,
         "video",
         "Life on Summerhill | Home, Holiday Decor & DIY Website",
         "Local save in /data/christmas",
         "Diy Christmas Decorations For Home,Farmhouse Christmas Decor,Christmas Home,Christmas Holidays,Christmas Front Porches,How To Decorate For Christmas,Christmas Porch Ideas,Christmas Decorating Ideas,Large Outdoor Christmas Decorations",
         "FORNT PORCH CHRISTMAS DECORATING IDEAS",
         "08604f20-fa17-4b9a-9949-781717eca6cd"
        ],
        [
         "christmas",
         "Toddler Christmas activity using sticky contact paper. Great for developing fine motor skills and more. #kbn #ohchristmastree #stickycontactpaper #handmadetree #kidschristmas #c… ",
         1,
         "99k",
         "https://i.pinimg.com/originals/a6/61/c8/a661c87eee093cf82d3697b05b9aaee3.jpg",
         2205,
         "image",
         "Laughing Kids Learn | Play Ideas for Kids | Crafts + Activities for Teachers + Parents ",
         "Local save in /data/christmas",
         "Christmas Activities For Toddlers,Preschool Christmas,Holiday Activities,Christmas Paper,Craft Activities,Preschool Crafts,Christmas Themes,Christmas Decorations,Toddler Christmas Crafts",
         "Toddler Christmas activity using sticky contact paper - Laughing Kids Learn",
         "24cbe878-d95a-4902-baef-f831fcb9bbd1"
        ],
        [
         "tattoos",
         "beautiful Dragon ❌ flowers hip tattoo ✿ Strelkov Mikhail ®️ ✧ @strelkovtattoo ✧ Moscow 🇷🇺 ✿ 💖🐉ꕥ💖🐉ꕥ💖🐉ꕥ💖🐉ꕥ💖🐉ꕥ💖 #hiptattoo #floraltattoo #awesomeness #girltattoos #bes… ",
         1,
         "202k",
         "https://i.pinimg.com/originals/03/bc/5d/03bc5dd8b52fbb4fe698a49f96b9458f.jpg",
         8554,
         "image",
         "kickassthings.com",
         "Local save in /data/tattoos",
         "Red Ink Tattoos,Baby Tattoos,Mini Tattoos,Cute Tattoos,Body Art Tattoos,Sleeve Tattoos,Tatoos,Hip Tattoos For Girls,Pretty Tattoos For Women",
         "50+ Chic & Sexy Hip Tattoos for Women",
         "7a53684d-5311-4fa2-b25e-23a6c855fa9f"
        ],
        [
         "christmas",
         "These paper Christmas trees will become a wonderful embellishment for your home in winter, especially at Christmas. These Christmas trees are simple to make with our templates a… ",
         1,
         "26k",
         "https://i.pinimg.com/originals/bd/03/a4/bd03a4d4f0098ba369279e38aa3506bf.jpg",
         2324,
         "image",
         "OGCrafts | DIY Paper Flowers | Video Tutorials | SVG's",
         "Local save in /data/christmas",
         "Diy Paper Christmas Tree,Christmas Tree Template,3d Christmas Tree,Christmas Origami,Christmas Holidays,All Things Christmas,Christmas Tree Printable,Christmas Tree Cutting,Handmade Christmas Tree",
         "How to make paper Christmas trees -  video tutorial + SVG PDF templates by OGCrafts",
         "84a8a88b-1741-4cbe-a274-71f76db2c8b9"
        ],
        [
         "christmas",
         "This popsicle stick elf craft is a fun Christmas activity for kids! Learn how to easily make this and download the free printable template today. Make with kindergarten and elem… ",
         1,
         "266k",
         "https://i.pinimg.com/originals/84/e7/a9/84e7a958c895f3617c2b4d277c18e7ac.png",
         2375,
         "image",
         "Easy Kids Crafts & Activities | Preschool & Kindergarten Ideas",
         "Local save in /data/christmas",
         "Christmas Activities For Kids,Christmas Crafts For Children,Kids Holiday Crafts,Christian Christmas Crafts,Kindergarten Christmas Crafts,Christmas Decorations For Kids,Xmas Crafts,Craft Stick Crafts,Craft Stick Projects",
         "Festive Elf Popsicle Stick Craft [With Template]",
         "dfe23412-d535-41b2-9785-66ee29a61421"
        ],
        [
         "tattoos",
         "Avis au intéressé j’ai une place qui c’est libéré la semaine prochaine 😋😋 #girlswithtattoos #tattoos #tattooedgirls #mandalatattoo #mandala…",
         1,
         "2k",
         "https://i.pinimg.com/originals/e6/84/6d/e6846daecb176eccfccc1920471a98d0.jpg",
         8699,
         "image",
         "NoitaDesigns",
         "Local save in /data/tattoos",
         "Hand Tattoos,Love Tattoos,Beautiful Tattoos,Body Art Tattoos,New Tattoos,Small Tattoos,Tatoos,Future Tattoos,Awesome Tattoos",
         "@chik.tattoo on Instagram: “Avis au intéressé j’ai une place qui c’est libéré la semaine prochaine 😋😋 #girlswithtattoos #tattoos #tattooedgirls #mandalatattoo #mandala…”",
         "91c61561-068b-479f-9030-1cca63e69a8e"
        ]
       ],
       "datasetInfos": [],
       "dbfsResultPath": null,
       "isJsonSchema": true,
       "metadata": {},
       "overflow": false,
       "plotOptions": {
        "customPlotOptions": {},
        "displayType": "table",
        "pivotAggregation": null,
        "pivotColumns": null,
        "xColumns": null,
        "yColumns": null
       },
       "removedWidgets": [],
       "schema": [
        {
         "metadata": "{}",
         "name": "category",
         "type": "\"string\""
        },
        {
         "metadata": "{}",
         "name": "description",
         "type": "\"string\""
        },
        {
         "metadata": "{}",
         "name": "downloaded",
         "type": "\"long\""
        },
        {
         "metadata": "{}",
         "name": "follower_count",
         "type": "\"string\""
        },
        {
         "metadata": "{}",
         "name": "image_src",
         "type": "\"string\""
        },
        {
         "metadata": "{}",
         "name": "index",
         "type": "\"long\""
        },
        {
         "metadata": "{}",
         "name": "is_image_or_video",
         "type": "\"string\""
        },
        {
         "metadata": "{}",
         "name": "poster_name",
         "type": "\"string\""
        },
        {
         "metadata": "{}",
         "name": "save_location",
         "type": "\"string\""
        },
        {
         "metadata": "{}",
         "name": "tag_list",
         "type": "\"string\""
        },
        {
         "metadata": "{}",
         "name": "title",
         "type": "\"string\""
        },
        {
         "metadata": "{}",
         "name": "unique_id",
         "type": "\"string\""
        }
       ],
       "type": "table"
      }
     },
     "output_type": "display_data"
    },
    {
     "output_type": "display_data",
     "data": {
      "text/html": [
       "<style scoped>\n",
       "  .table-result-container {\n",
       "    max-height: 300px;\n",
       "    overflow: auto;\n",
       "  }\n",
       "  table, th, td {\n",
       "    border: 1px solid black;\n",
       "    border-collapse: collapse;\n",
       "  }\n",
       "  th, td {\n",
       "    padding: 5px;\n",
       "  }\n",
       "  th {\n",
       "    text-align: left;\n",
       "  }\n",
       "</style><div class='table-result-container'><table class='table-result'><thead style='background-color: white'><tr><th>country</th><th>ind</th><th>latitude</th><th>longitude</th><th>timestamp</th></tr></thead><tbody><tr><td>British Indian Ocean Territory (Chagos Archipelago)</td><td>8221</td><td>-20.5574</td><td>-54.4834</td><td>2021-12-29T06:33:46</td></tr><tr><td>British Indian Ocean Territory (Chagos Archipelago)</td><td>7151</td><td>-14.6744</td><td>-75.3714</td><td>2020-06-05T23:37:24</td></tr><tr><td>British Indian Ocean Territory (Chagos Archipelago)</td><td>7569</td><td>-86.5675</td><td>-149.565</td><td>2018-10-16T08:40:26</td></tr><tr><td>British Indian Ocean Territory (Chagos Archipelago)</td><td>6731</td><td>-86.5675</td><td>-149.565</td><td>2021-06-08T19:10:49</td></tr><tr><td>British Indian Ocean Territory (Chagos Archipelago)</td><td>9345</td><td>22.1505</td><td>-158.823</td><td>2020-06-20T08:22:49</td></tr><tr><td>Antarctica (the territory South of 60 deg S)</td><td>9127</td><td>-77.9931</td><td>-175.682</td><td>2021-09-25T14:31:22</td></tr><tr><td>Antarctica (the territory South of 60 deg S)</td><td>5855</td><td>-84.9073</td><td>-105.769</td><td>2022-04-19T19:50:22</td></tr><tr><td>Antarctica (the territory South of 60 deg S)</td><td>7743</td><td>-24.9999</td><td>-92.9126</td><td>2020-06-02T06:18:41</td></tr><tr><td>Antarctica (the territory South of 60 deg S)</td><td>2294</td><td>-88.4642</td><td>-171.061</td><td>2020-05-04T09:26:02</td></tr><tr><td>South Georgia and the South Sandwich Islands</td><td>10024</td><td>-24.7257</td><td>89.1335</td><td>2021-03-19T02:41:59</td></tr></tbody></table></div>"
      ]
     },
     "metadata": {
      "application/vnd.databricks.v1+output": {
       "addedWidgets": {},
       "aggData": [],
       "aggError": "",
       "aggOverflow": false,
       "aggSchema": [],
       "aggSeriesLimitReached": false,
       "aggType": "",
       "arguments": {},
       "columnCustomDisplayInfos": {},
       "data": [
        [
         "British Indian Ocean Territory (Chagos Archipelago)",
         8221,
         -20.5574,
         -54.4834,
         "2021-12-29T06:33:46"
        ],
        [
         "British Indian Ocean Territory (Chagos Archipelago)",
         7151,
         -14.6744,
         -75.3714,
         "2020-06-05T23:37:24"
        ],
        [
         "British Indian Ocean Territory (Chagos Archipelago)",
         7569,
         -86.5675,
         -149.565,
         "2018-10-16T08:40:26"
        ],
        [
         "British Indian Ocean Territory (Chagos Archipelago)",
         6731,
         -86.5675,
         -149.565,
         "2021-06-08T19:10:49"
        ],
        [
         "British Indian Ocean Territory (Chagos Archipelago)",
         9345,
         22.1505,
         -158.823,
         "2020-06-20T08:22:49"
        ],
        [
         "Antarctica (the territory South of 60 deg S)",
         9127,
         -77.9931,
         -175.682,
         "2021-09-25T14:31:22"
        ],
        [
         "Antarctica (the territory South of 60 deg S)",
         5855,
         -84.9073,
         -105.769,
         "2022-04-19T19:50:22"
        ],
        [
         "Antarctica (the territory South of 60 deg S)",
         7743,
         -24.9999,
         -92.9126,
         "2020-06-02T06:18:41"
        ],
        [
         "Antarctica (the territory South of 60 deg S)",
         2294,
         -88.4642,
         -171.061,
         "2020-05-04T09:26:02"
        ],
        [
         "South Georgia and the South Sandwich Islands",
         10024,
         -24.7257,
         89.1335,
         "2021-03-19T02:41:59"
        ]
       ],
       "datasetInfos": [],
       "dbfsResultPath": null,
       "isJsonSchema": true,
       "metadata": {},
       "overflow": false,
       "plotOptions": {
        "customPlotOptions": {},
        "displayType": "table",
        "pivotAggregation": null,
        "pivotColumns": null,
        "xColumns": null,
        "yColumns": null
       },
       "removedWidgets": [],
       "schema": [
        {
         "metadata": "{}",
         "name": "country",
         "type": "\"string\""
        },
        {
         "metadata": "{}",
         "name": "ind",
         "type": "\"long\""
        },
        {
         "metadata": "{}",
         "name": "latitude",
         "type": "\"double\""
        },
        {
         "metadata": "{}",
         "name": "longitude",
         "type": "\"double\""
        },
        {
         "metadata": "{}",
         "name": "timestamp",
         "type": "\"string\""
        }
       ],
       "type": "table"
      }
     },
     "output_type": "display_data"
    },
    {
     "output_type": "display_data",
     "data": {
      "text/html": [
       "<style scoped>\n",
       "  .table-result-container {\n",
       "    max-height: 300px;\n",
       "    overflow: auto;\n",
       "  }\n",
       "  table, th, td {\n",
       "    border: 1px solid black;\n",
       "    border-collapse: collapse;\n",
       "  }\n",
       "  th, td {\n",
       "    padding: 5px;\n",
       "  }\n",
       "  th {\n",
       "    text-align: left;\n",
       "  }\n",
       "</style><div class='table-result-container'><table class='table-result'><thead style='background-color: white'><tr><th>age</th><th>date_joined</th><th>first_name</th><th>ind</th><th>last_name</th></tr></thead><tbody><tr><td>27</td><td>2017-06-10T17:31:24</td><td>Jacqueline</td><td>9840</td><td>Henderson</td></tr><tr><td>48</td><td>2016-02-27T16:57:44</td><td>Christopher</td><td>1768</td><td>Hamilton</td></tr><tr><td>27</td><td>2016-03-08T13:38:37</td><td>Christopher</td><td>6189</td><td>Bradshaw</td></tr><tr><td>24</td><td>2016-04-06T20:17:29</td><td>Christopher</td><td>8221</td><td>Edwards</td></tr><tr><td>30</td><td>2016-03-02T23:44:12</td><td>Christopher</td><td>813</td><td>Gonzalez</td></tr><tr><td>49</td><td>2016-05-23T19:42:19</td><td>Jennifer</td><td>10190</td><td>Blanchard</td></tr><tr><td>23</td><td>2015-10-31T19:20:09</td><td>Alexandria</td><td>6051</td><td>Anderson</td></tr><tr><td>20</td><td>2015-10-23T04:13:23</td><td>Alexandria</td><td>3929</td><td>Alvarado</td></tr><tr><td>55</td><td>2016-12-09T16:02:06</td><td>Courtney</td><td>9389</td><td>Richardson</td></tr><tr><td>20</td><td>2015-10-23T04:13:23</td><td>Alexandria</td><td>4272</td><td>Alvarado</td></tr></tbody></table></div>"
      ]
     },
     "metadata": {
      "application/vnd.databricks.v1+output": {
       "addedWidgets": {},
       "aggData": [],
       "aggError": "",
       "aggOverflow": false,
       "aggSchema": [],
       "aggSeriesLimitReached": false,
       "aggType": "",
       "arguments": {},
       "columnCustomDisplayInfos": {},
       "data": [
        [
         27,
         "2017-06-10T17:31:24",
         "Jacqueline",
         9840,
         "Henderson"
        ],
        [
         48,
         "2016-02-27T16:57:44",
         "Christopher",
         1768,
         "Hamilton"
        ],
        [
         27,
         "2016-03-08T13:38:37",
         "Christopher",
         6189,
         "Bradshaw"
        ],
        [
         24,
         "2016-04-06T20:17:29",
         "Christopher",
         8221,
         "Edwards"
        ],
        [
         30,
         "2016-03-02T23:44:12",
         "Christopher",
         813,
         "Gonzalez"
        ],
        [
         49,
         "2016-05-23T19:42:19",
         "Jennifer",
         10190,
         "Blanchard"
        ],
        [
         23,
         "2015-10-31T19:20:09",
         "Alexandria",
         6051,
         "Anderson"
        ],
        [
         20,
         "2015-10-23T04:13:23",
         "Alexandria",
         3929,
         "Alvarado"
        ],
        [
         55,
         "2016-12-09T16:02:06",
         "Courtney",
         9389,
         "Richardson"
        ],
        [
         20,
         "2015-10-23T04:13:23",
         "Alexandria",
         4272,
         "Alvarado"
        ]
       ],
       "datasetInfos": [],
       "dbfsResultPath": null,
       "isJsonSchema": true,
       "metadata": {},
       "overflow": false,
       "plotOptions": {
        "customPlotOptions": {},
        "displayType": "table",
        "pivotAggregation": null,
        "pivotColumns": null,
        "xColumns": null,
        "yColumns": null
       },
       "removedWidgets": [],
       "schema": [
        {
         "metadata": "{}",
         "name": "age",
         "type": "\"long\""
        },
        {
         "metadata": "{}",
         "name": "date_joined",
         "type": "\"string\""
        },
        {
         "metadata": "{}",
         "name": "first_name",
         "type": "\"string\""
        },
        {
         "metadata": "{}",
         "name": "ind",
         "type": "\"long\""
        },
        {
         "metadata": "{}",
         "name": "last_name",
         "type": "\"string\""
        }
       ],
       "type": "table"
      }
     },
     "output_type": "display_data"
    }
   ],
   "source": [
    "# File location and type\n",
    "# Asterisk(*) indicates reading all the content of the specified file that have .json extension\n",
    "pin_location = \"/mnt/0affc011d3cf-mount/topics/0affc011d3cf.pin/partition=0/*.json\" \n",
    "geo_location = \"/mnt/0affc011d3cf-mount/topics/0affc011d3cf.geo/partition=0/*.json\" \n",
    "user_location = \"/mnt/0affc011d3cf-mount/topics/0affc011d3cf.user/partition=0/*.json\" \n",
    "\n",
    "file_type = \"json\"\n",
    "\n",
    "# Ask Spark to infer the schema\n",
    "infer_schema = \"true\"\n",
    "\n",
    "# Read in JSONs from mounted S3 bucket\n",
    "# load pin data\n",
    "df_pin = spark.read.format(file_type).option(\"inferSchema\", infer_schema).load(pin_location)\n",
    "\n",
    "# load geo data\n",
    "df_geo = spark.read.format(file_type).option(\"inferSchema\", infer_schema).load(geo_location)\n",
    "\n",
    "# load user data\n",
    "df_user = spark.read.format(file_type).option(\"inferSchema\", infer_schema).load(user_location)\n",
    "\n",
    "# Display Spark dataframe to check its content\n",
    "df_pin.limit(10).display()\n",
    "df_geo.limit(10).display()\n",
    "df_user.limit(10).display()"
   ]
  }
 ],
 "metadata": {
  "application/vnd.databricks.v1+notebook": {
   "dashboards": [],
   "environmentMetadata": null,
   "language": "python",
   "notebookMetadata": {
    "pythonIndentUnit": 4
   },
   "notebookName": "milestone6-task2-mount-S3-bucket",
   "widgets": {}
  }
 },
 "nbformat": 4,
 "nbformat_minor": 0
}
