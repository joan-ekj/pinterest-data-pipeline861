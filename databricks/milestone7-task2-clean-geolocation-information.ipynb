{
 "cells": [
  {
   "cell_type": "code",
   "execution_count": 0,
   "metadata": {
    "application/vnd.databricks.v1+cell": {
     "cellMetadata": {
      "byteLimit": 2048000,
      "rowLimit": 10000
     },
     "inputWidgets": {},
     "nuid": "cc26e4ff-af41-4e6b-8d98-739ce16ec956",
     "showTitle": false,
     "title": ""
    }
   },
   "outputs": [
    {
     "output_type": "display_data",
     "data": {
      "text/html": [
       "<style scoped>\n",
       "  .ansiout {\n",
       "    display: block;\n",
       "    unicode-bidi: embed;\n",
       "    white-space: pre-wrap;\n",
       "    word-wrap: break-word;\n",
       "    word-break: break-all;\n",
       "    font-family: \"Menlo\", \"Monaco\", \"Consolas\", \"Ubuntu Mono\", \"Source Code Pro\", monospace;\n",
       "    font-size: 13px;\n",
       "    color: #555;\n",
       "    margin-left: 4px;\n",
       "    line-height: 19px;\n",
       "  }\n",
       "</style>\n",
       "<div class=\"ansiout\"></div>"
      ]
     },
     "metadata": {
      "application/vnd.databricks.v1+output": {
       "addedWidgets": {},
       "arguments": {},
       "data": "<div class=\"ansiout\"></div>",
       "datasetInfos": [],
       "metadata": {},
       "removedWidgets": [],
       "type": "html"
      }
     },
     "output_type": "display_data"
    }
   ],
   "source": [
    "# Define the file location and type\n",
    "geo_location = \"/mnt/0affc011d3cf-mount/topics/0affc011d3cf.geo/partition=0/*.json\"\n",
    "file_type = \"json\"\n",
    "infer_schema = \"true\"\n",
    "\n",
    "# Load the JSON files into a Spark DataFrame\n",
    "df_geo = spark.read.format(file_type).option(\"inferSchema\", infer_schema).load(geo_location)\n"
   ]
  },
  {
   "cell_type": "code",
   "execution_count": 0,
   "metadata": {
    "application/vnd.databricks.v1+cell": {
     "cellMetadata": {
      "byteLimit": 2048000,
      "rowLimit": 10000
     },
     "inputWidgets": {},
     "nuid": "87c6e582-7782-4036-92a3-e595f02e9257",
     "showTitle": false,
     "title": ""
    }
   },
   "outputs": [
    {
     "output_type": "display_data",
     "data": {
      "text/html": [
       "<style scoped>\n",
       "  .ansiout {\n",
       "    display: block;\n",
       "    unicode-bidi: embed;\n",
       "    white-space: pre-wrap;\n",
       "    word-wrap: break-word;\n",
       "    word-break: break-all;\n",
       "    font-family: \"Menlo\", \"Monaco\", \"Consolas\", \"Ubuntu Mono\", \"Source Code Pro\", monospace;\n",
       "    font-size: 13px;\n",
       "    color: #555;\n",
       "    margin-left: 4px;\n",
       "    line-height: 19px;\n",
       "  }\n",
       "</style>\n",
       "<div class=\"ansiout\"></div>"
      ]
     },
     "metadata": {
      "application/vnd.databricks.v1+output": {
       "addedWidgets": {},
       "arguments": {},
       "data": "<div class=\"ansiout\"></div>",
       "datasetInfos": [],
       "metadata": {},
       "removedWidgets": [],
       "type": "html"
      }
     },
     "output_type": "display_data"
    }
   ],
   "source": [
    "from pyspark.sql.functions import array, to_timestamp\n",
    "\n",
    "def create_coordinates_col(df):\n",
    "    return df.withColumn(\"coordinates\", array(\"latitude\", \"longitude\"))\n",
    "\n",
    "def drop_long_lat(df):\n",
    "    return df.drop(\"latitude\", \"longitude\")\n",
    "\n",
    "def convert_to_timestamp(df):\n",
    "    return df.withColumn(\"timestamp\", to_timestamp(\"timestamp\"))\n",
    "\n",
    "def order_columns(df):\n",
    "    return df.select('ind', 'country', 'coordinates', 'timestamp')\n",
    "  "
   ]
  },
  {
   "cell_type": "code",
   "execution_count": 0,
   "metadata": {
    "application/vnd.databricks.v1+cell": {
     "cellMetadata": {
      "byteLimit": 2048000,
      "rowLimit": 10000
     },
     "inputWidgets": {},
     "nuid": "29d56640-3e67-4dea-a05e-408b64071f02",
     "showTitle": false,
     "title": ""
    }
   },
   "outputs": [
    {
     "output_type": "display_data",
     "data": {
      "text/html": [
       "<style scoped>\n",
       "  .table-result-container {\n",
       "    max-height: 300px;\n",
       "    overflow: auto;\n",
       "  }\n",
       "  table, th, td {\n",
       "    border: 1px solid black;\n",
       "    border-collapse: collapse;\n",
       "  }\n",
       "  th, td {\n",
       "    padding: 5px;\n",
       "  }\n",
       "  th {\n",
       "    text-align: left;\n",
       "  }\n",
       "</style><div class='table-result-container'><table class='table-result'><thead style='background-color: white'><tr><th>ind</th><th>country</th><th>coordinates</th><th>timestamp</th></tr></thead><tbody><tr><td>8221</td><td>British Indian Ocean Territory (Chagos Archipelago)</td><td>List(-20.5574, -54.4834)</td><td>2021-12-29T06:33:46.000+0000</td></tr><tr><td>7151</td><td>British Indian Ocean Territory (Chagos Archipelago)</td><td>List(-14.6744, -75.3714)</td><td>2020-06-05T23:37:24.000+0000</td></tr><tr><td>7569</td><td>British Indian Ocean Territory (Chagos Archipelago)</td><td>List(-86.5675, -149.565)</td><td>2018-10-16T08:40:26.000+0000</td></tr><tr><td>6731</td><td>British Indian Ocean Territory (Chagos Archipelago)</td><td>List(-86.5675, -149.565)</td><td>2021-06-08T19:10:49.000+0000</td></tr><tr><td>9345</td><td>British Indian Ocean Territory (Chagos Archipelago)</td><td>List(22.1505, -158.823)</td><td>2020-06-20T08:22:49.000+0000</td></tr><tr><td>9127</td><td>Antarctica (the territory South of 60 deg S)</td><td>List(-77.9931, -175.682)</td><td>2021-09-25T14:31:22.000+0000</td></tr><tr><td>5855</td><td>Antarctica (the territory South of 60 deg S)</td><td>List(-84.9073, -105.769)</td><td>2022-04-19T19:50:22.000+0000</td></tr><tr><td>7743</td><td>Antarctica (the territory South of 60 deg S)</td><td>List(-24.9999, -92.9126)</td><td>2020-06-02T06:18:41.000+0000</td></tr><tr><td>2294</td><td>Antarctica (the territory South of 60 deg S)</td><td>List(-88.4642, -171.061)</td><td>2020-05-04T09:26:02.000+0000</td></tr><tr><td>10024</td><td>South Georgia and the South Sandwich Islands</td><td>List(-24.7257, 89.1335)</td><td>2021-03-19T02:41:59.000+0000</td></tr></tbody></table></div>"
      ]
     },
     "metadata": {
      "application/vnd.databricks.v1+output": {
       "addedWidgets": {},
       "aggData": [],
       "aggError": "",
       "aggOverflow": false,
       "aggSchema": [],
       "aggSeriesLimitReached": false,
       "aggType": "",
       "arguments": {},
       "columnCustomDisplayInfos": {},
       "data": [
        [
         8221,
         "British Indian Ocean Territory (Chagos Archipelago)",
         [
          -20.5574,
          -54.4834
         ],
         "2021-12-29T06:33:46.000+0000"
        ],
        [
         7151,
         "British Indian Ocean Territory (Chagos Archipelago)",
         [
          -14.6744,
          -75.3714
         ],
         "2020-06-05T23:37:24.000+0000"
        ],
        [
         7569,
         "British Indian Ocean Territory (Chagos Archipelago)",
         [
          -86.5675,
          -149.565
         ],
         "2018-10-16T08:40:26.000+0000"
        ],
        [
         6731,
         "British Indian Ocean Territory (Chagos Archipelago)",
         [
          -86.5675,
          -149.565
         ],
         "2021-06-08T19:10:49.000+0000"
        ],
        [
         9345,
         "British Indian Ocean Territory (Chagos Archipelago)",
         [
          22.1505,
          -158.823
         ],
         "2020-06-20T08:22:49.000+0000"
        ],
        [
         9127,
         "Antarctica (the territory South of 60 deg S)",
         [
          -77.9931,
          -175.682
         ],
         "2021-09-25T14:31:22.000+0000"
        ],
        [
         5855,
         "Antarctica (the territory South of 60 deg S)",
         [
          -84.9073,
          -105.769
         ],
         "2022-04-19T19:50:22.000+0000"
        ],
        [
         7743,
         "Antarctica (the territory South of 60 deg S)",
         [
          -24.9999,
          -92.9126
         ],
         "2020-06-02T06:18:41.000+0000"
        ],
        [
         2294,
         "Antarctica (the territory South of 60 deg S)",
         [
          -88.4642,
          -171.061
         ],
         "2020-05-04T09:26:02.000+0000"
        ],
        [
         10024,
         "South Georgia and the South Sandwich Islands",
         [
          -24.7257,
          89.1335
         ],
         "2021-03-19T02:41:59.000+0000"
        ]
       ],
       "datasetInfos": [],
       "dbfsResultPath": null,
       "isJsonSchema": true,
       "metadata": {},
       "overflow": false,
       "plotOptions": {
        "customPlotOptions": {},
        "displayType": "table",
        "pivotAggregation": null,
        "pivotColumns": null,
        "xColumns": null,
        "yColumns": null
       },
       "removedWidgets": [],
       "schema": [
        {
         "metadata": "{}",
         "name": "ind",
         "type": "\"long\""
        },
        {
         "metadata": "{}",
         "name": "country",
         "type": "\"string\""
        },
        {
         "metadata": "{}",
         "name": "coordinates",
         "type": "{\"type\":\"array\",\"elementType\":\"double\",\"containsNull\":true}"
        },
        {
         "metadata": "{}",
         "name": "timestamp",
         "type": "\"timestamp\""
        }
       ],
       "type": "table"
      }
     },
     "output_type": "display_data"
    }
   ],
   "source": [
    "df_geo = create_coordinates_col(df_geo)\n",
    "df_geo = drop_long_lat(df_geo)\n",
    "df_geo = convert_to_timestamp(df_geo)\n",
    "cleaned_geo = order_columns(df_geo)\n",
    "\n",
    "cleaned_geo.limit(10).display()"
   ]
  },
  {
   "cell_type": "code",
   "execution_count": 0,
   "metadata": {
    "application/vnd.databricks.v1+cell": {
     "cellMetadata": {
      "byteLimit": 2048000,
      "rowLimit": 10000
     },
     "inputWidgets": {},
     "nuid": "b89686c2-110d-4a94-ba28-2d09b053f6dd",
     "showTitle": false,
     "title": ""
    }
   },
   "outputs": [
    {
     "output_type": "display_data",
     "data": {
      "text/html": [
       "<style scoped>\n",
       "  .ansiout {\n",
       "    display: block;\n",
       "    unicode-bidi: embed;\n",
       "    white-space: pre-wrap;\n",
       "    word-wrap: break-word;\n",
       "    word-break: break-all;\n",
       "    font-family: \"Menlo\", \"Monaco\", \"Consolas\", \"Ubuntu Mono\", \"Source Code Pro\", monospace;\n",
       "    font-size: 13px;\n",
       "    color: #555;\n",
       "    margin-left: 4px;\n",
       "    line-height: 19px;\n",
       "  }\n",
       "</style>\n",
       "<div class=\"ansiout\"></div>"
      ]
     },
     "metadata": {
      "application/vnd.databricks.v1+output": {
       "addedWidgets": {},
       "arguments": {},
       "data": "<div class=\"ansiout\"></div>",
       "datasetInfos": [],
       "metadata": {},
       "removedWidgets": [],
       "type": "html"
      }
     },
     "output_type": "display_data"
    }
   ],
   "source": [
    "# Define the Parquet file save location\n",
    "parquet_save_location = \"/mnt/0affc011d3cf-mount/cleaned_geo\"\n",
    "\n",
    "# Save the cleaned DataFrame as a Parquet file\n",
    "cleaned_geo.write.mode('overwrite').parquet(parquet_save_location)"
   ]
  }
 ],
 "metadata": {
  "application/vnd.databricks.v1+notebook": {
   "dashboards": [],
   "environmentMetadata": null,
   "language": "python",
   "notebookMetadata": {
    "pythonIndentUnit": 4
   },
   "notebookName": "milestone7-task2-clean-geolocation-information",
   "widgets": {}
  }
 },
 "nbformat": 4,
 "nbformat_minor": 0
}
