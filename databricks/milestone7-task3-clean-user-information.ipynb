{
 "cells": [
  {
   "cell_type": "code",
   "execution_count": 0,
   "metadata": {
    "application/vnd.databricks.v1+cell": {
     "cellMetadata": {
      "byteLimit": 2048000,
      "rowLimit": 10000
     },
     "inputWidgets": {},
     "nuid": "afa3d618-ee9a-4f66-bf31-26643920816b",
     "showTitle": false,
     "title": ""
    }
   },
   "outputs": [
    {
     "output_type": "display_data",
     "data": {
      "text/html": [
       "<style scoped>\n",
       "  .ansiout {\n",
       "    display: block;\n",
       "    unicode-bidi: embed;\n",
       "    white-space: pre-wrap;\n",
       "    word-wrap: break-word;\n",
       "    word-break: break-all;\n",
       "    font-family: \"Menlo\", \"Monaco\", \"Consolas\", \"Ubuntu Mono\", \"Source Code Pro\", monospace;\n",
       "    font-size: 13px;\n",
       "    color: #555;\n",
       "    margin-left: 4px;\n",
       "    line-height: 19px;\n",
       "  }\n",
       "</style>\n",
       "<div class=\"ansiout\"></div>"
      ]
     },
     "metadata": {
      "application/vnd.databricks.v1+output": {
       "addedWidgets": {},
       "arguments": {},
       "data": "<div class=\"ansiout\"></div>",
       "datasetInfos": [],
       "metadata": {},
       "removedWidgets": [],
       "type": "html"
      }
     },
     "output_type": "display_data"
    }
   ],
   "source": [
    "# Define the file location and type\n",
    "user_location = \"/mnt/0affc011d3cf-mount/topics/0affc011d3cf.user/partition=0/*.json\"\n",
    "file_type = \"json\"\n",
    "infer_schema = \"true\"\n",
    "\n",
    "# Load the JSON files into a Spark DataFrame\n",
    "df_user = spark.read.format(file_type).option(\"inferSchema\", infer_schema).load(user_location)\n"
   ]
  },
  {
   "cell_type": "code",
   "execution_count": 0,
   "metadata": {
    "application/vnd.databricks.v1+cell": {
     "cellMetadata": {
      "byteLimit": 2048000,
      "rowLimit": 10000
     },
     "inputWidgets": {},
     "nuid": "9237c993-9e52-49e5-bcc7-e6bc4cc5c8d4",
     "showTitle": false,
     "title": ""
    }
   },
   "outputs": [
    {
     "output_type": "display_data",
     "data": {
      "text/html": [
       "<style scoped>\n",
       "  .ansiout {\n",
       "    display: block;\n",
       "    unicode-bidi: embed;\n",
       "    white-space: pre-wrap;\n",
       "    word-wrap: break-word;\n",
       "    word-break: break-all;\n",
       "    font-family: \"Menlo\", \"Monaco\", \"Consolas\", \"Ubuntu Mono\", \"Source Code Pro\", monospace;\n",
       "    font-size: 13px;\n",
       "    color: #555;\n",
       "    margin-left: 4px;\n",
       "    line-height: 19px;\n",
       "  }\n",
       "</style>\n",
       "<div class=\"ansiout\"></div>"
      ]
     },
     "metadata": {
      "application/vnd.databricks.v1+output": {
       "addedWidgets": {},
       "arguments": {},
       "data": "<div class=\"ansiout\"></div>",
       "datasetInfos": [],
       "metadata": {},
       "removedWidgets": [],
       "type": "html"
      }
     },
     "output_type": "display_data"
    }
   ],
   "source": [
    "from pyspark.sql.functions import to_timestamp, concat, lit\n",
    "\n",
    "def create_user_name(df):\n",
    "    return df.withColumn(\"user_name\", concat(\"first_name\", lit(\" \"), \"last_name\"))\n",
    "\n",
    "def drop_first_last_name(df):\n",
    "    return df.drop(\"first_name\", \"last_name\")\n",
    "\n",
    "def convert_to_timestamp(df):\n",
    "    return df.withColumn(\"date_joined\", to_timestamp(\"date_joined\"))\n",
    "\n",
    "def order_columns(df):\n",
    "    return df.select('ind', 'user_name', 'age', 'date_joined')"
   ]
  },
  {
   "cell_type": "code",
   "execution_count": 0,
   "metadata": {
    "application/vnd.databricks.v1+cell": {
     "cellMetadata": {
      "byteLimit": 2048000,
      "rowLimit": 10000
     },
     "inputWidgets": {},
     "nuid": "e5cf114e-421d-48df-ba56-33c2cb4e6edd",
     "showTitle": false,
     "title": ""
    }
   },
   "outputs": [
    {
     "output_type": "display_data",
     "data": {
      "text/html": [
       "<style scoped>\n",
       "  .table-result-container {\n",
       "    max-height: 300px;\n",
       "    overflow: auto;\n",
       "  }\n",
       "  table, th, td {\n",
       "    border: 1px solid black;\n",
       "    border-collapse: collapse;\n",
       "  }\n",
       "  th, td {\n",
       "    padding: 5px;\n",
       "  }\n",
       "  th {\n",
       "    text-align: left;\n",
       "  }\n",
       "</style><div class='table-result-container'><table class='table-result'><thead style='background-color: white'><tr><th>ind</th><th>user_name</th><th>age</th><th>date_joined</th></tr></thead><tbody><tr><td>9840</td><td>Jacqueline Henderson</td><td>27</td><td>2017-06-10T17:31:24.000+0000</td></tr><tr><td>1768</td><td>Christopher Hamilton</td><td>48</td><td>2016-02-27T16:57:44.000+0000</td></tr><tr><td>6189</td><td>Christopher Bradshaw</td><td>27</td><td>2016-03-08T13:38:37.000+0000</td></tr><tr><td>8221</td><td>Christopher Edwards</td><td>24</td><td>2016-04-06T20:17:29.000+0000</td></tr><tr><td>813</td><td>Christopher Gonzalez</td><td>30</td><td>2016-03-02T23:44:12.000+0000</td></tr><tr><td>10190</td><td>Jennifer Blanchard</td><td>49</td><td>2016-05-23T19:42:19.000+0000</td></tr><tr><td>6051</td><td>Alexandria Anderson</td><td>23</td><td>2015-10-31T19:20:09.000+0000</td></tr><tr><td>3929</td><td>Alexandria Alvarado</td><td>20</td><td>2015-10-23T04:13:23.000+0000</td></tr><tr><td>9389</td><td>Courtney Richardson</td><td>55</td><td>2016-12-09T16:02:06.000+0000</td></tr><tr><td>4272</td><td>Alexandria Alvarado</td><td>20</td><td>2015-10-23T04:13:23.000+0000</td></tr></tbody></table></div>"
      ]
     },
     "metadata": {
      "application/vnd.databricks.v1+output": {
       "addedWidgets": {},
       "aggData": [],
       "aggError": "",
       "aggOverflow": false,
       "aggSchema": [],
       "aggSeriesLimitReached": false,
       "aggType": "",
       "arguments": {},
       "columnCustomDisplayInfos": {},
       "data": [
        [
         9840,
         "Jacqueline Henderson",
         27,
         "2017-06-10T17:31:24.000+0000"
        ],
        [
         1768,
         "Christopher Hamilton",
         48,
         "2016-02-27T16:57:44.000+0000"
        ],
        [
         6189,
         "Christopher Bradshaw",
         27,
         "2016-03-08T13:38:37.000+0000"
        ],
        [
         8221,
         "Christopher Edwards",
         24,
         "2016-04-06T20:17:29.000+0000"
        ],
        [
         813,
         "Christopher Gonzalez",
         30,
         "2016-03-02T23:44:12.000+0000"
        ],
        [
         10190,
         "Jennifer Blanchard",
         49,
         "2016-05-23T19:42:19.000+0000"
        ],
        [
         6051,
         "Alexandria Anderson",
         23,
         "2015-10-31T19:20:09.000+0000"
        ],
        [
         3929,
         "Alexandria Alvarado",
         20,
         "2015-10-23T04:13:23.000+0000"
        ],
        [
         9389,
         "Courtney Richardson",
         55,
         "2016-12-09T16:02:06.000+0000"
        ],
        [
         4272,
         "Alexandria Alvarado",
         20,
         "2015-10-23T04:13:23.000+0000"
        ]
       ],
       "datasetInfos": [],
       "dbfsResultPath": null,
       "isJsonSchema": true,
       "metadata": {},
       "overflow": false,
       "plotOptions": {
        "customPlotOptions": {},
        "displayType": "table",
        "pivotAggregation": null,
        "pivotColumns": null,
        "xColumns": null,
        "yColumns": null
       },
       "removedWidgets": [],
       "schema": [
        {
         "metadata": "{}",
         "name": "ind",
         "type": "\"long\""
        },
        {
         "metadata": "{}",
         "name": "user_name",
         "type": "\"string\""
        },
        {
         "metadata": "{}",
         "name": "age",
         "type": "\"long\""
        },
        {
         "metadata": "{}",
         "name": "date_joined",
         "type": "\"timestamp\""
        }
       ],
       "type": "table"
      }
     },
     "output_type": "display_data"
    }
   ],
   "source": [
    "df_user = create_user_name(df_user)\n",
    "df_user = drop_first_last_name(df_user)\n",
    "df_user = convert_to_timestamp(df_user)\n",
    "cleaned_user = order_columns(df_user)\n",
    "\n",
    "cleaned_user.limit(10).display()\n"
   ]
  },
  {
   "cell_type": "code",
   "execution_count": 0,
   "metadata": {
    "application/vnd.databricks.v1+cell": {
     "cellMetadata": {
      "byteLimit": 2048000,
      "rowLimit": 10000
     },
     "inputWidgets": {},
     "nuid": "0c4ea556-263c-46df-ba48-e92424fb9359",
     "showTitle": false,
     "title": ""
    }
   },
   "outputs": [
    {
     "output_type": "display_data",
     "data": {
      "text/html": [
       "<style scoped>\n",
       "  .ansiout {\n",
       "    display: block;\n",
       "    unicode-bidi: embed;\n",
       "    white-space: pre-wrap;\n",
       "    word-wrap: break-word;\n",
       "    word-break: break-all;\n",
       "    font-family: \"Menlo\", \"Monaco\", \"Consolas\", \"Ubuntu Mono\", \"Source Code Pro\", monospace;\n",
       "    font-size: 13px;\n",
       "    color: #555;\n",
       "    margin-left: 4px;\n",
       "    line-height: 19px;\n",
       "  }\n",
       "</style>\n",
       "<div class=\"ansiout\"></div>"
      ]
     },
     "metadata": {
      "application/vnd.databricks.v1+output": {
       "addedWidgets": {},
       "arguments": {},
       "data": "<div class=\"ansiout\"></div>",
       "datasetInfos": [],
       "metadata": {},
       "removedWidgets": [],
       "type": "html"
      }
     },
     "output_type": "display_data"
    }
   ],
   "source": [
    "# Define the Parquet file save location\n",
    "parquet_save_location = \"/mnt/0affc011d3cf-mount/cleaned_user\"\n",
    "\n",
    "# Save the cleaned DataFrame as a Parquet file\n",
    "cleaned_user.write.mode('overwrite').parquet(parquet_save_location)"
   ]
  }
 ],
 "metadata": {
  "application/vnd.databricks.v1+notebook": {
   "dashboards": [],
   "environmentMetadata": null,
   "language": "python",
   "notebookMetadata": {
    "pythonIndentUnit": 4
   },
   "notebookName": "milestone7-task3-clean-user-information",
   "widgets": {}
  }
 },
 "nbformat": 4,
 "nbformat_minor": 0
}
